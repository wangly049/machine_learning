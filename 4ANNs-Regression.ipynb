{
 "cells": [
  {
   "cell_type": "markdown",
   "metadata": {},
   "source": [
    "# Artificial Neural Networks Regression Exercise"
   ]
  },
  {
   "cell_type": "markdown",
   "metadata": {},
   "source": [
    "## Problem 1"
   ]
  },
  {
   "cell_type": "markdown",
   "metadata": {},
   "source": [
    "Import the file `Materials_Dataset.csv` from the data folder as a pandas DataFrame called `data_1`. \n",
    "\n",
    "This dataset is used for predicting the creep life of metal alloys. It involves 13 features that include the material composition for each alloy (percentage of elements Ni, Al, Co, Cr, Mo, Re, Ru, Ta, W, Ti, Nb), and the testing conditions that include temperature T and the stress. The target column `Creep Life` contains value for the logarithm of the creep rupture life of the alloys.\n",
    "\n",
    "The goal in this exercise is to predict the value of the Creep Life, given the material composition and testing conditions. "
   ]
  },
  {
   "cell_type": "code",
   "execution_count": null,
   "metadata": {
    "tags": []
   },
   "outputs": [],
   "source": [
    "\n",
    "import pandas as pd\n",
    "import numpy as np\n",
    "import sklearn\n",
    "from sklearn.preprocessing import MinMaxScaler\n",
    "from sklearn.model_selection import train_test_split\n",
    "\n",
    "import seaborn as sns\n",
    "import matplotlib.pyplot as plt\n",
    "\n",
    "import tensorflow as tf\n",
    "from tensorflow import keras \n",
    "\n",
    "from keras.layers import Input\n",
    "from keras.layers import Dense\n",
    "from keras.models import Model\n"
   ]
  },
  {
   "cell_type": "code",
   "execution_count": 3,
   "metadata": {},
   "outputs": [
    {
     "data": {
      "text/html": [
       "<div>\n",
       "<style scoped>\n",
       "    .dataframe tbody tr th:only-of-type {\n",
       "        vertical-align: middle;\n",
       "    }\n",
       "\n",
       "    .dataframe tbody tr th {\n",
       "        vertical-align: top;\n",
       "    }\n",
       "\n",
       "    .dataframe thead th {\n",
       "        text-align: right;\n",
       "    }\n",
       "</style>\n",
       "<table border=\"1\" class=\"dataframe\">\n",
       "  <thead>\n",
       "    <tr style=\"text-align: right;\">\n",
       "      <th></th>\n",
       "      <th>Ni</th>\n",
       "      <th>Al</th>\n",
       "      <th>Co</th>\n",
       "      <th>Cr</th>\n",
       "      <th>Mo</th>\n",
       "      <th>Re</th>\n",
       "      <th>Ru</th>\n",
       "      <th>Ta</th>\n",
       "      <th>W</th>\n",
       "      <th>Ti</th>\n",
       "      <th>Nb</th>\n",
       "      <th>T</th>\n",
       "      <th>Stress</th>\n",
       "      <th>Creep Life</th>\n",
       "    </tr>\n",
       "  </thead>\n",
       "  <tbody>\n",
       "    <tr>\n",
       "      <th>0</th>\n",
       "      <td>61.0</td>\n",
       "      <td>5.6</td>\n",
       "      <td>9.0</td>\n",
       "      <td>4.3</td>\n",
       "      <td>2.0</td>\n",
       "      <td>2.0</td>\n",
       "      <td>0.0</td>\n",
       "      <td>7.5</td>\n",
       "      <td>8.0</td>\n",
       "      <td>0.0</td>\n",
       "      <td>0.5</td>\n",
       "      <td>1070</td>\n",
       "      <td>272</td>\n",
       "      <td>0.919078</td>\n",
       "    </tr>\n",
       "    <tr>\n",
       "      <th>1</th>\n",
       "      <td>61.0</td>\n",
       "      <td>5.6</td>\n",
       "      <td>9.0</td>\n",
       "      <td>4.3</td>\n",
       "      <td>2.0</td>\n",
       "      <td>2.0</td>\n",
       "      <td>0.0</td>\n",
       "      <td>7.5</td>\n",
       "      <td>8.0</td>\n",
       "      <td>0.0</td>\n",
       "      <td>0.5</td>\n",
       "      <td>1100</td>\n",
       "      <td>220</td>\n",
       "      <td>0.968483</td>\n",
       "    </tr>\n",
       "    <tr>\n",
       "      <th>2</th>\n",
       "      <td>61.0</td>\n",
       "      <td>5.6</td>\n",
       "      <td>9.0</td>\n",
       "      <td>4.3</td>\n",
       "      <td>2.0</td>\n",
       "      <td>2.0</td>\n",
       "      <td>0.0</td>\n",
       "      <td>7.5</td>\n",
       "      <td>8.0</td>\n",
       "      <td>0.0</td>\n",
       "      <td>0.5</td>\n",
       "      <td>1100</td>\n",
       "      <td>225</td>\n",
       "      <td>0.991226</td>\n",
       "    </tr>\n",
       "    <tr>\n",
       "      <th>3</th>\n",
       "      <td>61.0</td>\n",
       "      <td>5.6</td>\n",
       "      <td>9.0</td>\n",
       "      <td>4.3</td>\n",
       "      <td>2.0</td>\n",
       "      <td>2.0</td>\n",
       "      <td>0.0</td>\n",
       "      <td>7.5</td>\n",
       "      <td>8.0</td>\n",
       "      <td>0.0</td>\n",
       "      <td>0.5</td>\n",
       "      <td>1070</td>\n",
       "      <td>280</td>\n",
       "      <td>1.089905</td>\n",
       "    </tr>\n",
       "    <tr>\n",
       "      <th>4</th>\n",
       "      <td>61.0</td>\n",
       "      <td>5.6</td>\n",
       "      <td>9.0</td>\n",
       "      <td>4.3</td>\n",
       "      <td>2.0</td>\n",
       "      <td>2.0</td>\n",
       "      <td>0.0</td>\n",
       "      <td>7.5</td>\n",
       "      <td>8.0</td>\n",
       "      <td>0.0</td>\n",
       "      <td>0.5</td>\n",
       "      <td>1100</td>\n",
       "      <td>210</td>\n",
       "      <td>1.155336</td>\n",
       "    </tr>\n",
       "  </tbody>\n",
       "</table>\n",
       "</div>"
      ],
      "text/plain": [
       "     Ni   Al   Co   Cr   Mo   Re   Ru   Ta    W   Ti   Nb     T  Stress  \\\n",
       "0  61.0  5.6  9.0  4.3  2.0  2.0  0.0  7.5  8.0  0.0  0.5  1070     272   \n",
       "1  61.0  5.6  9.0  4.3  2.0  2.0  0.0  7.5  8.0  0.0  0.5  1100     220   \n",
       "2  61.0  5.6  9.0  4.3  2.0  2.0  0.0  7.5  8.0  0.0  0.5  1100     225   \n",
       "3  61.0  5.6  9.0  4.3  2.0  2.0  0.0  7.5  8.0  0.0  0.5  1070     280   \n",
       "4  61.0  5.6  9.0  4.3  2.0  2.0  0.0  7.5  8.0  0.0  0.5  1100     210   \n",
       "\n",
       "   Creep Life  \n",
       "0    0.919078  \n",
       "1    0.968483  \n",
       "2    0.991226  \n",
       "3    1.089905  \n",
       "4    1.155336  "
      ]
     },
     "execution_count": 3,
     "metadata": {},
     "output_type": "execute_result"
    }
   ],
   "source": [
    "data_1 = pd.read_csv('data/Materials_Dataset.csv')\n",
    "data_1.head()"
   ]
  },
  {
   "cell_type": "markdown",
   "metadata": {},
   "source": [
    "### Exploratory Data Analysis and Data Preparation "
   ]
  },
  {
   "cell_type": "markdown",
   "metadata": {},
   "source": [
    "Perform a brief Exploratory Data Analysis.\n",
    "\n",
    "Assign the Creep Life column as a target variable, and use the remaining columns as data features.\n",
    "\n",
    "Split the data into training and testing datasets, and scale them into [0, 1] range. Display the shapes of the variables.\n"
   ]
  },
  {
   "cell_type": "code",
   "execution_count": null,
   "metadata": {},
   "outputs": [
    {
     "name": "stdout",
     "output_type": "stream",
     "text": [
      "<class 'pandas.core.frame.DataFrame'>\n",
      "RangeIndex: 152 entries, 0 to 151\n",
      "Data columns (total 14 columns):\n",
      " #   Column      Non-Null Count  Dtype  \n",
      "---  ------      --------------  -----  \n",
      " 0   Ni          152 non-null    float64\n",
      " 1   Al          152 non-null    float64\n",
      " 2   Co          152 non-null    float64\n",
      " 3   Cr          152 non-null    float64\n",
      " 4   Mo          152 non-null    float64\n",
      " 5   Re          152 non-null    float64\n",
      " 6   Ru          152 non-null    float64\n",
      " 7   Ta          152 non-null    float64\n",
      " 8   W           152 non-null    float64\n",
      " 9   Ti          152 non-null    float64\n",
      " 10  Nb          152 non-null    float64\n",
      " 11  T           152 non-null    int64  \n",
      " 12  Stress      152 non-null    int64  \n",
      " 13  Creep Life  152 non-null    float64\n",
      "dtypes: float64(12), int64(2)\n",
      "memory usage: 16.8 KB\n"
     ]
    }
   ],
   "source": [
    "# perform a brief Exploratory Data Analysis\n",
    "# data info()\n",
    "data_1.info()"
   ]
  },
  {
   "cell_type": "code",
   "execution_count": 5,
   "metadata": {},
   "outputs": [
    {
     "data": {
      "text/html": [
       "<div>\n",
       "<style scoped>\n",
       "    .dataframe tbody tr th:only-of-type {\n",
       "        vertical-align: middle;\n",
       "    }\n",
       "\n",
       "    .dataframe tbody tr th {\n",
       "        vertical-align: top;\n",
       "    }\n",
       "\n",
       "    .dataframe thead th {\n",
       "        text-align: right;\n",
       "    }\n",
       "</style>\n",
       "<table border=\"1\" class=\"dataframe\">\n",
       "  <thead>\n",
       "    <tr style=\"text-align: right;\">\n",
       "      <th></th>\n",
       "      <th>Ni</th>\n",
       "      <th>Al</th>\n",
       "      <th>Co</th>\n",
       "      <th>Cr</th>\n",
       "      <th>Mo</th>\n",
       "      <th>Re</th>\n",
       "      <th>Ru</th>\n",
       "      <th>Ta</th>\n",
       "      <th>W</th>\n",
       "      <th>Ti</th>\n",
       "      <th>Nb</th>\n",
       "      <th>T</th>\n",
       "      <th>Stress</th>\n",
       "      <th>Creep Life</th>\n",
       "    </tr>\n",
       "  </thead>\n",
       "  <tbody>\n",
       "    <tr>\n",
       "      <th>count</th>\n",
       "      <td>152.000000</td>\n",
       "      <td>152.000000</td>\n",
       "      <td>152.000000</td>\n",
       "      <td>152.000000</td>\n",
       "      <td>152.000000</td>\n",
       "      <td>152.000000</td>\n",
       "      <td>152.000000</td>\n",
       "      <td>152.000000</td>\n",
       "      <td>152.000000</td>\n",
       "      <td>152.000000</td>\n",
       "      <td>152.000000</td>\n",
       "      <td>152.000000</td>\n",
       "      <td>152.000000</td>\n",
       "      <td>152.000000</td>\n",
       "    </tr>\n",
       "    <tr>\n",
       "      <th>mean</th>\n",
       "      <td>59.467566</td>\n",
       "      <td>5.855921</td>\n",
       "      <td>9.096250</td>\n",
       "      <td>4.169671</td>\n",
       "      <td>1.706447</td>\n",
       "      <td>4.416579</td>\n",
       "      <td>1.323750</td>\n",
       "      <td>7.616184</td>\n",
       "      <td>6.048289</td>\n",
       "      <td>0.104737</td>\n",
       "      <td>0.125132</td>\n",
       "      <td>1069.559211</td>\n",
       "      <td>191.092105</td>\n",
       "      <td>2.213592</td>\n",
       "    </tr>\n",
       "    <tr>\n",
       "      <th>std</th>\n",
       "      <td>3.645787</td>\n",
       "      <td>0.204452</td>\n",
       "      <td>2.809983</td>\n",
       "      <td>1.177143</td>\n",
       "      <td>0.938209</td>\n",
       "      <td>1.208665</td>\n",
       "      <td>1.696514</td>\n",
       "      <td>0.846108</td>\n",
       "      <td>1.066967</td>\n",
       "      <td>0.275945</td>\n",
       "      <td>0.248708</td>\n",
       "      <td>58.368178</td>\n",
       "      <td>77.266406</td>\n",
       "      <td>0.409830</td>\n",
       "    </tr>\n",
       "    <tr>\n",
       "      <th>min</th>\n",
       "      <td>50.570000</td>\n",
       "      <td>5.000000</td>\n",
       "      <td>1.750000</td>\n",
       "      <td>2.000000</td>\n",
       "      <td>0.400000</td>\n",
       "      <td>1.770000</td>\n",
       "      <td>0.000000</td>\n",
       "      <td>3.900000</td>\n",
       "      <td>3.770000</td>\n",
       "      <td>0.000000</td>\n",
       "      <td>0.000000</td>\n",
       "      <td>950.000000</td>\n",
       "      <td>100.000000</td>\n",
       "      <td>0.919078</td>\n",
       "    </tr>\n",
       "    <tr>\n",
       "      <th>25%</th>\n",
       "      <td>57.200000</td>\n",
       "      <td>5.700000</td>\n",
       "      <td>7.000000</td>\n",
       "      <td>3.500000</td>\n",
       "      <td>1.000000</td>\n",
       "      <td>4.000000</td>\n",
       "      <td>0.000000</td>\n",
       "      <td>7.000000</td>\n",
       "      <td>5.400000</td>\n",
       "      <td>0.000000</td>\n",
       "      <td>0.000000</td>\n",
       "      <td>1010.000000</td>\n",
       "      <td>137.000000</td>\n",
       "      <td>2.025247</td>\n",
       "    </tr>\n",
       "    <tr>\n",
       "      <th>50%</th>\n",
       "      <td>59.900000</td>\n",
       "      <td>6.000000</td>\n",
       "      <td>9.000000</td>\n",
       "      <td>4.000000</td>\n",
       "      <td>1.500000</td>\n",
       "      <td>4.500000</td>\n",
       "      <td>0.000000</td>\n",
       "      <td>7.860000</td>\n",
       "      <td>6.000000</td>\n",
       "      <td>0.000000</td>\n",
       "      <td>0.000000</td>\n",
       "      <td>1100.000000</td>\n",
       "      <td>150.000000</td>\n",
       "      <td>2.232841</td>\n",
       "    </tr>\n",
       "    <tr>\n",
       "      <th>75%</th>\n",
       "      <td>61.650000</td>\n",
       "      <td>6.000000</td>\n",
       "      <td>12.000000</td>\n",
       "      <td>4.600000</td>\n",
       "      <td>2.100000</td>\n",
       "      <td>5.000000</td>\n",
       "      <td>2.850000</td>\n",
       "      <td>8.000000</td>\n",
       "      <td>6.525000</td>\n",
       "      <td>0.000000</td>\n",
       "      <td>0.000000</td>\n",
       "      <td>1100.000000</td>\n",
       "      <td>248.000000</td>\n",
       "      <td>2.442355</td>\n",
       "    </tr>\n",
       "    <tr>\n",
       "      <th>max</th>\n",
       "      <td>69.970000</td>\n",
       "      <td>6.200000</td>\n",
       "      <td>16.500000</td>\n",
       "      <td>7.000000</td>\n",
       "      <td>4.010000</td>\n",
       "      <td>6.800000</td>\n",
       "      <td>7.000000</td>\n",
       "      <td>9.000000</td>\n",
       "      <td>9.000000</td>\n",
       "      <td>1.040000</td>\n",
       "      <td>1.500000</td>\n",
       "      <td>1150.000000</td>\n",
       "      <td>400.000000</td>\n",
       "      <td>3.026370</td>\n",
       "    </tr>\n",
       "  </tbody>\n",
       "</table>\n",
       "</div>"
      ],
      "text/plain": [
       "               Ni          Al          Co          Cr          Mo          Re  \\\n",
       "count  152.000000  152.000000  152.000000  152.000000  152.000000  152.000000   \n",
       "mean    59.467566    5.855921    9.096250    4.169671    1.706447    4.416579   \n",
       "std      3.645787    0.204452    2.809983    1.177143    0.938209    1.208665   \n",
       "min     50.570000    5.000000    1.750000    2.000000    0.400000    1.770000   \n",
       "25%     57.200000    5.700000    7.000000    3.500000    1.000000    4.000000   \n",
       "50%     59.900000    6.000000    9.000000    4.000000    1.500000    4.500000   \n",
       "75%     61.650000    6.000000   12.000000    4.600000    2.100000    5.000000   \n",
       "max     69.970000    6.200000   16.500000    7.000000    4.010000    6.800000   \n",
       "\n",
       "               Ru          Ta           W          Ti          Nb  \\\n",
       "count  152.000000  152.000000  152.000000  152.000000  152.000000   \n",
       "mean     1.323750    7.616184    6.048289    0.104737    0.125132   \n",
       "std      1.696514    0.846108    1.066967    0.275945    0.248708   \n",
       "min      0.000000    3.900000    3.770000    0.000000    0.000000   \n",
       "25%      0.000000    7.000000    5.400000    0.000000    0.000000   \n",
       "50%      0.000000    7.860000    6.000000    0.000000    0.000000   \n",
       "75%      2.850000    8.000000    6.525000    0.000000    0.000000   \n",
       "max      7.000000    9.000000    9.000000    1.040000    1.500000   \n",
       "\n",
       "                 T      Stress  Creep Life  \n",
       "count   152.000000  152.000000  152.000000  \n",
       "mean   1069.559211  191.092105    2.213592  \n",
       "std      58.368178   77.266406    0.409830  \n",
       "min     950.000000  100.000000    0.919078  \n",
       "25%    1010.000000  137.000000    2.025247  \n",
       "50%    1100.000000  150.000000    2.232841  \n",
       "75%    1100.000000  248.000000    2.442355  \n",
       "max    1150.000000  400.000000    3.026370  "
      ]
     },
     "execution_count": 5,
     "metadata": {},
     "output_type": "execute_result"
    }
   ],
   "source": [
    "# data describe()\n",
    "data_1.describe()"
   ]
  },
  {
   "cell_type": "code",
   "execution_count": 6,
   "metadata": {},
   "outputs": [
    {
     "data": {
      "image/png": "[encoded data removed]",
      "text/plain": [
       "<Figure size 864x864 with 2 Axes>"
      ]
     },
     "metadata": {
      "needs_background": "light"
     },
     "output_type": "display_data"
    }
   ],
   "source": [
    "# data correlation\n",
    "correlation = data_1.corr()\n",
    "plt.figure(figsize = (12,12))\n",
    "sns.heatmap(correlation, annot = True)\n",
    "plt.title('Feature Correlation')\n",
    "plt.show()"
   ]
  },
  {
   "cell_type": "code",
   "execution_count": 7,
   "metadata": {},
   "outputs": [
    {
     "data": {
      "image/png": "[encoded data removed]",
      "text/plain": [
       "<Figure size 1080x1080 with 16 Axes>"
      ]
     },
     "metadata": {
      "needs_background": "light"
     },
     "output_type": "display_data"
    }
   ],
   "source": [
    "# feature distribution\n",
    "data_1[['Ni', 'Al', 'Co', 'Cr', 'Mo', 'Re', 'Ru', 'Ta', 'W', 'Ti', 'Nb', 'T',\n",
    "       'Stress', 'Creep Life']].hist(bins = 20,figsize = (15,15))\n",
    "plt.tight_layout()"
   ]
  },
  {
   "cell_type": "markdown",
   "metadata": {},
   "source": [
    "Perform a brief Exploratory Data Analysis. \n",
    "\n",
    "Assign the `Creep Life` column as a target variable, and use the remaining columns as data features.\n",
    "\n",
    "Split the data into training and testing datasets, and scale them into [0, 1] range. Display the shapes of the variables. \n"
   ]
  },
  {
   "cell_type": "code",
   "execution_count": 8,
   "metadata": {
    "tags": []
   },
   "outputs": [],
   "source": [
    "# assign the target variable to y and data features to X\n",
    "y = data_1['Creep Life']\n",
    "X = data_1.drop('Creep Life',axis = 1, inplace = True)"
   ]
  },
  {
   "cell_type": "code",
   "execution_count": 9,
   "metadata": {},
   "outputs": [],
   "source": [
    "# split the train dataset and test dataset\n",
    "X_train, X_test, y_train, y_test = train_test_split(X, y, test_size = 0.25, random_state = 123)"
   ]
  },
  {
   "cell_type": "code",
   "execution_count": 10,
   "metadata": {},
   "outputs": [],
   "source": [
    "# scale the X_train and X_test to [0,1]\n",
    "minmax_scaler = MinMaxScaler()\n",
    "X_train_scaled = minmax_scaler.fit_transform(X_train)\n",
    "X_test_scaled = minmax_scaler.transform(X_test)"
   ]
  },
  {
   "cell_type": "code",
   "execution_count": 11,
   "metadata": {},
   "outputs": [
    {
     "name": "stdout",
     "output_type": "stream",
     "text": [
      "X_train_scaled shape:  (114, 13)\n",
      "X_test_scaled shape:  (38, 13)\n",
      "y_train shape:  (114,)\n",
      "y_test shape:  (38,)\n"
     ]
    }
   ],
   "source": [
    "print(\"X_train_scaled shape: \",X_train_scaled.shape)\n",
    "print(\"X_test_scaled shape: \",X_test_scaled.shape)\n",
    "print(\"y_train shape: \",y_train.shape)\n",
    "print(\"y_test shape: \",y_test.shape)"
   ]
  },
  {
   "cell_type": "markdown",
   "metadata": {
    "id": "Swsd7cdMQ9ze"
   },
   "source": [
    "### Train ANNs \n",
    "\n",
    "Create an ANN model with 3 hidden layers called `model_1`. Train the model for 100 epochs and evaluate it on the test dataset. Plot the learning curve. \n"
   ]
  },
  {
   "cell_type": "code",
   "execution_count": null,
   "metadata": {
    "executionInfo": {
     "elapsed": 2686,
     "status": "ok",
     "timestamp": 1680627675660,
     "user": {
      "displayName": "Aleksandar Vakanski",
      "userId": "07675307153279708378"
     },
     "user_tz": 360
    },
    "id": "EKY0bhFXRA--",
    "tags": []
   },
   "outputs": [],
   "source": [
    "# define the layers in the network\n",
    "inputs = Input(shape = (13,))\n",
    "dense1 = Dense(32, activation = 'relu')(inputs)\n",
    "dense2 = Dense(32, activation = 'relu')(dense1)\n",
    "dense3 = Dense(32, activation = 'relu')(dense2)\n",
    "output = Dense(1)(dense3)\n"
   ]
  },
  {
   "cell_type": "code",
   "execution_count": 14,
   "metadata": {},
   "outputs": [
    {
     "name": "stdout",
     "output_type": "stream",
     "text": [
      "Model: \"model\"\n",
      "_________________________________________________________________\n",
      " Layer (type)                Output Shape              Param #   \n",
      "=================================================================\n",
      " input_2 (InputLayer)        [(None, 13)]              0         \n",
      "                                                                 \n",
      " dense_4 (Dense)             (None, 32)                448       \n",
      "                                                                 \n",
      " dense_5 (Dense)             (None, 32)                1056      \n",
      "                                                                 \n",
      " dense_6 (Dense)             (None, 32)                1056      \n",
      "                                                                 \n",
      " dense_7 (Dense)             (None, 1)                 33        \n",
      "                                                                 \n",
      "=================================================================\n",
      "Total params: 2,593\n",
      "Trainable params: 2,593\n",
      "Non-trainable params: 0\n",
      "_________________________________________________________________\n"
     ]
    }
   ],
   "source": [
    "# define the model by proving the inputs and outputs\n",
    "model_1 = Model(inputs, output)\n",
    "model_1.summary()"
   ]
  },
  {
   "cell_type": "code",
   "execution_count": 18,
   "metadata": {},
   "outputs": [],
   "source": [
    "# compile the model\n",
    "model_1.compile(loss = 'mean_squared_error', optimizer = 'adam')"
   ]
  },
  {
   "cell_type": "code",
   "execution_count": 19,
   "metadata": {},
   "outputs": [],
   "source": [
    "# train the model\n",
    "history = model_1.fit(X_train_scaled, y_train, epochs = 100, verbose = 0)"
   ]
  },
  {
   "cell_type": "code",
   "execution_count": 36,
   "metadata": {},
   "outputs": [
    {
     "data": {
      "image/png": "[encoded data removed]",
      "text/plain": [
       "<Figure size 288x216 with 1 Axes>"
      ]
     },
     "metadata": {
      "needs_background": "light"
     },
     "output_type": "display_data"
    }
   ],
   "source": [
    "# plot the training loss\n",
    "\n",
    "train_loss = history.history['loss']\n",
    "epochsn = np.arange(1, len(train_loss)+1, 1)\n",
    "\n",
    "plt.figure(figsize = (4,3))\n",
    "plt.plot(epochsn, train_loss, 'b-')\n",
    "plt.title('Training Loss')\n",
    "plt.grid(color = 'grey',linestyle = '--')\n",
    "plt.xlabel('Epochs')\n",
    "plt.ylabel('Loss')\n",
    "\n",
    "plt.show()"
   ]
  },
  {
   "cell_type": "markdown",
   "metadata": {},
   "source": [
    "Calculate the MSE, MAE, and R2-score metrics on the test dataset."
   ]
  },
  {
   "cell_type": "code",
   "execution_count": null,
   "metadata": {
    "tags": []
   },
   "outputs": [
    {
     "name": "stdout",
     "output_type": "stream",
     "text": [
      "2/2 [==============================] - 0s 3ms/step\n"
     ]
    }
   ],
   "source": [
    "preditions = model_1.predict(X_test_scaled)"
   ]
  },
  {
   "cell_type": "code",
   "execution_count": 31,
   "metadata": {},
   "outputs": [
    {
     "name": "stdout",
     "output_type": "stream",
     "text": [
      "MSE:  0.0546\n",
      "MAE:  0.1928\n",
      "R2_score:  0.6853\n"
     ]
    }
   ],
   "source": [
    "# calculate the MSE, MAE, and R2-score metrics on the test dataset\n",
    "from sklearn.metrics import mean_squared_error, mean_absolute_error, r2_score\n",
    "\n",
    "print(f'MSE: {mean_squared_error(y_test, preditions):7.4f}')\n",
    "print(f'MAE: {mean_absolute_error(y_test, preditions):7.4f}')\n",
    "print(\"R2_score: {0:7.4f}\".format(r2_score(y_test, preditions)))"
   ]
  },
  {
   "cell_type": "markdown",
   "metadata": {
    "tags": []
   },
   "source": [
    "### Train Random Forest \n",
    "\n",
    "Train a Random Forest regression model for predicting the creep life of the materials. \n",
    "\n",
    "Calculate the MSE, MAE, and R2-score metrics on the test dataset.\n",
    "\n",
    "Compare the performance of ANN and RF\n"
   ]
  },
  {
   "cell_type": "code",
   "execution_count": null,
   "metadata": {
    "tags": []
   },
   "outputs": [
    {
     "name": "stdout",
     "output_type": "stream",
     "text": [
      "MSE:  0.0329\n",
      "MAE:  0.1473\n",
      "R2_Score: 0.8104\n"
     ]
    }
   ],
   "source": [
    "\n",
    "from sklearn.ensemble import RandomForestRegressor\n",
    "\n",
    "rf_regressor = RandomForestRegressor()\n",
    "rf_regressor.fit(X_train_scaled, y_train)\n",
    "\n",
    "y_pred= rf_regressor.predict(X_test_scaled)\n",
    "\n",
    "print('MSE: {0:7.4f}'.format(mean_squared_error(y_test, y_pred)))\n",
    "print(f'MAE: {mean_absolute_error(y_test, y_pred):7.4f}')\n",
    "print('R2_Score: %5.4f'%(r2_score(y_test, y_pred)))"
   ]
  },
  {
   "cell_type": "markdown",
   "metadata": {},
   "source": [
    "Comparing the result between ANN and Random Forest model, we can see Random Forest model has a better performance over ANN model. Randoms Forest model has lower MSE and MAE, and has a higher R2_Score."
   ]
  },
  {
   "cell_type": "markdown",
   "metadata": {},
   "source": [
    "Plot the ground-truth and predicted values for the first 10 data points in the test dataset for the ANN and RF models in a single figure. "
   ]
  },
  {
   "cell_type": "code",
   "execution_count": null,
   "metadata": {
    "tags": []
   },
   "outputs": [
    {
     "data": {
      "image/png": "[encoded data removed]",
      "text/plain": [
       "<Figure size 1008x432 with 1 Axes>"
      ]
     },
     "metadata": {
      "needs_background": "light"
     },
     "output_type": "display_data"
    }
   ],
   "source": [
    "\n",
    "plt.figure(figsize = (14,6))\n",
    "pred_ANN = preditions[0:10]\n",
    "pred_rf = y_pred[0:10]\n",
    "y_truth = y_test[0:10]\n",
    "x = np.arange(1,len(pred_ANN)+1, 1)\n",
    "\n",
    "\n",
    "plt.plot(x, pred_ANN, 'bo',label = 'Pred_ANN')\n",
    "plt.plot(x, pred_rf,'r*', label = 'Pred_rf')\n",
    "plt.plot(x, y_truth, 'g^',label = 'y_truth')\n",
    "plt.xlabel('sample')\n",
    "plt.ylabel('Creep Life')\n",
    "plt.legend()\n",
    "plt.show()"
   ]
  },
  {
   "cell_type": "markdown",
   "metadata": {},
   "source": [
    "## Part 2 "
   ]
  },
  {
   "cell_type": "markdown",
   "metadata": {},
   "source": [
    "Import the file `insurance.csv` from the data folder as a pandas DataFrame called `data_2`. \n",
    "\n",
    "The dataset contains information for insurance charges based on age, sex, BMI, number of children, smoker, and region.\n",
    "\n",
    "The goal is to predict insurance charges based on the given features. "
   ]
  },
  {
   "cell_type": "code",
   "execution_count": null,
   "metadata": {
    "tags": []
   },
   "outputs": [
    {
     "data": {
      "text/html": [
       "<div>\n",
       "<style scoped>\n",
       "    .dataframe tbody tr th:only-of-type {\n",
       "        vertical-align: middle;\n",
       "    }\n",
       "\n",
       "    .dataframe tbody tr th {\n",
       "        vertical-align: top;\n",
       "    }\n",
       "\n",
       "    .dataframe thead th {\n",
       "        text-align: right;\n",
       "    }\n",
       "</style>\n",
       "<table border=\"1\" class=\"dataframe\">\n",
       "  <thead>\n",
       "    <tr style=\"text-align: right;\">\n",
       "      <th></th>\n",
       "      <th>age</th>\n",
       "      <th>sex</th>\n",
       "      <th>bmi</th>\n",
       "      <th>children</th>\n",
       "      <th>smoker</th>\n",
       "      <th>region</th>\n",
       "      <th>charges</th>\n",
       "    </tr>\n",
       "  </thead>\n",
       "  <tbody>\n",
       "    <tr>\n",
       "      <th>0</th>\n",
       "      <td>19</td>\n",
       "      <td>female</td>\n",
       "      <td>27.900</td>\n",
       "      <td>0</td>\n",
       "      <td>yes</td>\n",
       "      <td>southwest</td>\n",
       "      <td>16884.92400</td>\n",
       "    </tr>\n",
       "    <tr>\n",
       "      <th>1</th>\n",
       "      <td>18</td>\n",
       "      <td>male</td>\n",
       "      <td>33.770</td>\n",
       "      <td>1</td>\n",
       "      <td>no</td>\n",
       "      <td>southeast</td>\n",
       "      <td>1725.55230</td>\n",
       "    </tr>\n",
       "    <tr>\n",
       "      <th>2</th>\n",
       "      <td>28</td>\n",
       "      <td>male</td>\n",
       "      <td>33.000</td>\n",
       "      <td>3</td>\n",
       "      <td>no</td>\n",
       "      <td>southeast</td>\n",
       "      <td>4449.46200</td>\n",
       "    </tr>\n",
       "    <tr>\n",
       "      <th>3</th>\n",
       "      <td>33</td>\n",
       "      <td>male</td>\n",
       "      <td>22.705</td>\n",
       "      <td>0</td>\n",
       "      <td>no</td>\n",
       "      <td>northwest</td>\n",
       "      <td>21984.47061</td>\n",
       "    </tr>\n",
       "    <tr>\n",
       "      <th>4</th>\n",
       "      <td>32</td>\n",
       "      <td>male</td>\n",
       "      <td>28.880</td>\n",
       "      <td>0</td>\n",
       "      <td>no</td>\n",
       "      <td>northwest</td>\n",
       "      <td>3866.85520</td>\n",
       "    </tr>\n",
       "  </tbody>\n",
       "</table>\n",
       "</div>"
      ],
      "text/plain": [
       "   age     sex     bmi  children smoker     region      charges\n",
       "0   19  female  27.900         0    yes  southwest  16884.92400\n",
       "1   18    male  33.770         1     no  southeast   1725.55230\n",
       "2   28    male  33.000         3     no  southeast   4449.46200\n",
       "3   33    male  22.705         0     no  northwest  21984.47061\n",
       "4   32    male  28.880         0     no  northwest   3866.85520"
      ]
     },
     "execution_count": 100,
     "metadata": {},
     "output_type": "execute_result"
    }
   ],
   "source": [
    "\n",
    "data_2 = pd.read_csv('data/insurance.csv')\n",
    "data_2.head()"
   ]
  },
  {
   "cell_type": "markdown",
   "metadata": {},
   "source": [
    "### Exploratory Data Analysis and Data Preparation \n",
    "\n",
    "Perform a brief Exploratory Data Analysis. Preprocess the data, split the data into training and testing datasets, and scale them into [0, 1] range. Display the shapes of the variables. \n"
   ]
  },
  {
   "cell_type": "code",
   "execution_count": null,
   "metadata": {
    "tags": []
   },
   "outputs": [
    {
     "name": "stdout",
     "output_type": "stream",
     "text": [
      "<class 'pandas.core.frame.DataFrame'>\n",
      "RangeIndex: 1338 entries, 0 to 1337\n",
      "Data columns (total 7 columns):\n",
      " #   Column    Non-Null Count  Dtype  \n",
      "---  ------    --------------  -----  \n",
      " 0   age       1338 non-null   int64  \n",
      " 1   sex       1338 non-null   object \n",
      " 2   bmi       1338 non-null   float64\n",
      " 3   children  1338 non-null   int64  \n",
      " 4   smoker    1338 non-null   object \n",
      " 5   region    1338 non-null   object \n",
      " 6   charges   1338 non-null   float64\n",
      "dtypes: float64(2), int64(2), object(3)\n",
      "memory usage: 73.3+ KB\n"
     ]
    }
   ],
   "source": [
    "\n",
    "# data info()\n",
    "data_2.info()"
   ]
  },
  {
   "cell_type": "code",
   "execution_count": 102,
   "metadata": {},
   "outputs": [
    {
     "data": {
      "text/plain": [
       "southeast    364\n",
       "southwest    325\n",
       "northwest    325\n",
       "northeast    324\n",
       "Name: region, dtype: int64"
      ]
     },
     "execution_count": 102,
     "metadata": {},
     "output_type": "execute_result"
    }
   ],
   "source": [
    "data_2['region'].value_counts()"
   ]
  },
  {
   "cell_type": "code",
   "execution_count": 103,
   "metadata": {},
   "outputs": [
    {
     "data": {
      "text/html": [
       "<div>\n",
       "<style scoped>\n",
       "    .dataframe tbody tr th:only-of-type {\n",
       "        vertical-align: middle;\n",
       "    }\n",
       "\n",
       "    .dataframe tbody tr th {\n",
       "        vertical-align: top;\n",
       "    }\n",
       "\n",
       "    .dataframe thead th {\n",
       "        text-align: right;\n",
       "    }\n",
       "</style>\n",
       "<table border=\"1\" class=\"dataframe\">\n",
       "  <thead>\n",
       "    <tr style=\"text-align: right;\">\n",
       "      <th></th>\n",
       "      <th>age</th>\n",
       "      <th>bmi</th>\n",
       "      <th>children</th>\n",
       "      <th>charges</th>\n",
       "    </tr>\n",
       "  </thead>\n",
       "  <tbody>\n",
       "    <tr>\n",
       "      <th>count</th>\n",
       "      <td>1338.000000</td>\n",
       "      <td>1338.000000</td>\n",
       "      <td>1338.000000</td>\n",
       "      <td>1338.000000</td>\n",
       "    </tr>\n",
       "    <tr>\n",
       "      <th>mean</th>\n",
       "      <td>39.207025</td>\n",
       "      <td>30.663397</td>\n",
       "      <td>1.094918</td>\n",
       "      <td>13270.422265</td>\n",
       "    </tr>\n",
       "    <tr>\n",
       "      <th>std</th>\n",
       "      <td>14.049960</td>\n",
       "      <td>6.098187</td>\n",
       "      <td>1.205493</td>\n",
       "      <td>12110.011237</td>\n",
       "    </tr>\n",
       "    <tr>\n",
       "      <th>min</th>\n",
       "      <td>18.000000</td>\n",
       "      <td>15.960000</td>\n",
       "      <td>0.000000</td>\n",
       "      <td>1121.873900</td>\n",
       "    </tr>\n",
       "    <tr>\n",
       "      <th>25%</th>\n",
       "      <td>27.000000</td>\n",
       "      <td>26.296250</td>\n",
       "      <td>0.000000</td>\n",
       "      <td>4740.287150</td>\n",
       "    </tr>\n",
       "    <tr>\n",
       "      <th>50%</th>\n",
       "      <td>39.000000</td>\n",
       "      <td>30.400000</td>\n",
       "      <td>1.000000</td>\n",
       "      <td>9382.033000</td>\n",
       "    </tr>\n",
       "    <tr>\n",
       "      <th>75%</th>\n",
       "      <td>51.000000</td>\n",
       "      <td>34.693750</td>\n",
       "      <td>2.000000</td>\n",
       "      <td>16639.912515</td>\n",
       "    </tr>\n",
       "    <tr>\n",
       "      <th>max</th>\n",
       "      <td>64.000000</td>\n",
       "      <td>53.130000</td>\n",
       "      <td>5.000000</td>\n",
       "      <td>63770.428010</td>\n",
       "    </tr>\n",
       "  </tbody>\n",
       "</table>\n",
       "</div>"
      ],
      "text/plain": [
       "               age          bmi     children       charges\n",
       "count  1338.000000  1338.000000  1338.000000   1338.000000\n",
       "mean     39.207025    30.663397     1.094918  13270.422265\n",
       "std      14.049960     6.098187     1.205493  12110.011237\n",
       "min      18.000000    15.960000     0.000000   1121.873900\n",
       "25%      27.000000    26.296250     0.000000   4740.287150\n",
       "50%      39.000000    30.400000     1.000000   9382.033000\n",
       "75%      51.000000    34.693750     2.000000  16639.912515\n",
       "max      64.000000    53.130000     5.000000  63770.428010"
      ]
     },
     "execution_count": 103,
     "metadata": {},
     "output_type": "execute_result"
    }
   ],
   "source": [
    "data_2.describe()"
   ]
  },
  {
   "cell_type": "code",
   "execution_count": 104,
   "metadata": {},
   "outputs": [
    {
     "data": {
      "image/png": "[encoded data removed]",
      "text/plain": [
       "<Figure size 576x432 with 4 Axes>"
      ]
     },
     "metadata": {
      "needs_background": "light"
     },
     "output_type": "display_data"
    }
   ],
   "source": [
    "data_2[['age','bmi','children','charges']].hist(bins = 20, figsize = (8,6));"
   ]
  },
  {
   "cell_type": "code",
   "execution_count": 105,
   "metadata": {},
   "outputs": [
    {
     "data": {
      "image/png": "[encoded data removed]",
      "text/plain": [
       "<Figure size 432x288 with 2 Axes>"
      ]
     },
     "metadata": {
      "needs_background": "light"
     },
     "output_type": "display_data"
    }
   ],
   "source": [
    "correlation = data_2.corr()\n",
    "sns.heatmap(correlation,annot = True)\n",
    "plt.title('Correlation')\n",
    "plt.show()"
   ]
  },
  {
   "cell_type": "code",
   "execution_count": 106,
   "metadata": {},
   "outputs": [
    {
     "data": {
      "text/html": [
       "<div>\n",
       "<style scoped>\n",
       "    .dataframe tbody tr th:only-of-type {\n",
       "        vertical-align: middle;\n",
       "    }\n",
       "\n",
       "    .dataframe tbody tr th {\n",
       "        vertical-align: top;\n",
       "    }\n",
       "\n",
       "    .dataframe thead th {\n",
       "        text-align: right;\n",
       "    }\n",
       "</style>\n",
       "<table border=\"1\" class=\"dataframe\">\n",
       "  <thead>\n",
       "    <tr style=\"text-align: right;\">\n",
       "      <th></th>\n",
       "      <th>age</th>\n",
       "      <th>sex</th>\n",
       "      <th>bmi</th>\n",
       "      <th>children</th>\n",
       "      <th>smoker</th>\n",
       "      <th>region</th>\n",
       "      <th>charges</th>\n",
       "    </tr>\n",
       "  </thead>\n",
       "  <tbody>\n",
       "    <tr>\n",
       "      <th>0</th>\n",
       "      <td>19</td>\n",
       "      <td>0.0</td>\n",
       "      <td>27.900</td>\n",
       "      <td>0</td>\n",
       "      <td>1.0</td>\n",
       "      <td>3.0</td>\n",
       "      <td>16884.92400</td>\n",
       "    </tr>\n",
       "    <tr>\n",
       "      <th>1</th>\n",
       "      <td>18</td>\n",
       "      <td>1.0</td>\n",
       "      <td>33.770</td>\n",
       "      <td>1</td>\n",
       "      <td>0.0</td>\n",
       "      <td>2.0</td>\n",
       "      <td>1725.55230</td>\n",
       "    </tr>\n",
       "    <tr>\n",
       "      <th>2</th>\n",
       "      <td>28</td>\n",
       "      <td>1.0</td>\n",
       "      <td>33.000</td>\n",
       "      <td>3</td>\n",
       "      <td>0.0</td>\n",
       "      <td>2.0</td>\n",
       "      <td>4449.46200</td>\n",
       "    </tr>\n",
       "    <tr>\n",
       "      <th>3</th>\n",
       "      <td>33</td>\n",
       "      <td>1.0</td>\n",
       "      <td>22.705</td>\n",
       "      <td>0</td>\n",
       "      <td>0.0</td>\n",
       "      <td>1.0</td>\n",
       "      <td>21984.47061</td>\n",
       "    </tr>\n",
       "    <tr>\n",
       "      <th>4</th>\n",
       "      <td>32</td>\n",
       "      <td>1.0</td>\n",
       "      <td>28.880</td>\n",
       "      <td>0</td>\n",
       "      <td>0.0</td>\n",
       "      <td>1.0</td>\n",
       "      <td>3866.85520</td>\n",
       "    </tr>\n",
       "  </tbody>\n",
       "</table>\n",
       "</div>"
      ],
      "text/plain": [
       "   age  sex     bmi  children  smoker  region      charges\n",
       "0   19  0.0  27.900         0     1.0     3.0  16884.92400\n",
       "1   18  1.0  33.770         1     0.0     2.0   1725.55230\n",
       "2   28  1.0  33.000         3     0.0     2.0   4449.46200\n",
       "3   33  1.0  22.705         0     0.0     1.0  21984.47061\n",
       "4   32  1.0  28.880         0     0.0     1.0   3866.85520"
      ]
     },
     "execution_count": 106,
     "metadata": {},
     "output_type": "execute_result"
    }
   ],
   "source": [
    "#preprocess categorical data\n",
    "from sklearn.preprocessing import OrdinalEncoder\n",
    "\n",
    "cate_features = data_2[['sex','smoker','region',]]\n",
    "encoderOrdinal = OrdinalEncoder()\n",
    "cate_encoded = encoderOrdinal.fit_transform(cate_features)\n",
    "data_2[['sex','smoker','region']] = pd.DataFrame(cate_encoded, columns = cate_features.columns, index = cate_features.index)\n",
    "data_2.head()"
   ]
  },
  {
   "cell_type": "code",
   "execution_count": 107,
   "metadata": {},
   "outputs": [],
   "source": [
    "# assign target variable to y and the other columns to X; and split data set into train set and test set\n",
    "y = data_2['charges']\n",
    "X = data_2.drop('charges', axis = 1)\n",
    "\n",
    "X_train_2, X_test_2, y_train_2, y_test_2 = train_test_split(X, y, test_size = 0.25, random_state = 123)"
   ]
  },
  {
   "cell_type": "code",
   "execution_count": 108,
   "metadata": {},
   "outputs": [
    {
     "name": "stdout",
     "output_type": "stream",
     "text": [
      "X_train_scaled_2 shape:  (1003, 6)\n",
      "X_test_scaled_2 shape:  (335, 6)\n",
      "y_train_2 shape:  (1003,)\n",
      "y_test_2 shape:  (335,)\n"
     ]
    }
   ],
   "source": [
    "# scale data into range[0,1]\n",
    "\n",
    "minmaxScaler = MinMaxScaler()\n",
    "X_train_scaled_2 = minmaxScaler.fit_transform(X_train_2)\n",
    "X_test_scaled_2 = minmaxScaler.transform(X_test_2)\n",
    "\n",
    "print('X_train_scaled_2 shape: ',X_train_scaled_2.shape)\n",
    "print('X_test_scaled_2 shape: ',X_test_scaled_2.shape)\n",
    "print('y_train_2 shape: ',y_train_2.shape)\n",
    "print('y_test_2 shape: ',y_test_2.shape)"
   ]
  },
  {
   "cell_type": "markdown",
   "metadata": {
    "id": "Swsd7cdMQ9ze"
   },
   "source": [
    "### Train ANNs \n",
    "\n",
    "Create an ANN model with 3 hidden layers called `model_2`. Train the model for 100 epochs and evaluate it on the test dataset. Plot the learning curve. \n"
   ]
  },
  {
   "cell_type": "code",
   "execution_count": null,
   "metadata": {},
   "outputs": [],
   "source": [
    "\n",
    "# define the layers in the network\n",
    "inputs = Input(shape = (6,))\n",
    "dense1 = Dense(32, activation = 'relu')(inputs)\n",
    "dense2 = Dense(32, activation = 'relu')(dense1)\n",
    "dense3 = Dense(32, activation = 'relu')(dense2)\n",
    "output = Dense(1)(dense3)"
   ]
  },
  {
   "cell_type": "code",
   "execution_count": 110,
   "metadata": {},
   "outputs": [
    {
     "name": "stdout",
     "output_type": "stream",
     "text": [
      "Model: \"model_3\"\n",
      "_________________________________________________________________\n",
      " Layer (type)                Output Shape              Param #   \n",
      "=================================================================\n",
      " input_4 (InputLayer)        [(None, 6)]               0         \n",
      "                                                                 \n",
      " dense_12 (Dense)            (None, 32)                224       \n",
      "                                                                 \n",
      " dense_13 (Dense)            (None, 32)                1056      \n",
      "                                                                 \n",
      " dense_14 (Dense)            (None, 32)                1056      \n",
      "                                                                 \n",
      " dense_15 (Dense)            (None, 1)                 33        \n",
      "                                                                 \n",
      "=================================================================\n",
      "Total params: 2,369\n",
      "Trainable params: 2,369\n",
      "Non-trainable params: 0\n",
      "_________________________________________________________________\n"
     ]
    }
   ],
   "source": [
    "# define the model by providing inputs and outputs\n",
    "model_2 = Model(inputs, output)\n",
    "model_2.summary()"
   ]
  },
  {
   "cell_type": "code",
   "execution_count": 111,
   "metadata": {},
   "outputs": [],
   "source": [
    "#  compile the model\n",
    "model_2.compile(loss = 'mean_squared_error', optimizer = 'adam')"
   ]
  },
  {
   "cell_type": "code",
   "execution_count": 112,
   "metadata": {
    "tags": []
   },
   "outputs": [],
   "source": [
    "# train the model\n",
    "history2 = model_2.fit(X_train_scaled_2, y_train_2, epochs = 100, verbose = 0)"
   ]
  },
  {
   "cell_type": "code",
   "execution_count": 113,
   "metadata": {},
   "outputs": [
    {
     "data": {
      "image/png": "[encoded data removed]",
      "text/plain": [
       "<Figure size 432x288 with 1 Axes>"
      ]
     },
     "metadata": {
      "needs_background": "light"
     },
     "output_type": "display_data"
    }
   ],
   "source": [
    "# plot learning curve\n",
    "train_loss_2 = history2.history['loss']\n",
    "epochsn = np.arange(1, len(train_loss_2)+1, 1)\n",
    "\n",
    "#plt.figure(figsize = (4,3))\n",
    "plt.plot(epochsn, train_loss_2, 'b--')\n",
    "plt.xlabel('epochs')\n",
    "plt.ylabel('training loss')\n",
    "plt.title('Traing Loss')\n",
    "plt.grid(color = 'grey',linestyle = '--')\n",
    "plt.show()"
   ]
  },
  {
   "cell_type": "code",
   "execution_count": 115,
   "metadata": {},
   "outputs": [
    {
     "name": "stdout",
     "output_type": "stream",
     "text": [
      "11/11 [==============================] - 0s 1ms/step\n"
     ]
    }
   ],
   "source": [
    "pred_charges = model_2.predict(X_test_scaled_2)"
   ]
  },
  {
   "cell_type": "markdown",
   "metadata": {},
   "source": [
    "### Evaluate the Model\n",
    "\n",
    "Calculate MSE, MAE, and R-square metrics, and plot the ground-truth and predicted values for the first 10 data points in the test dataset."
   ]
  },
  {
   "cell_type": "code",
   "execution_count": null,
   "metadata": {},
   "outputs": [
    {
     "name": "stdout",
     "output_type": "stream",
     "text": [
      "MSE: 32852076.3016\n",
      "MAE: 4010.4355\n",
      "r2_score: 0.6932\n"
     ]
    }
   ],
   "source": [
    "\n",
    "# calculate the MSE, MAE, R_square\n",
    "print(f'MSE: {mean_squared_error(pred_charges, y_test_2):5.4f}')\n",
    "print('MAE: {0:5.4f}'.format(mean_absolute_error(pred_charges, y_test_2)))\n",
    "print('r2_score: %5.4f'%(r2_score(pred_charges, y_test_2)))"
   ]
  },
  {
   "cell_type": "code",
   "execution_count": null,
   "metadata": {},
   "outputs": [
    {
     "data": {
      "image/png": "[encoded data removed]",
      "text/plain": [
       "<Figure size 1008x432 with 1 Axes>"
      ]
     },
     "metadata": {
      "needs_background": "light"
     },
     "output_type": "display_data"
    }
   ],
   "source": [
    "\n",
    "plt.figure(figsize = (14,6))\n",
    "pred_10 = pred_charges[0:10]\n",
    "y_truth_2 = y_test_2[0:10]\n",
    "x = np.arange(1,len(pred_10)+1, 1)\n",
    "\n",
    "plt.plot(x, pred_10,'r*', label = 'Pred Charge')\n",
    "plt.plot(x, y_truth_2, 'g^',label = 'True Charge')\n",
    "plt.xlabel('sample')\n",
    "plt.ylabel('Charges')\n",
    "plt.legend()\n",
    "plt.show()"
   ]
  },
  {
   "cell_type": "code",
   "execution_count": null,
   "metadata": {},
   "outputs": [],
   "source": []
  }
 ],
 "metadata": {
  "kernelspec": {
   "display_name": "Python 3 (ipykernel)",
   "language": "python",
   "name": "python3"
  },
  "language_info": {
   "codemirror_mode": {
    "name": "ipython",
    "version": 3
   },
   "file_extension": ".py",
   "mimetype": "text/x-python",
   "name": "python",
   "nbconvert_exporter": "python",
   "pygments_lexer": "ipython3",
   "version": "3.9.12"
  }
 },
 "nbformat": 4,
 "nbformat_minor": 4
}
