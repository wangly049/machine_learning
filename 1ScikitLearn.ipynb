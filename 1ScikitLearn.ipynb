{
 "cells": [
  {
   "cell_type": "markdown",
   "metadata": {},
   "source": [
    "# Scikit-learn Exercise "
   ]
  },
  {
   "cell_type": "markdown",
   "metadata": {},
   "source": [
    "Import the file `NewYork_1980_data` from the `data` folder as a pandas DataFrame called `features`. The data contains information about the adult population in New York from 1980. The goal of this exercise is to predict the income of a person based on the provided data. "
   ]
  },
  {
   "cell_type": "code",
   "execution_count": null,
   "metadata": {},
   "outputs": [],
   "source": [
    "\n",
    "import pandas as pd\n",
    "import numpy as np\n",
    "import sklearn \n",
    "import matplotlib.pyplot as plt"
   ]
  },
  {
   "cell_type": "code",
   "execution_count": 2,
   "metadata": {},
   "outputs": [
    {
     "data": {
      "text/html": [
       "<div>\n",
       "<style scoped>\n",
       "    .dataframe tbody tr th:only-of-type {\n",
       "        vertical-align: middle;\n",
       "    }\n",
       "\n",
       "    .dataframe tbody tr th {\n",
       "        vertical-align: top;\n",
       "    }\n",
       "\n",
       "    .dataframe thead th {\n",
       "        text-align: right;\n",
       "    }\n",
       "</style>\n",
       "<table border=\"1\" class=\"dataframe\">\n",
       "  <thead>\n",
       "    <tr style=\"text-align: right;\">\n",
       "      <th></th>\n",
       "      <th>age</th>\n",
       "      <th>workclass</th>\n",
       "      <th>education</th>\n",
       "      <th>education-num</th>\n",
       "      <th>marital-status</th>\n",
       "      <th>occupation</th>\n",
       "      <th>relationship</th>\n",
       "      <th>race</th>\n",
       "      <th>sex</th>\n",
       "      <th>capital-gain</th>\n",
       "      <th>capital-loss</th>\n",
       "      <th>hours-per-week</th>\n",
       "      <th>native-country</th>\n",
       "      <th>income</th>\n",
       "    </tr>\n",
       "  </thead>\n",
       "  <tbody>\n",
       "    <tr>\n",
       "      <th>0</th>\n",
       "      <td>25</td>\n",
       "      <td>Private</td>\n",
       "      <td>11th</td>\n",
       "      <td>7</td>\n",
       "      <td>Never-married</td>\n",
       "      <td>Machine-op-inspct</td>\n",
       "      <td>Own-child</td>\n",
       "      <td>Black</td>\n",
       "      <td>Male</td>\n",
       "      <td>0</td>\n",
       "      <td>0.0</td>\n",
       "      <td>40</td>\n",
       "      <td>United-States</td>\n",
       "      <td>&lt;=50K</td>\n",
       "    </tr>\n",
       "    <tr>\n",
       "      <th>1</th>\n",
       "      <td>38</td>\n",
       "      <td>Private</td>\n",
       "      <td>HS-grad</td>\n",
       "      <td>9</td>\n",
       "      <td>Married-civ-spouse</td>\n",
       "      <td>Farming-fishing</td>\n",
       "      <td>Husband</td>\n",
       "      <td>White</td>\n",
       "      <td>Male</td>\n",
       "      <td>0</td>\n",
       "      <td>0.0</td>\n",
       "      <td>50</td>\n",
       "      <td>United-States</td>\n",
       "      <td>&lt;=50K</td>\n",
       "    </tr>\n",
       "    <tr>\n",
       "      <th>2</th>\n",
       "      <td>28</td>\n",
       "      <td>Local-gov</td>\n",
       "      <td>Assoc-acdm</td>\n",
       "      <td>12</td>\n",
       "      <td>Married-civ-spouse</td>\n",
       "      <td>Protective-serv</td>\n",
       "      <td>Husband</td>\n",
       "      <td>White</td>\n",
       "      <td>Male</td>\n",
       "      <td>0</td>\n",
       "      <td>0.0</td>\n",
       "      <td>40</td>\n",
       "      <td>United-States</td>\n",
       "      <td>&gt;50K</td>\n",
       "    </tr>\n",
       "  </tbody>\n",
       "</table>\n",
       "</div>"
      ],
      "text/plain": [
       "   age   workclass    education  education-num       marital-status  \\\n",
       "0   25     Private         11th              7        Never-married   \n",
       "1   38     Private      HS-grad              9   Married-civ-spouse   \n",
       "2   28   Local-gov   Assoc-acdm             12   Married-civ-spouse   \n",
       "\n",
       "           occupation relationship    race    sex  capital-gain  capital-loss  \\\n",
       "0   Machine-op-inspct    Own-child   Black   Male             0           0.0   \n",
       "1     Farming-fishing      Husband   White   Male             0           0.0   \n",
       "2     Protective-serv      Husband   White   Male             0           0.0   \n",
       "\n",
       "   hours-per-week  native-country  income  \n",
       "0              40   United-States   <=50K  \n",
       "1              50   United-States   <=50K  \n",
       "2              40   United-States    >50K  "
      ]
     },
     "execution_count": 2,
     "metadata": {},
     "output_type": "execute_result"
    }
   ],
   "source": [
    "features = pd.read_csv(\"data/NewYork_1980_data.csv\")\n",
    "features.head(3)"
   ]
  },
  {
   "cell_type": "markdown",
   "metadata": {},
   "source": [
    "## Exploratory Data Analysis "
   ]
  },
  {
   "cell_type": "markdown",
   "metadata": {},
   "source": [
    "Display summary statistics, and state the number of samples and features in the dataset. Are there any features for which the statistics show something unusual?"
   ]
  },
  {
   "cell_type": "code",
   "execution_count": null,
   "metadata": {},
   "outputs": [
    {
     "name": "stdout",
     "output_type": "stream",
     "text": [
      "<class 'pandas.core.frame.DataFrame'>\n",
      "RangeIndex: 48842 entries, 0 to 48841\n",
      "Data columns (total 14 columns):\n",
      " #   Column          Non-Null Count  Dtype  \n",
      "---  ------          --------------  -----  \n",
      " 0   age             48842 non-null  int64  \n",
      " 1   workclass       48842 non-null  object \n",
      " 2   education       48842 non-null  object \n",
      " 3   education-num   48842 non-null  int64  \n",
      " 4   marital-status  48842 non-null  object \n",
      " 5   occupation      48842 non-null  object \n",
      " 6   relationship    48842 non-null  object \n",
      " 7   race            48842 non-null  object \n",
      " 8   sex             48826 non-null  object \n",
      " 9   capital-gain    48842 non-null  int64  \n",
      " 10  capital-loss    48803 non-null  float64\n",
      " 11  hours-per-week  48842 non-null  int64  \n",
      " 12  native-country  48842 non-null  object \n",
      " 13  income          48842 non-null  object \n",
      "dtypes: float64(1), int64(4), object(9)\n",
      "memory usage: 5.2+ MB\n"
     ]
    }
   ],
   "source": [
    "# show data info()\n",
    "features.info()"
   ]
  },
  {
   "cell_type": "code",
   "execution_count": 4,
   "metadata": {},
   "outputs": [
    {
     "data": {
      "text/html": [
       "<div>\n",
       "<style scoped>\n",
       "    .dataframe tbody tr th:only-of-type {\n",
       "        vertical-align: middle;\n",
       "    }\n",
       "\n",
       "    .dataframe tbody tr th {\n",
       "        vertical-align: top;\n",
       "    }\n",
       "\n",
       "    .dataframe thead th {\n",
       "        text-align: right;\n",
       "    }\n",
       "</style>\n",
       "<table border=\"1\" class=\"dataframe\">\n",
       "  <thead>\n",
       "    <tr style=\"text-align: right;\">\n",
       "      <th></th>\n",
       "      <th>age</th>\n",
       "      <th>education-num</th>\n",
       "      <th>capital-gain</th>\n",
       "      <th>capital-loss</th>\n",
       "      <th>hours-per-week</th>\n",
       "    </tr>\n",
       "  </thead>\n",
       "  <tbody>\n",
       "    <tr>\n",
       "      <th>count</th>\n",
       "      <td>48842.000000</td>\n",
       "      <td>48842.000000</td>\n",
       "      <td>48842.000000</td>\n",
       "      <td>48803.000000</td>\n",
       "      <td>48842.000000</td>\n",
       "    </tr>\n",
       "    <tr>\n",
       "      <th>mean</th>\n",
       "      <td>38.643585</td>\n",
       "      <td>10.078089</td>\n",
       "      <td>1079.067626</td>\n",
       "      <td>87.459767</td>\n",
       "      <td>40.422382</td>\n",
       "    </tr>\n",
       "    <tr>\n",
       "      <th>std</th>\n",
       "      <td>13.710510</td>\n",
       "      <td>2.570973</td>\n",
       "      <td>7452.019058</td>\n",
       "      <td>402.918923</td>\n",
       "      <td>12.391444</td>\n",
       "    </tr>\n",
       "    <tr>\n",
       "      <th>min</th>\n",
       "      <td>17.000000</td>\n",
       "      <td>1.000000</td>\n",
       "      <td>0.000000</td>\n",
       "      <td>0.000000</td>\n",
       "      <td>1.000000</td>\n",
       "    </tr>\n",
       "    <tr>\n",
       "      <th>25%</th>\n",
       "      <td>28.000000</td>\n",
       "      <td>9.000000</td>\n",
       "      <td>0.000000</td>\n",
       "      <td>0.000000</td>\n",
       "      <td>40.000000</td>\n",
       "    </tr>\n",
       "    <tr>\n",
       "      <th>50%</th>\n",
       "      <td>37.000000</td>\n",
       "      <td>10.000000</td>\n",
       "      <td>0.000000</td>\n",
       "      <td>0.000000</td>\n",
       "      <td>40.000000</td>\n",
       "    </tr>\n",
       "    <tr>\n",
       "      <th>75%</th>\n",
       "      <td>48.000000</td>\n",
       "      <td>12.000000</td>\n",
       "      <td>0.000000</td>\n",
       "      <td>0.000000</td>\n",
       "      <td>45.000000</td>\n",
       "    </tr>\n",
       "    <tr>\n",
       "      <th>max</th>\n",
       "      <td>90.000000</td>\n",
       "      <td>16.000000</td>\n",
       "      <td>99999.000000</td>\n",
       "      <td>4356.000000</td>\n",
       "      <td>99.000000</td>\n",
       "    </tr>\n",
       "  </tbody>\n",
       "</table>\n",
       "</div>"
      ],
      "text/plain": [
       "                age  education-num  capital-gain  capital-loss  hours-per-week\n",
       "count  48842.000000   48842.000000  48842.000000  48803.000000    48842.000000\n",
       "mean      38.643585      10.078089   1079.067626     87.459767       40.422382\n",
       "std       13.710510       2.570973   7452.019058    402.918923       12.391444\n",
       "min       17.000000       1.000000      0.000000      0.000000        1.000000\n",
       "25%       28.000000       9.000000      0.000000      0.000000       40.000000\n",
       "50%       37.000000      10.000000      0.000000      0.000000       40.000000\n",
       "75%       48.000000      12.000000      0.000000      0.000000       45.000000\n",
       "max       90.000000      16.000000  99999.000000   4356.000000       99.000000"
      ]
     },
     "execution_count": 4,
     "metadata": {},
     "output_type": "execute_result"
    }
   ],
   "source": [
    "#for feature with continuous value, use describe() to inspect its mean, std, min,max, percentile\n",
    "features.describe()"
   ]
  },
  {
   "cell_type": "code",
   "execution_count": 5,
   "metadata": {},
   "outputs": [
    {
     "data": {
      "text/plain": [
       "[array([' Private', ' Local-gov', ' ?', ' Self-emp-not-inc',\n",
       "        ' Federal-gov', ' State-gov', ' Self-emp-inc', ' Without-pay',\n",
       "        ' Never-worked'], dtype=object),\n",
       " array([' 11th', ' HS-grad', ' Assoc-acdm', ' Some-college', ' 10th',\n",
       "        ' Prof-school', ' 7th-8th', ' Bachelors', ' Masters', ' Doctorate',\n",
       "        ' 5th-6th', ' Assoc-voc', ' 9th', ' 12th', ' 1st-4th',\n",
       "        ' Preschool'], dtype=object),\n",
       " array([' Never-married', ' Married-civ-spouse', ' Widowed', ' Divorced',\n",
       "        ' Separated', ' Married-spouse-absent', ' Married-AF-spouse'],\n",
       "       dtype=object),\n",
       " array([' Machine-op-inspct', ' Farming-fishing', ' Protective-serv', ' ?',\n",
       "        ' Other-service', ' Prof-specialty', ' Craft-repair',\n",
       "        ' Adm-clerical', ' Exec-managerial', ' Tech-support', ' Sales',\n",
       "        ' Priv-house-serv', ' Transport-moving', ' Handlers-cleaners',\n",
       "        ' Armed-Forces'], dtype=object),\n",
       " array([' Own-child', ' Husband', ' Not-in-family', ' Unmarried', ' Wife',\n",
       "        ' Other-relative'], dtype=object),\n",
       " array([' Black', ' White', ' Asian-Pac-Islander', ' Other',\n",
       "        ' Amer-Indian-Eskimo'], dtype=object),\n",
       " array([' Male', ' Female', nan], dtype=object),\n",
       " array([' United-States', ' ?', ' Peru', ' Guatemala', ' Mexico',\n",
       "        ' Dominican-Republic', ' Ireland', ' Germany', ' Philippines',\n",
       "        ' Thailand', ' Haiti', ' El-Salvador', ' Puerto-Rico', ' Vietnam',\n",
       "        ' South', ' Columbia', ' Japan', ' India', ' Cambodia', ' Poland',\n",
       "        ' Laos', ' England', ' Cuba', ' Taiwan', ' Italy', ' Canada',\n",
       "        ' Portugal', ' China', ' Nicaragua', ' Honduras', ' Iran',\n",
       "        ' Scotland', ' Jamaica', ' Ecuador', ' Yugoslavia', ' Hungary',\n",
       "        ' Hong', ' Greece', ' Trinadad&Tobago',\n",
       "        ' Outlying-US(Guam-USVI-etc)', ' France', ' Holand-Netherlands'],\n",
       "       dtype=object),\n",
       " array([' <=50K', ' >50K'], dtype=object)]"
      ]
     },
     "execution_count": 5,
     "metadata": {},
     "output_type": "execute_result"
    }
   ],
   "source": [
    "# browse the values in object columns\n",
    "object_columns_features = features.select_dtypes(include = 'object')\n",
    "[object_columns_features[i].unique() for i in object_columns_features.columns]"
   ]
  },
  {
   "cell_type": "markdown",
   "metadata": {},
   "source": [
    "statements about the data:\n",
    "1. The data has 48842 samples and 14 features;\n",
    "2. The data has some missing values in sex and capital-loss columns.Because sex column has 48826 non-null samples and capital-loss column has 48803 non-null samples. \n",
    "3. Based on a rough browse of object columns, some columns contain \"?\" as value."
   ]
  },
  {
   "cell_type": "markdown",
   "metadata": {},
   "source": [
    "### Explore Column Information"
   ]
  },
  {
   "cell_type": "markdown",
   "metadata": {},
   "source": [
    "Check the number of categories and counts for the `income` feature. Create a bar plot for this feature. "
   ]
  },
  {
   "cell_type": "code",
   "execution_count": null,
   "metadata": {},
   "outputs": [
    {
     "data": {
      "image/png": "[encoded data removed]",
      "text/plain": [
       "<Figure size 432x288 with 1 Axes>"
      ]
     },
     "metadata": {
      "needs_background": "light"
     },
     "output_type": "display_data"
    }
   ],
   "source": [
    "features['income'].value_counts().plot(kind = 'bar');"
   ]
  },
  {
   "cell_type": "markdown",
   "metadata": {},
   "source": [
    "Check the counts for other columns. If there are any duplicate columns, remove them. "
   ]
  },
  {
   "cell_type": "code",
   "execution_count": null,
   "metadata": {},
   "outputs": [
    {
     "name": "stdout",
     "output_type": "stream",
     "text": [
      "values in feature age:\n",
      "36    1348\n",
      "35    1337\n",
      "33    1335\n",
      "23    1329\n",
      "31    1325\n",
      "      ... \n",
      "88       6\n",
      "85       5\n",
      "87       3\n",
      "89       2\n",
      "86       1\n",
      "Name: age, Length: 74, dtype: int64 \n",
      "\n",
      "values in feature workclass:\n",
      " Private             33906\n",
      " Self-emp-not-inc     3862\n",
      " Local-gov            3136\n",
      " ?                    2799\n",
      " State-gov            1981\n",
      " Self-emp-inc         1695\n",
      " Federal-gov          1432\n",
      " Without-pay            21\n",
      " Never-worked           10\n",
      "Name: workclass, dtype: int64 \n",
      "\n",
      "values in feature education:\n",
      " HS-grad         15784\n",
      " Some-college    10878\n",
      " Bachelors        8025\n",
      " Masters          2657\n",
      " Assoc-voc        2061\n",
      " 11th             1812\n",
      " Assoc-acdm       1601\n",
      " 10th             1389\n",
      " 7th-8th           955\n",
      " Prof-school       834\n",
      " 9th               756\n",
      " 12th              657\n",
      " Doctorate         594\n",
      " 5th-6th           509\n",
      " 1st-4th           247\n",
      " Preschool          83\n",
      "Name: education, dtype: int64 \n",
      "\n",
      "values in feature education-num:\n",
      "9     15784\n",
      "10    10878\n",
      "13     8025\n",
      "14     2657\n",
      "11     2061\n",
      "7      1812\n",
      "12     1601\n",
      "6      1389\n",
      "4       955\n",
      "15      834\n",
      "5       756\n",
      "8       657\n",
      "16      594\n",
      "3       509\n",
      "2       247\n",
      "1        83\n",
      "Name: education-num, dtype: int64 \n",
      "\n",
      "values in feature marital-status:\n",
      " Married-civ-spouse       22379\n",
      " Never-married            16117\n",
      " Divorced                  6633\n",
      " Separated                 1530\n",
      " Widowed                   1518\n",
      " Married-spouse-absent      628\n",
      " Married-AF-spouse           37\n",
      "Name: marital-status, dtype: int64 \n",
      "\n",
      "values in feature occupation:\n",
      " Prof-specialty       6172\n",
      " Craft-repair         6112\n",
      " Exec-managerial      6086\n",
      " Adm-clerical         5611\n",
      " Sales                5504\n",
      " Other-service        4923\n",
      " Machine-op-inspct    3022\n",
      " ?                    2809\n",
      " Transport-moving     2355\n",
      " Handlers-cleaners    2072\n",
      " Farming-fishing      1490\n",
      " Tech-support         1446\n",
      " Protective-serv       983\n",
      " Priv-house-serv       242\n",
      " Armed-Forces           15\n",
      "Name: occupation, dtype: int64 \n",
      "\n",
      "values in feature relationship:\n",
      " Husband           19716\n",
      " Not-in-family     12583\n",
      " Own-child          7581\n",
      " Unmarried          5125\n",
      " Wife               2331\n",
      " Other-relative     1506\n",
      "Name: relationship, dtype: int64 \n",
      "\n",
      "values in feature race:\n",
      " White                 41762\n",
      " Black                  4685\n",
      " Asian-Pac-Islander     1519\n",
      " Amer-Indian-Eskimo      470\n",
      " Other                   406\n",
      "Name: race, dtype: int64 \n",
      "\n",
      "values in feature sex:\n",
      " Male      32640\n",
      " Female    16186\n",
      "Name: sex, dtype: int64 \n",
      "\n",
      "values in feature capital-gain:\n",
      "0        44807\n",
      "15024      513\n",
      "7688       410\n",
      "7298       364\n",
      "99999      244\n",
      "         ...  \n",
      "1111         1\n",
      "7262         1\n",
      "22040        1\n",
      "1639         1\n",
      "2387         1\n",
      "Name: capital-gain, Length: 123, dtype: int64 \n",
      "\n",
      "values in feature capital-loss:\n",
      "0.0       46524\n",
      "1902.0      304\n",
      "1977.0      253\n",
      "1887.0      233\n",
      "2415.0       72\n",
      "          ...  \n",
      "2465.0        1\n",
      "2080.0        1\n",
      "155.0         1\n",
      "1911.0        1\n",
      "2201.0        1\n",
      "Name: capital-loss, Length: 99, dtype: int64 \n",
      "\n",
      "values in feature hours-per-week:\n",
      "40    22803\n",
      "50     4246\n",
      "45     2717\n",
      "60     2177\n",
      "35     1937\n",
      "      ...  \n",
      "69        1\n",
      "87        1\n",
      "94        1\n",
      "82        1\n",
      "79        1\n",
      "Name: hours-per-week, Length: 96, dtype: int64 \n",
      "\n",
      "values in feature native-country:\n",
      " United-States                 43832\n",
      " Mexico                          951\n",
      " ?                               857\n",
      " Philippines                     295\n",
      " Germany                         206\n",
      " Puerto-Rico                     184\n",
      " Canada                          182\n",
      " El-Salvador                     155\n",
      " India                           151\n",
      " Cuba                            138\n",
      " England                         127\n",
      " China                           122\n",
      " South                           115\n",
      " Jamaica                         106\n",
      " Italy                           105\n",
      " Dominican-Republic              103\n",
      " Japan                            92\n",
      " Guatemala                        88\n",
      " Poland                           87\n",
      " Vietnam                          86\n",
      " Columbia                         85\n",
      " Haiti                            75\n",
      " Portugal                         67\n",
      " Taiwan                           65\n",
      " Iran                             59\n",
      " Greece                           49\n",
      " Nicaragua                        49\n",
      " Peru                             46\n",
      " Ecuador                          45\n",
      " France                           38\n",
      " Ireland                          37\n",
      " Hong                             30\n",
      " Thailand                         30\n",
      " Cambodia                         28\n",
      " Trinadad&Tobago                  27\n",
      " Laos                             23\n",
      " Yugoslavia                       23\n",
      " Outlying-US(Guam-USVI-etc)       23\n",
      " Scotland                         21\n",
      " Honduras                         20\n",
      " Hungary                          19\n",
      " Holand-Netherlands                1\n",
      "Name: native-country, dtype: int64 \n",
      "\n"
     ]
    }
   ],
   "source": [
    "other_columns_features = features.drop(['income'], axis = 1)\n",
    "\n",
    "for i in other_columns_features.columns:\n",
    "    print(f'values in feature {i}:')\n",
    "    print(features[i].value_counts(),'\\n')  "
   ]
  },
  {
   "cell_type": "markdown",
   "metadata": {},
   "source": [
    "after checking the value counts in each column, we found \"education\" and \"education-num\" have the same number of unique values, and for each value it has the same number of samples. So \"education\" and \"education-num\" are duplicate. We drop \"education\" column. \n"
   ]
  },
  {
   "cell_type": "code",
   "execution_count": 8,
   "metadata": {},
   "outputs": [
    {
     "data": {
      "text/plain": [
       "(48842, 13)"
      ]
     },
     "execution_count": 8,
     "metadata": {},
     "output_type": "execute_result"
    }
   ],
   "source": [
    "features.drop(['education'], axis = 1, inplace = True)\n",
    "features.shape"
   ]
  },
  {
   "cell_type": "markdown",
   "metadata": {},
   "source": [
    "### Handle missing values"
   ]
  },
  {
   "cell_type": "markdown",
   "metadata": {},
   "source": [
    "Check if there are any missing values. If yes, for some features remove the rows with missing values, and for some features replace the missing values with the average value of the column. "
   ]
  },
  {
   "cell_type": "code",
   "execution_count": null,
   "metadata": {},
   "outputs": [
    {
     "data": {
      "text/plain": [
       "age                0\n",
       "workclass          0\n",
       "education-num      0\n",
       "marital-status     0\n",
       "occupation         0\n",
       "relationship       0\n",
       "race               0\n",
       "sex               16\n",
       "capital-gain       0\n",
       "capital-loss      39\n",
       "hours-per-week     0\n",
       "native-country     0\n",
       "income             0\n",
       "dtype: int64"
      ]
     },
     "execution_count": 9,
     "metadata": {},
     "output_type": "execute_result"
    }
   ],
   "source": [
    "features.isnull().sum()"
   ]
  },
  {
   "cell_type": "markdown",
   "metadata": {},
   "source": [
    "There are two columns, \"sex\" and \"capital-loss\" having missing values. We revome the rows which have missing value in \"sex\" column; and for rows with missing value in \"capital-loss\" we replace missing value with mean value."
   ]
  },
  {
   "cell_type": "code",
   "execution_count": 10,
   "metadata": {},
   "outputs": [
    {
     "data": {
      "text/plain": [
       "(48826, 13)"
      ]
     },
     "execution_count": 10,
     "metadata": {},
     "output_type": "execute_result"
    }
   ],
   "source": [
    "features.dropna(subset = ['sex'], axis = 0, inplace = True)\n",
    "features.shape"
   ]
  },
  {
   "cell_type": "code",
   "execution_count": 11,
   "metadata": {},
   "outputs": [
    {
     "name": "stderr",
     "output_type": "stream",
     "text": [
      "/var/folders/53/42g8tbt17tngxpy9ywjvz0c00000gn/T/ipykernel_897/2130939254.py:1: FutureWarning: Dropping of nuisance columns in DataFrame reductions (with 'numeric_only=None') is deprecated; in a future version this will raise TypeError.  Select only valid columns before calling the reduction.\n",
      "  features.fillna(features.mean(axis = 0),inplace = True)\n"
     ]
    }
   ],
   "source": [
    "features.fillna(features.mean(axis = 0),inplace = True)"
   ]
  },
  {
   "cell_type": "code",
   "execution_count": 12,
   "metadata": {},
   "outputs": [
    {
     "data": {
      "text/plain": [
       "age               0\n",
       "workclass         0\n",
       "education-num     0\n",
       "marital-status    0\n",
       "occupation        0\n",
       "relationship      0\n",
       "race              0\n",
       "sex               0\n",
       "capital-gain      0\n",
       "capital-loss      0\n",
       "hours-per-week    0\n",
       "native-country    0\n",
       "income            0\n",
       "dtype: int64"
      ]
     },
     "execution_count": 12,
     "metadata": {},
     "output_type": "execute_result"
    }
   ],
   "source": [
    "features.isnull().sum()"
   ]
  },
  {
   "cell_type": "markdown",
   "metadata": {},
   "source": [
    "### Check Feature Distribution"
   ]
  },
  {
   "cell_type": "markdown",
   "metadata": {},
   "source": [
    "Create a histogram plot of the numerical features. "
   ]
  },
  {
   "cell_type": "code",
   "execution_count": null,
   "metadata": {
    "scrolled": false
   },
   "outputs": [
    {
     "data": {
      "image/png": "[encoded data removed]",
      "text/plain": [
       "<Figure size 864x1152 with 5 Axes>"
      ]
     },
     "metadata": {
      "needs_background": "light"
     },
     "output_type": "display_data"
    }
   ],
   "source": [
    "numerical_columns_features = features.select_dtypes(include = 'number')\n",
    "\n",
    "fig = plt.figure(figsize = (12,16))\n",
    "\n",
    "axes1 = plt.subplot2grid((4,4), (0,0), colspan = 2)\n",
    "axes2 = plt.subplot2grid((4,4), (0,2), colspan = 2)\n",
    "axes3 = plt.subplot2grid((4,4), (1,0), colspan = 4)\n",
    "axes4 = plt.subplot2grid((4,4), (2,0), colspan = 4)\n",
    "axes5 = plt.subplot2grid((4,4), (3,0), colspan = 4)\n",
    "\n",
    "axes1.hist(numerical_columns_features['age'],bins = 20);\n",
    "axes1.set_title('Age Distribution', fontsize = 12)\n",
    "axes1.set_xlabel('Age')\n",
    "axes1.set_ylabel('y')\n",
    "\n",
    "axes2.hist(numerical_columns_features['education-num'],bins = 20);\n",
    "axes2.set_title('Education-num Distribution', fontsize = 12)\n",
    "axes2.set_xlabel('Education-num')\n",
    "axes2.set_ylabel('y')\n",
    "\n",
    "axes3.hist(numerical_columns_features['capital-gain'],bins = 40);\n",
    "axes3.set_title('Capital-gain Distribution', fontsize = 12)\n",
    "axes3.set_xlabel('capital-gain')\n",
    "axes3.set_ylabel('y')\n",
    "\n",
    "axes4.hist(numerical_columns_features['capital-loss'],bins = 40);\n",
    "axes4.set_title('Capital-loss Distribution', fontsize = 12)\n",
    "axes4.set_xlabel('Capital-loss')\n",
    "axes4.set_ylabel('y')\n",
    "\n",
    "axes5.hist(numerical_columns_features['hours-per-week'],bins = 40);\n",
    "axes5.set_title('Hours-Per-Week Distribution', fontsize = 12)\n",
    "axes5.set_xlabel('Hours-Per-Week')\n",
    "axes5.set_ylabel('y')\n",
    "\n",
    "fig.tight_layout()"
   ]
  },
  {
   "cell_type": "markdown",
   "metadata": {},
   "source": [
    "Plot the distributions of `age` and `hours-per-week`. Based on the plots, state the approximate average values for these two features."
   ]
  },
  {
   "cell_type": "code",
   "execution_count": null,
   "metadata": {
    "scrolled": true
   },
   "outputs": [
    {
     "data": {
      "image/png": "[encoded data removed]",
      "text/plain": [
       "<Figure size 360x288 with 1 Axes>"
      ]
     },
     "metadata": {
      "needs_background": "light"
     },
     "output_type": "display_data"
    }
   ],
   "source": [
    "plt.figure(figsize = (5,4))\n",
    "\n",
    "plt.hist(features['age'],bins = 20, color = 'green',)\n",
    "plt.title('Age Distribution',fontsize= 18)\n",
    "plt.xlabel('Age', fontsize = 10)\n",
    "plt.ylabel('Y', fontsize = 10)\n",
    "\n",
    "plt.show()"
   ]
  },
  {
   "cell_type": "code",
   "execution_count": null,
   "metadata": {},
   "outputs": [
    {
     "data": {
      "image/png": "[encoded data removed]",
      "text/plain": [
       "<Figure size 360x288 with 1 Axes>"
      ]
     },
     "metadata": {
      "needs_background": "light"
     },
     "output_type": "display_data"
    }
   ],
   "source": [
    "plt.figure(figsize = (5,4))\n",
    "\n",
    "plt.hist(features['hours-per-week'],bins = 20, color = 'green',)\n",
    "plt.title('Hours-per-Week Distribution',fontsize= 18)\n",
    "plt.xlabel('Hours-per-Week', fontsize = 10)\n",
    "plt.ylabel('Y', fontsize = 10)\n",
    "\n",
    "plt.show()"
   ]
  },
  {
   "cell_type": "markdown",
   "metadata": {},
   "source": [
    "Based on the distribution graph of \"age\" and \"hours-per-week\", we can estimate the mean of \"age\" is about 36, and the mean of \"hours-per-week\" is about 40."
   ]
  },
  {
   "cell_type": "markdown",
   "metadata": {},
   "source": [
    "Using Seaborn, create a bar plot of the `occupation` feature with sub-bars (hue) for the `sex` feature. "
   ]
  },
  {
   "cell_type": "code",
   "execution_count": null,
   "metadata": {},
   "outputs": [
    {
     "data": {
      "image/png": "[encoded data removed]",
      "text/plain": [
       "<Figure size 1584x576 with 1 Axes>"
      ]
     },
     "metadata": {
      "needs_background": "light"
     },
     "output_type": "display_data"
    }
   ],
   "source": [
    "import seaborn as sns\n",
    "\n",
    "plt.figure(figsize = (22,8))\n",
    "sns.countplot(data = features, x = 'occupation', hue = 'sex');"
   ]
  },
  {
   "cell_type": "markdown",
   "metadata": {},
   "source": [
    "### Check Correlated Features"
   ]
  },
  {
   "cell_type": "markdown",
   "metadata": {},
   "source": [
    "Calculate the correlation between the numerical features, and plot a heatmap of the correlations. "
   ]
  },
  {
   "cell_type": "code",
   "execution_count": null,
   "metadata": {},
   "outputs": [
    {
     "data": {
      "image/png": "[encoded data removed]",
      "text/plain": [
       "<Figure size 648x648 with 2 Axes>"
      ]
     },
     "metadata": {
      "needs_background": "light"
     },
     "output_type": "display_data"
    }
   ],
   "source": [
    "correlation = features.corr()\n",
    "plt.figure(figsize = (9,9))\n",
    "sns.heatmap(correlation, annot = True);"
   ]
  },
  {
   "cell_type": "markdown",
   "metadata": {},
   "source": [
    "Based on the heatmap, the 4 numerical columns are lowly correlated. "
   ]
  },
  {
   "cell_type": "markdown",
   "metadata": {},
   "source": [
    "### Encoding Categorical Features"
   ]
  },
  {
   "cell_type": "markdown",
   "metadata": {},
   "source": [
    "Use the Ordinal Encoder in scikit-learn to encode all columns with text data, except for the column `income`. "
   ]
  },
  {
   "cell_type": "code",
   "execution_count": null,
   "metadata": {},
   "outputs": [
    {
     "data": {
      "text/plain": [
       "array([[ 4.,  4.,  7., ...,  2.,  1., 39.],\n",
       "       [ 4.,  2.,  5., ...,  4.,  1., 39.],\n",
       "       [ 2.,  2., 11., ...,  4.,  1., 39.],\n",
       "       ...,\n",
       "       [ 4.,  6.,  1., ...,  4.,  0., 39.],\n",
       "       [ 4.,  4.,  1., ...,  4.,  1., 39.],\n",
       "       [ 5.,  2.,  4., ...,  4.,  0., 39.]])"
      ]
     },
     "execution_count": 18,
     "metadata": {},
     "output_type": "execute_result"
    }
   ],
   "source": [
    "from sklearn.preprocessing import OrdinalEncoder\n",
    "\n",
    "categorical_columns_features = features[['workclass','marital-status',\n",
    "                                         'occupation','relationship',\n",
    "                                         'race','sex',\n",
    "                                         'native-country']]\n",
    "\n",
    "ordinalEncoder = OrdinalEncoder()\n",
    "categorical_columns_ordinal = ordinalEncoder.fit_transform(categorical_columns_features)\n",
    "\n",
    "categorical_columns_ordinal"
   ]
  },
  {
   "cell_type": "code",
   "execution_count": 19,
   "metadata": {},
   "outputs": [
    {
     "data": {
      "text/html": [
       "<div>\n",
       "<style scoped>\n",
       "    .dataframe tbody tr th:only-of-type {\n",
       "        vertical-align: middle;\n",
       "    }\n",
       "\n",
       "    .dataframe tbody tr th {\n",
       "        vertical-align: top;\n",
       "    }\n",
       "\n",
       "    .dataframe thead th {\n",
       "        text-align: right;\n",
       "    }\n",
       "</style>\n",
       "<table border=\"1\" class=\"dataframe\">\n",
       "  <thead>\n",
       "    <tr style=\"text-align: right;\">\n",
       "      <th></th>\n",
       "      <th>age</th>\n",
       "      <th>workclass</th>\n",
       "      <th>education-num</th>\n",
       "      <th>marital-status</th>\n",
       "      <th>occupation</th>\n",
       "      <th>relationship</th>\n",
       "      <th>race</th>\n",
       "      <th>sex</th>\n",
       "      <th>capital-gain</th>\n",
       "      <th>capital-loss</th>\n",
       "      <th>hours-per-week</th>\n",
       "      <th>native-country</th>\n",
       "      <th>income</th>\n",
       "    </tr>\n",
       "  </thead>\n",
       "  <tbody>\n",
       "    <tr>\n",
       "      <th>0</th>\n",
       "      <td>25</td>\n",
       "      <td>4.0</td>\n",
       "      <td>7</td>\n",
       "      <td>4.0</td>\n",
       "      <td>7.0</td>\n",
       "      <td>3.0</td>\n",
       "      <td>2.0</td>\n",
       "      <td>1.0</td>\n",
       "      <td>0</td>\n",
       "      <td>0.0</td>\n",
       "      <td>40</td>\n",
       "      <td>39.0</td>\n",
       "      <td>&lt;=50K</td>\n",
       "    </tr>\n",
       "    <tr>\n",
       "      <th>1</th>\n",
       "      <td>38</td>\n",
       "      <td>4.0</td>\n",
       "      <td>9</td>\n",
       "      <td>2.0</td>\n",
       "      <td>5.0</td>\n",
       "      <td>0.0</td>\n",
       "      <td>4.0</td>\n",
       "      <td>1.0</td>\n",
       "      <td>0</td>\n",
       "      <td>0.0</td>\n",
       "      <td>50</td>\n",
       "      <td>39.0</td>\n",
       "      <td>&lt;=50K</td>\n",
       "    </tr>\n",
       "    <tr>\n",
       "      <th>2</th>\n",
       "      <td>28</td>\n",
       "      <td>2.0</td>\n",
       "      <td>12</td>\n",
       "      <td>2.0</td>\n",
       "      <td>11.0</td>\n",
       "      <td>0.0</td>\n",
       "      <td>4.0</td>\n",
       "      <td>1.0</td>\n",
       "      <td>0</td>\n",
       "      <td>0.0</td>\n",
       "      <td>40</td>\n",
       "      <td>39.0</td>\n",
       "      <td>&gt;50K</td>\n",
       "    </tr>\n",
       "    <tr>\n",
       "      <th>3</th>\n",
       "      <td>44</td>\n",
       "      <td>4.0</td>\n",
       "      <td>10</td>\n",
       "      <td>2.0</td>\n",
       "      <td>7.0</td>\n",
       "      <td>0.0</td>\n",
       "      <td>2.0</td>\n",
       "      <td>1.0</td>\n",
       "      <td>7688</td>\n",
       "      <td>0.0</td>\n",
       "      <td>40</td>\n",
       "      <td>39.0</td>\n",
       "      <td>&gt;50K</td>\n",
       "    </tr>\n",
       "    <tr>\n",
       "      <th>4</th>\n",
       "      <td>18</td>\n",
       "      <td>0.0</td>\n",
       "      <td>10</td>\n",
       "      <td>4.0</td>\n",
       "      <td>0.0</td>\n",
       "      <td>3.0</td>\n",
       "      <td>4.0</td>\n",
       "      <td>0.0</td>\n",
       "      <td>0</td>\n",
       "      <td>0.0</td>\n",
       "      <td>30</td>\n",
       "      <td>39.0</td>\n",
       "      <td>&lt;=50K</td>\n",
       "    </tr>\n",
       "  </tbody>\n",
       "</table>\n",
       "</div>"
      ],
      "text/plain": [
       "   age  workclass  education-num  marital-status  occupation  relationship  \\\n",
       "0   25        4.0              7             4.0         7.0           3.0   \n",
       "1   38        4.0              9             2.0         5.0           0.0   \n",
       "2   28        2.0             12             2.0        11.0           0.0   \n",
       "3   44        4.0             10             2.0         7.0           0.0   \n",
       "4   18        0.0             10             4.0         0.0           3.0   \n",
       "\n",
       "   race  sex  capital-gain  capital-loss  hours-per-week  native-country  \\\n",
       "0   2.0  1.0             0           0.0              40            39.0   \n",
       "1   4.0  1.0             0           0.0              50            39.0   \n",
       "2   4.0  1.0             0           0.0              40            39.0   \n",
       "3   2.0  1.0          7688           0.0              40            39.0   \n",
       "4   4.0  0.0             0           0.0              30            39.0   \n",
       "\n",
       "   income  \n",
       "0   <=50K  \n",
       "1   <=50K  \n",
       "2    >50K  \n",
       "3    >50K  \n",
       "4   <=50K  "
      ]
     },
     "execution_count": 19,
     "metadata": {},
     "output_type": "execute_result"
    }
   ],
   "source": [
    "features[['workclass',\n",
    "          'marital-status',\n",
    "          'occupation',\n",
    "          'relationship',\n",
    "          'race','sex',\n",
    "          'native-country']] = pd.DataFrame(categorical_columns_ordinal, \n",
    "                                            columns = categorical_columns_features.columns,\n",
    "                                            index = categorical_columns_features.index)\n",
    "\n",
    "features.head()"
   ]
  },
  {
   "cell_type": "markdown",
   "metadata": {},
   "source": [
    "Use the Label Encoder in scikit-learn to encode the feature `income`."
   ]
  },
  {
   "cell_type": "code",
   "execution_count": null,
   "metadata": {},
   "outputs": [
    {
     "name": "stderr",
     "output_type": "stream",
     "text": [
      "/Users/wly/opt/anaconda3/lib/python3.9/site-packages/sklearn/preprocessing/_label.py:115: DataConversionWarning: A column-vector y was passed when a 1d array was expected. Please change the shape of y to (n_samples, ), for example using ravel().\n",
      "  y = column_or_1d(y, warn=True)\n"
     ]
    },
    {
     "data": {
      "text/plain": [
       "array([0, 0, 1, ..., 0, 0, 1])"
      ]
     },
     "execution_count": 20,
     "metadata": {},
     "output_type": "execute_result"
    }
   ],
   "source": [
    "from sklearn.preprocessing import LabelEncoder\n",
    "\n",
    "income_feat = features[['income']]\n",
    "labelEncoder = LabelEncoder()\n",
    "income_feat_label = labelEncoder.fit_transform(income_feat)\n",
    "\n",
    "income_feat_label"
   ]
  },
  {
   "cell_type": "code",
   "execution_count": 21,
   "metadata": {},
   "outputs": [
    {
     "data": {
      "text/html": [
       "<div>\n",
       "<style scoped>\n",
       "    .dataframe tbody tr th:only-of-type {\n",
       "        vertical-align: middle;\n",
       "    }\n",
       "\n",
       "    .dataframe tbody tr th {\n",
       "        vertical-align: top;\n",
       "    }\n",
       "\n",
       "    .dataframe thead th {\n",
       "        text-align: right;\n",
       "    }\n",
       "</style>\n",
       "<table border=\"1\" class=\"dataframe\">\n",
       "  <thead>\n",
       "    <tr style=\"text-align: right;\">\n",
       "      <th></th>\n",
       "      <th>age</th>\n",
       "      <th>workclass</th>\n",
       "      <th>education-num</th>\n",
       "      <th>marital-status</th>\n",
       "      <th>occupation</th>\n",
       "      <th>relationship</th>\n",
       "      <th>race</th>\n",
       "      <th>sex</th>\n",
       "      <th>capital-gain</th>\n",
       "      <th>capital-loss</th>\n",
       "      <th>hours-per-week</th>\n",
       "      <th>native-country</th>\n",
       "      <th>income</th>\n",
       "    </tr>\n",
       "  </thead>\n",
       "  <tbody>\n",
       "    <tr>\n",
       "      <th>0</th>\n",
       "      <td>25</td>\n",
       "      <td>4.0</td>\n",
       "      <td>7</td>\n",
       "      <td>4.0</td>\n",
       "      <td>7.0</td>\n",
       "      <td>3.0</td>\n",
       "      <td>2.0</td>\n",
       "      <td>1.0</td>\n",
       "      <td>0</td>\n",
       "      <td>0.0</td>\n",
       "      <td>40</td>\n",
       "      <td>39.0</td>\n",
       "      <td>0</td>\n",
       "    </tr>\n",
       "    <tr>\n",
       "      <th>1</th>\n",
       "      <td>38</td>\n",
       "      <td>4.0</td>\n",
       "      <td>9</td>\n",
       "      <td>2.0</td>\n",
       "      <td>5.0</td>\n",
       "      <td>0.0</td>\n",
       "      <td>4.0</td>\n",
       "      <td>1.0</td>\n",
       "      <td>0</td>\n",
       "      <td>0.0</td>\n",
       "      <td>50</td>\n",
       "      <td>39.0</td>\n",
       "      <td>0</td>\n",
       "    </tr>\n",
       "    <tr>\n",
       "      <th>2</th>\n",
       "      <td>28</td>\n",
       "      <td>2.0</td>\n",
       "      <td>12</td>\n",
       "      <td>2.0</td>\n",
       "      <td>11.0</td>\n",
       "      <td>0.0</td>\n",
       "      <td>4.0</td>\n",
       "      <td>1.0</td>\n",
       "      <td>0</td>\n",
       "      <td>0.0</td>\n",
       "      <td>40</td>\n",
       "      <td>39.0</td>\n",
       "      <td>1</td>\n",
       "    </tr>\n",
       "    <tr>\n",
       "      <th>3</th>\n",
       "      <td>44</td>\n",
       "      <td>4.0</td>\n",
       "      <td>10</td>\n",
       "      <td>2.0</td>\n",
       "      <td>7.0</td>\n",
       "      <td>0.0</td>\n",
       "      <td>2.0</td>\n",
       "      <td>1.0</td>\n",
       "      <td>7688</td>\n",
       "      <td>0.0</td>\n",
       "      <td>40</td>\n",
       "      <td>39.0</td>\n",
       "      <td>1</td>\n",
       "    </tr>\n",
       "    <tr>\n",
       "      <th>4</th>\n",
       "      <td>18</td>\n",
       "      <td>0.0</td>\n",
       "      <td>10</td>\n",
       "      <td>4.0</td>\n",
       "      <td>0.0</td>\n",
       "      <td>3.0</td>\n",
       "      <td>4.0</td>\n",
       "      <td>0.0</td>\n",
       "      <td>0</td>\n",
       "      <td>0.0</td>\n",
       "      <td>30</td>\n",
       "      <td>39.0</td>\n",
       "      <td>0</td>\n",
       "    </tr>\n",
       "  </tbody>\n",
       "</table>\n",
       "</div>"
      ],
      "text/plain": [
       "   age  workclass  education-num  marital-status  occupation  relationship  \\\n",
       "0   25        4.0              7             4.0         7.0           3.0   \n",
       "1   38        4.0              9             2.0         5.0           0.0   \n",
       "2   28        2.0             12             2.0        11.0           0.0   \n",
       "3   44        4.0             10             2.0         7.0           0.0   \n",
       "4   18        0.0             10             4.0         0.0           3.0   \n",
       "\n",
       "   race  sex  capital-gain  capital-loss  hours-per-week  native-country  \\\n",
       "0   2.0  1.0             0           0.0              40            39.0   \n",
       "1   4.0  1.0             0           0.0              50            39.0   \n",
       "2   4.0  1.0             0           0.0              40            39.0   \n",
       "3   2.0  1.0          7688           0.0              40            39.0   \n",
       "4   4.0  0.0             0           0.0              30            39.0   \n",
       "\n",
       "   income  \n",
       "0       0  \n",
       "1       0  \n",
       "2       1  \n",
       "3       1  \n",
       "4       0  "
      ]
     },
     "execution_count": 21,
     "metadata": {},
     "output_type": "execute_result"
    }
   ],
   "source": [
    "features[['income']] = pd.DataFrame(income_feat_label, \n",
    "                                    columns = income_feat.columns,\n",
    "                                    index = income_feat.index)\n",
    "features.head()                              "
   ]
  },
  {
   "cell_type": "markdown",
   "metadata": {},
   "source": [
    "### Scaling Numerical Features"
   ]
  },
  {
   "cell_type": "markdown",
   "metadata": {},
   "source": [
    "Create target labels named `y` consisting of the `income` column, and a data label named `X` including all remaining columns."
   ]
  },
  {
   "cell_type": "code",
   "execution_count": null,
   "metadata": {
    "scrolled": true
   },
   "outputs": [
    {
     "data": {
      "text/html": [
       "<div>\n",
       "<style scoped>\n",
       "    .dataframe tbody tr th:only-of-type {\n",
       "        vertical-align: middle;\n",
       "    }\n",
       "\n",
       "    .dataframe tbody tr th {\n",
       "        vertical-align: top;\n",
       "    }\n",
       "\n",
       "    .dataframe thead th {\n",
       "        text-align: right;\n",
       "    }\n",
       "</style>\n",
       "<table border=\"1\" class=\"dataframe\">\n",
       "  <thead>\n",
       "    <tr style=\"text-align: right;\">\n",
       "      <th></th>\n",
       "      <th>age</th>\n",
       "      <th>workclass</th>\n",
       "      <th>education-num</th>\n",
       "      <th>marital-status</th>\n",
       "      <th>occupation</th>\n",
       "      <th>relationship</th>\n",
       "      <th>race</th>\n",
       "      <th>sex</th>\n",
       "      <th>capital-gain</th>\n",
       "      <th>capital-loss</th>\n",
       "      <th>hours-per-week</th>\n",
       "      <th>native-country</th>\n",
       "    </tr>\n",
       "  </thead>\n",
       "  <tbody>\n",
       "    <tr>\n",
       "      <th>0</th>\n",
       "      <td>25</td>\n",
       "      <td>4.0</td>\n",
       "      <td>7</td>\n",
       "      <td>4.0</td>\n",
       "      <td>7.0</td>\n",
       "      <td>3.0</td>\n",
       "      <td>2.0</td>\n",
       "      <td>1.0</td>\n",
       "      <td>0</td>\n",
       "      <td>0.0</td>\n",
       "      <td>40</td>\n",
       "      <td>39.0</td>\n",
       "    </tr>\n",
       "    <tr>\n",
       "      <th>1</th>\n",
       "      <td>38</td>\n",
       "      <td>4.0</td>\n",
       "      <td>9</td>\n",
       "      <td>2.0</td>\n",
       "      <td>5.0</td>\n",
       "      <td>0.0</td>\n",
       "      <td>4.0</td>\n",
       "      <td>1.0</td>\n",
       "      <td>0</td>\n",
       "      <td>0.0</td>\n",
       "      <td>50</td>\n",
       "      <td>39.0</td>\n",
       "    </tr>\n",
       "    <tr>\n",
       "      <th>2</th>\n",
       "      <td>28</td>\n",
       "      <td>2.0</td>\n",
       "      <td>12</td>\n",
       "      <td>2.0</td>\n",
       "      <td>11.0</td>\n",
       "      <td>0.0</td>\n",
       "      <td>4.0</td>\n",
       "      <td>1.0</td>\n",
       "      <td>0</td>\n",
       "      <td>0.0</td>\n",
       "      <td>40</td>\n",
       "      <td>39.0</td>\n",
       "    </tr>\n",
       "  </tbody>\n",
       "</table>\n",
       "</div>"
      ],
      "text/plain": [
       "   age  workclass  education-num  marital-status  occupation  relationship  \\\n",
       "0   25        4.0              7             4.0         7.0           3.0   \n",
       "1   38        4.0              9             2.0         5.0           0.0   \n",
       "2   28        2.0             12             2.0        11.0           0.0   \n",
       "\n",
       "   race  sex  capital-gain  capital-loss  hours-per-week  native-country  \n",
       "0   2.0  1.0             0           0.0              40            39.0  \n",
       "1   4.0  1.0             0           0.0              50            39.0  \n",
       "2   4.0  1.0             0           0.0              40            39.0  "
      ]
     },
     "execution_count": 22,
     "metadata": {},
     "output_type": "execute_result"
    }
   ],
   "source": [
    "y = features['income']\n",
    "X = features.drop(['income'], axis = 1)\n",
    "X.head(3)"
   ]
  },
  {
   "cell_type": "markdown",
   "metadata": {},
   "source": [
    "Split the data and targets into train and test sets, where the test set will be 25% of all data. Use a random seed of 123. Print the shapes of the train and test sets. "
   ]
  },
  {
   "cell_type": "code",
   "execution_count": null,
   "metadata": {},
   "outputs": [
    {
     "name": "stdout",
     "output_type": "stream",
     "text": [
      "X_train shape:  (36619, 12)\n",
      "X_test shape:  (12207, 12)\n",
      "y_train shape:  (36619,)\n",
      "y_test shape:  (12207,)\n"
     ]
    }
   ],
   "source": [
    "from sklearn.model_selection import train_test_split\n",
    "\n",
    "X_train,X_test,y_train,y_test = train_test_split(X,y, random_state = 123, test_size = 0.25, stratify = y)\n",
    "print(\"X_train shape: \",X_train.shape)\n",
    "print(\"X_test shape: \", X_test.shape)\n",
    "print(\"y_train shape: \", y_train.shape)\n",
    "print(\"y_test shape: \",y_test.shape)"
   ]
  },
  {
   "cell_type": "markdown",
   "metadata": {},
   "source": [
    "Use standardization to scale all columns in the data to have 0 mean and 1 standard deviation."
   ]
  },
  {
   "cell_type": "code",
   "execution_count": null,
   "metadata": {},
   "outputs": [],
   "source": [
    "from sklearn.preprocessing import StandardScaler\n",
    "\n",
    "stdEncoder = StandardScaler()\n",
    "\n",
    "X_train_std = stdEncoder.fit_transform(X_train)\n",
    "X_test_std = stdEncoder.fit_transform(X_test)"
   ]
  },
  {
   "cell_type": "code",
   "execution_count": 89,
   "metadata": {},
   "outputs": [
    {
     "data": {
      "text/plain": [
       "array([[ 0.53730411,  0.08854478,  1.13155729, ..., -0.21360324,\n",
       "        -0.0143054 ,  0.2866509 ],\n",
       "       [-1.1367686 ,  0.08854478, -0.42526659, ..., -0.21360324,\n",
       "        -0.0143054 , -4.84059414],\n",
       "       [-0.48169667,  2.11263877,  2.2991752 , ..., -0.21360324,\n",
       "         4.77108046, -4.84059414],\n",
       "       ...,\n",
       "       [ 0.39173257,  0.08854478, -1.98209047, ..., -0.21360324,\n",
       "        -0.0143054 ,  0.2866509 ],\n",
       "       [ 1.04680451,  1.43794078,  1.13155729, ..., -0.21360324,\n",
       "         1.6078593 ,  0.2866509 ],\n",
       "       [ 0.97401874,  0.08854478, -0.42526659, ..., -0.21360324,\n",
       "        -0.17652187,  0.2866509 ]])"
      ]
     },
     "execution_count": 89,
     "metadata": {},
     "output_type": "execute_result"
    }
   ],
   "source": [
    "X_test_std"
   ]
  },
  {
   "cell_type": "markdown",
   "metadata": {},
   "source": [
    "## Training Classifiers "
   ]
  },
  {
   "cell_type": "markdown",
   "metadata": {},
   "source": [
    "Train all 8 studied classifiers on the training set and evaluate the accuracy on the test set. Use the default values for the classifiers, unless instructed otherwise in the following lines. \n",
    "They include:\n",
    "- k-Nearest Neighbors\n",
    "- SVM (use the linear kernel)\n",
    "- Logistic Regression\n",
    "- Decision Trees\n",
    "- Random Forest (use at least 50 estimators)\n",
    "- Naive Bayes (GaussianNB)\n",
    "- Perceptron (try different number of epochs and learning rate)\n",
    "- SGD (use 'hinge' loss, at least 50 iterations)\n",
    "\n",
    "Report which models have the best performance."
   ]
  },
  {
   "cell_type": "code",
   "execution_count": null,
   "metadata": {},
   "outputs": [
    {
     "name": "stderr",
     "output_type": "stream",
     "text": [
      "/Users/wly/opt/anaconda3/lib/python3.9/site-packages/sklearn/neighbors/_classification.py:228: FutureWarning: Unlike other reduction functions (e.g. `skew`, `kurtosis`), the default behavior of `mode` typically preserves the axis it acts along. In SciPy 1.11.0, this behavior will change: the default value of `keepdims` will become False, the `axis` over which the statistic is taken will be eliminated, and the value None will no longer be accepted. Set `keepdims` to True or False to avoid this warning.\n",
      "  mode, _ = stats.mode(_y[neigh_ind, k], axis=1)\n"
     ]
    },
    {
     "name": "stdout",
     "output_type": "stream",
     "text": [
      "accuracy is: 83.14%\n"
     ]
    }
   ],
   "source": [
    "# k-Nearest Neighbors\n",
    "from sklearn import neighbors\n",
    "\n",
    "knn_model = neighbors.KNeighborsClassifier()\n",
    "\n",
    "knn_model.fit(X_train_std, y_train)\n",
    "accuracy = knn_model.score(X_test_std, y_test)\n",
    "\n",
    "print(f'accuracy is: {round(accuracy,4) * 100}%')"
   ]
  },
  {
   "cell_type": "code",
   "execution_count": 97,
   "metadata": {},
   "outputs": [
    {
     "name": "stdout",
     "output_type": "stream",
     "text": [
      "accuracy is:81.12%\n"
     ]
    }
   ],
   "source": [
    "# SVM model\n",
    "\n",
    "from sklearn.svm import SVC\n",
    "\n",
    "linear_svm = SVC(kernel = 'linear')\n",
    "\n",
    "linear_svm.fit(X_train_std, y_train)\n",
    "accuracy = linear_svm.score(X_test_std, y_test)\n",
    "\n",
    "print(f'accuracy is:{round(accuracy,4)*100}%')\n"
   ]
  },
  {
   "cell_type": "code",
   "execution_count": 98,
   "metadata": {},
   "outputs": [
    {
     "name": "stdout",
     "output_type": "stream",
     "text": [
      "accuracy is: 82.08%\n"
     ]
    }
   ],
   "source": [
    "# Logistic Regression\n",
    "from sklearn.linear_model import LogisticRegression\n",
    "\n",
    "lr_model = LogisticRegression()\n",
    "\n",
    "lr_model.fit(X_train_std,y_train)\n",
    "accuracy = lr_model.score(X_test_std, y_test)\n",
    "\n",
    "print(f'accuracy is: {round(accuracy,4) * 100}%')"
   ]
  },
  {
   "cell_type": "code",
   "execution_count": 99,
   "metadata": {},
   "outputs": [
    {
     "name": "stdout",
     "output_type": "stream",
     "text": [
      "accuracy is: 84.06%\n"
     ]
    }
   ],
   "source": [
    "# Decision Trees\n",
    "from sklearn.tree import DecisionTreeClassifier\n",
    "\n",
    "tree_model = DecisionTreeClassifier(criterion = 'gini', max_depth = 4)\n",
    "\n",
    "tree_model.fit(X_train_std, y_train)\n",
    "accuracy = tree_model.score(X_test_std,y_test)\n",
    "\n",
    "print(f'accuracy is: {round(accuracy,4) * 100}%')"
   ]
  },
  {
   "cell_type": "code",
   "execution_count": 100,
   "metadata": {},
   "outputs": [
    {
     "name": "stdout",
     "output_type": "stream",
     "text": [
      "accuracy is: 84.06%\n"
     ]
    }
   ],
   "source": [
    "# Random Forest (use at least 50 estimators)\n",
    "from sklearn.ensemble import RandomForestClassifier\n",
    "\n",
    "rf_model = RandomForestClassifier(criterion = 'gini', n_estimators = 50)\n",
    "rf_model.fit(X_train_std, y_train)\n",
    "rf_model.score(X_test_std, y_test)\n",
    "\n",
    "print('accuracy is: {0:5.2f}%'.format(accuracy * 100))"
   ]
  },
  {
   "cell_type": "code",
   "execution_count": 101,
   "metadata": {},
   "outputs": [
    {
     "name": "stdout",
     "output_type": "stream",
     "text": [
      "accuracy is: 79.78%\n"
     ]
    }
   ],
   "source": [
    "# Naive Bayes (GaussianNB)\n",
    "from sklearn.naive_bayes import GaussianNB\n",
    "\n",
    "nb_model = GaussianNB()\n",
    "\n",
    "nb_model.fit(X_train_std,y_train)\n",
    "accuracy = nb_model.score(X_test_std, y_test)\n",
    "\n",
    "print('accuracy is: {0:5.2f}%'.format(accuracy * 100))\n"
   ]
  },
  {
   "cell_type": "code",
   "execution_count": 102,
   "metadata": {},
   "outputs": [
    {
     "name": "stdout",
     "output_type": "stream",
     "text": [
      "accuracy is: 75.54%\n"
     ]
    }
   ],
   "source": [
    "# Perceptron model_1 (try different number of epochs and learning rate)\n",
    "from sklearn.linear_model import Perceptron\n",
    "\n",
    "ppn_model_1 = Perceptron(max_iter = 40, eta0 = 0.1)\n",
    "\n",
    "ppn_model_1.fit(X_train_std, y_train)\n",
    "accuracy_1 = ppn_model_1.score(X_test_std, y_test)\n",
    "\n",
    "print(\"accuracy is: {0:5.2f}%\".format(accuracy_1 * 100))"
   ]
  },
  {
   "cell_type": "code",
   "execution_count": 103,
   "metadata": {},
   "outputs": [
    {
     "name": "stdout",
     "output_type": "stream",
     "text": [
      "accuracy is: 75.54%\n"
     ]
    }
   ],
   "source": [
    "# Perceptron model_2 (try different number of epochs and learning rate)\n",
    "from sklearn.linear_model import Perceptron\n",
    "\n",
    "ppn_model_2 = Perceptron(max_iter = 50, eta0 = 0.01)\n",
    "\n",
    "ppn_model_2.fit(X_train_std, y_train)\n",
    "accuracy_2 = ppn_model_2.score(X_test_std, y_test)\n",
    "\n",
    "print(\"accuracy is: {0:5.2f}%\".format(accuracy_2 * 100))"
   ]
  },
  {
   "cell_type": "code",
   "execution_count": 104,
   "metadata": {},
   "outputs": [
    {
     "name": "stdout",
     "output_type": "stream",
     "text": [
      "accuracy is: 75.54%\n"
     ]
    }
   ],
   "source": [
    "# Perceptron model_3 (try different number of epochs and learning rate)\n",
    "from sklearn.linear_model import Perceptron\n",
    "\n",
    "ppn_model_3 = Perceptron(max_iter = 60, eta0 = 0.001)\n",
    "\n",
    "ppn_model_3.fit(X_train_std, y_train)\n",
    "accuracy_3 = ppn_model_3.score(X_test_std, y_test)\n",
    "\n",
    "print(\"accuracy is: {0:5.2f}%\".format(accuracy_3 * 100))"
   ]
  },
  {
   "cell_type": "code",
   "execution_count": 105,
   "metadata": {},
   "outputs": [
    {
     "name": "stdout",
     "output_type": "stream",
     "text": [
      "accuracy is: 81.16%\n"
     ]
    }
   ],
   "source": [
    "# SGD (use 'hinge' loss, at least 50 iterations)\n",
    "from sklearn.linear_model import SGDClassifier\n",
    "\n",
    "sgd_model = SGDClassifier()\n",
    "\n",
    "sgd_model.fit(X_train_std, y_train)\n",
    "accuracy = sgd_model.score(X_test_std, y_test)\n",
    "\n",
    "print(f'accuracy is: {round(accuracy,4) * 100}%')\n"
   ]
  },
  {
   "cell_type": "markdown",
   "metadata": {},
   "source": [
    "## Hyperparameter Tuning "
   ]
  },
  {
   "cell_type": "markdown",
   "metadata": {},
   "source": [
    "For the two best-performing approaches, perform hyperparameter tuning. Use a grid search for one approach with at least 5 values, and a random search for the other approach with at least 10 samples from the distribution. Choose between 1 and 3 hyperparameters, based on the used classifier."
   ]
  },
  {
   "cell_type": "code",
   "execution_count": null,
   "metadata": {},
   "outputs": [],
   "source": []
  },
  {
   "cell_type": "markdown",
   "metadata": {},
   "source": [
    "Decision Tree and Random Forest are the best two approaches in my experiment, so I will operate hyperparameter tuning on these two models.I will implement grid search on Random Forest model and random search on Desicion Tree model."
   ]
  },
  {
   "cell_type": "code",
   "execution_count": 107,
   "metadata": {},
   "outputs": [
    {
     "name": "stdout",
     "output_type": "stream",
     "text": [
      "Accuracy: 85.0%\n",
      "Best parameters: {'max_depth': 7, 'min_samples_leaf': 5, 'min_samples_split': 7, 'n_estimators': 45}\n"
     ]
    }
   ],
   "source": [
    "# Grid Search on Random Forest model\n",
    "from sklearn.model_selection import GridSearchCV\n",
    "\n",
    "rf_model_gridsearch = RandomForestClassifier()\n",
    "hyper_grid = {\n",
    "    'n_estimators':[40,45,50,55,60],\n",
    "    'max_depth':[3,4,5,6,7],\n",
    "    'min_samples_split':[4,7,9,10,14],\n",
    "    'min_samples_leaf':[5,10,13,15,20]    \n",
    "}\n",
    "\n",
    "grid_search = GridSearchCV(rf_model_gridsearch, hyper_grid,scoring = 'accuracy')\n",
    "result = grid_search.fit(X_train_std, y_train)\n",
    "\n",
    "print(f'Accuracy: {round(result.best_score_,4) * 100}%')\n",
    "print('Best parameters: {}'.format(result.best_params_))"
   ]
  },
  {
   "cell_type": "code",
   "execution_count": 110,
   "metadata": {},
   "outputs": [
    {
     "name": "stdout",
     "output_type": "stream",
     "text": [
      "Accuarcy is: 84.43%\n"
     ]
    }
   ],
   "source": [
    "accuracy = grid_search.score(X_test_std,y_test)\n",
    "print(f'Accuarcy is: {round(accuracy,4) * 100}%')"
   ]
  },
  {
   "cell_type": "code",
   "execution_count": 111,
   "metadata": {},
   "outputs": [
    {
     "name": "stdout",
     "output_type": "stream",
     "text": [
      "Accuracy:85.44%\n",
      "Best parameters:  {'max_depth': 6, 'min_samples_leaf': 7, 'min_samples_split': 5}\n"
     ]
    }
   ],
   "source": [
    "#random search for Decision Tree\n",
    "from scipy.stats import randint\n",
    "from sklearn.model_selection import RandomizedSearchCV\n",
    "\n",
    "dt_random_search = DecisionTreeClassifier()\n",
    "\n",
    "hyper_distribution = {'max_depth':randint(2,7),\n",
    "                     'min_samples_split': randint(3,7),\n",
    "                     'min_samples_leaf':randint(4,8)}\n",
    "\n",
    "random_search = RandomizedSearchCV(dt_random_search, hyper_distribution, n_iter = 20, scoring = 'accuracy')\n",
    "result = random_search.fit(X_train_std, y_train)\n",
    "\n",
    "print(\"Accuracy:{}%\".format(round(result.best_score_,4) * 100))\n",
    "print(\"Best parameters: \", result.best_params_)"
   ]
  },
  {
   "cell_type": "code",
   "execution_count": 120,
   "metadata": {},
   "outputs": [
    {
     "name": "stdout",
     "output_type": "stream",
     "text": [
      "Accuracy is: 84.0%\n"
     ]
    }
   ],
   "source": [
    "accuray = random_search.score(X_test_std,y_test)\n",
    "print('Accuracy is: {}%'.format(round(accuray,2) * 100))"
   ]
  },
  {
   "cell_type": "markdown",
   "metadata": {},
   "source": [
    "## Cross-Validation "
   ]
  },
  {
   "cell_type": "markdown",
   "metadata": {},
   "source": [
    "For the best performing method in the previous section, use 5-fold cross-validation to calculate the accuracy, and report the mean and standard deviation. "
   ]
  },
  {
   "cell_type": "markdown",
   "metadata": {},
   "source": [
    "Random Forest model has 85% accuracy in training data and 84.43% accuracy on test data;\n",
    "Decision Tree model has 85.44% accuracy in training data and 84% accuracy on test data;\n",
    "Random Forest model has better performance on test data. So I will use Random Forest model in this step."
   ]
  },
  {
   "cell_type": "code",
   "execution_count": null,
   "metadata": {},
   "outputs": [
    {
     "data": {
      "text/plain": [
       "{'fit_time': array([0.40816307, 0.39591074, 0.4009521 , 0.38642669, 0.39326   ]),\n",
       " 'score_time': array([0.02256894, 0.02280331, 0.02405405, 0.02255917, 0.02234483]),\n",
       " 'test_score': array([0.85417804, 0.85185691, 0.86469143, 0.86127799, 0.85251946])}"
      ]
     },
     "execution_count": 123,
     "metadata": {},
     "output_type": "execute_result"
    }
   ],
   "source": [
    "\n",
    "from sklearn.model_selection import cross_validate\n",
    "\n",
    "rf_model = RandomForestClassifier(criterion = 'gini',\n",
    "                                 max_depth = 7,\n",
    "                                 min_samples_leaf = 5,\n",
    "                                 min_samples_split = 7,\n",
    "                                 n_estimators = 45)\n",
    "\n",
    "cv_result = cross_validate(rf_model, X_train_std, y_train, cv = 5)\n",
    "cv_result\n"
   ]
  },
  {
   "cell_type": "code",
   "execution_count": 124,
   "metadata": {},
   "outputs": [
    {
     "name": "stdout",
     "output_type": "stream",
     "text": [
      "The mean cross_validation accuracy is 0.857 +/- 0.005\n"
     ]
    }
   ],
   "source": [
    "scores = cv_result['test_score']\n",
    "print ('The mean cross_validation accuracy is {0:5.3f} +/- {1:5.3f}'.format(scores.mean(), scores.std()))"
   ]
  },
  {
   "cell_type": "code",
   "execution_count": null,
   "metadata": {},
   "outputs": [],
   "source": []
  }
 ],
 "metadata": {
  "kernelspec": {
   "display_name": "Python 3 (ipykernel)",
   "language": "python",
   "name": "python3"
  },
  "language_info": {
   "codemirror_mode": {
    "name": "ipython",
    "version": 3
   },
   "file_extension": ".py",
   "mimetype": "text/x-python",
   "name": "python",
   "nbconvert_exporter": "python",
   "pygments_lexer": "ipython3",
   "version": "3.9.12"
  }
 },
 "nbformat": 4,
 "nbformat_minor": 4
}
