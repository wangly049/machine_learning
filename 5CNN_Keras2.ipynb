{
 "cells": [
  {
   "cell_type": "markdown",
   "metadata": {
    "id": "3uY9v1Z0BwZ-"
   },
   "source": [
    "# Convolutional Neural Networks with Keras and TensorFlow Exercise "
   ]
  },
  {
   "cell_type": "code",
   "execution_count": 1,
   "metadata": {
    "colab": {
     "base_uri": "https://localhost:8080/"
    },
    "executionInfo": {
     "elapsed": 15877,
     "status": "ok",
     "timestamp": 1700084866201,
     "user": {
      "displayName": "Liyan Wang",
      "userId": "15329650402360340238"
     },
     "user_tz": 480
    },
    "id": "wPmehpiX89LS",
    "outputId": "5ed6952f-bde5-48cf-8823-ae87a385398e"
   },
   "outputs": [
    {
     "name": "stdout",
     "output_type": "stream",
     "text": [
      "Mounted at /content/drive\n"
     ]
    }
   ],
   "source": [
    "from google.colab import drive\n",
    "drive.mount('/content/drive')"
   ]
  },
  {
   "cell_type": "markdown",
   "metadata": {
    "id": "qLiQL-o0jD1l"
   },
   "source": [
    "## Part 1. Load the Dataset\n",
    "\n",
    "For this exercise, we will again use the Fashion MNIST dataset.  The dataset consists of 60,000 train and 10,000 test images of fashion items.\n",
    "\n",
    "Import the necessary libraries (TensorFlow, Keras, NumPy, Matplotlib), and  load the Fashion MNIST dataset from the Keras built-in datasets."
   ]
  },
  {
   "cell_type": "code",
   "execution_count": null,
   "metadata": {
    "executionInfo": {
     "elapsed": 181,
     "status": "ok",
     "timestamp": 1700085196978,
     "user": {
      "displayName": "Liyan Wang",
      "userId": "15329650402360340238"
     },
     "user_tz": 480
    },
    "id": "yo35t7dQZ4tw"
   },
   "outputs": [],
   "source": [
    "\n",
    "import tensorflow as tf\n",
    "from tensorflow import keras\n",
    "import numpy as np\n",
    "import matplotlib.pyplot as plt\n",
    "from sklearn.model_selection import train_test_split\n"
   ]
  },
  {
   "cell_type": "code",
   "execution_count": null,
   "metadata": {
    "colab": {
     "base_uri": "https://localhost:8080/"
    },
    "executionInfo": {
     "elapsed": 149,
     "status": "ok",
     "timestamp": 1700084899267,
     "user": {
      "displayName": "Liyan Wang",
      "userId": "15329650402360340238"
     },
     "user_tz": 480
    },
    "id": "oMoeY3L18x7C",
    "outputId": "58eb953f-c477-497e-98e6-06e7dc7e88a4"
   },
   "outputs": [
    {
     "name": "stdout",
     "output_type": "stream",
     "text": [
      "tensorflow version 2.14.0\n"
     ]
    }
   ],
   "source": [
    "\n",
    "print('tensorflow version {}'.format(tf.__version__))"
   ]
  },
  {
   "cell_type": "code",
   "execution_count": 4,
   "metadata": {
    "colab": {
     "base_uri": "https://localhost:8080/"
    },
    "executionInfo": {
     "elapsed": 1059,
     "status": "ok",
     "timestamp": 1700084903684,
     "user": {
      "displayName": "Liyan Wang",
      "userId": "15329650402360340238"
     },
     "user_tz": 480
    },
    "id": "Kovkas0A8x7D",
    "outputId": "9f5ce2e2-ed0a-4dba-e070-f249892012e6"
   },
   "outputs": [
    {
     "name": "stdout",
     "output_type": "stream",
     "text": [
      "Downloading data from https://storage.googleapis.com/tensorflow/tf-keras-datasets/train-labels-idx1-ubyte.gz\n",
      "29515/29515 [==============================] - 0s 0us/step\n",
      "Downloading data from https://storage.googleapis.com/tensorflow/tf-keras-datasets/train-images-idx3-ubyte.gz\n",
      "26421880/26421880 [==============================] - 0s 0us/step\n",
      "Downloading data from https://storage.googleapis.com/tensorflow/tf-keras-datasets/t10k-labels-idx1-ubyte.gz\n",
      "5148/5148 [==============================] - 0s 0us/step\n",
      "Downloading data from https://storage.googleapis.com/tensorflow/tf-keras-datasets/t10k-images-idx3-ubyte.gz\n",
      "4422102/4422102 [==============================] - 0s 0us/step\n"
     ]
    }
   ],
   "source": [
    "# load Fashion MNIST dataset\n",
    "fashion_mnist = tf.keras.datasets.fashion_mnist\n",
    "(train_data, train_label), (test_data, test_label) = fashion_mnist.load_data()"
   ]
  },
  {
   "cell_type": "code",
   "execution_count": 5,
   "metadata": {
    "executionInfo": {
     "elapsed": 166,
     "status": "ok",
     "timestamp": 1700084906822,
     "user": {
      "displayName": "Liyan Wang",
      "userId": "15329650402360340238"
     },
     "user_tz": 480
    },
    "id": "eAmuosSC8x7D"
   },
   "outputs": [],
   "source": [
    "# convert the labels into one-hot encoding format\n",
    "train_label_onehot_10 = keras.utils.to_categorical(train_label, 10)\n",
    "test_label_onehot_10 = keras.utils.to_categorical(test_label, 10)"
   ]
  },
  {
   "cell_type": "markdown",
   "metadata": {
    "id": "4YN_lP0cEAI9"
   },
   "source": [
    "Display the shape of the train and test arrays of images and labels."
   ]
  },
  {
   "cell_type": "code",
   "execution_count": null,
   "metadata": {
    "colab": {
     "base_uri": "https://localhost:8080/"
    },
    "executionInfo": {
     "elapsed": 164,
     "status": "ok",
     "timestamp": 1700084910099,
     "user": {
      "displayName": "Liyan Wang",
      "userId": "15329650402360340238"
     },
     "user_tz": 480
    },
    "id": "qthXAPF1jRUr",
    "outputId": "477de3d3-ccae-45b9-86b3-155fbe573c97"
   },
   "outputs": [
    {
     "name": "stdout",
     "output_type": "stream",
     "text": [
      "Training data inputs:  (60000, 28, 28)\n",
      "Training label:  (60000, 10)\n",
      "Test data inputs:  (10000, 28, 28)\n",
      "Test label:  (10000, 10)\n"
     ]
    }
   ],
   "source": [
    "\n",
    "print('Training data inputs: ', train_data.shape)\n",
    "print('Training label: ', train_label_onehot_10.shape)\n",
    "print('Test data inputs: ', test_data.shape)\n",
    "print('Test label: ', test_label_onehot_10.shape)"
   ]
  },
  {
   "cell_type": "markdown",
   "metadata": {
    "id": "E3TBM9sYELoj"
   },
   "source": [
    "Display the maximum and minimum values of the images."
   ]
  },
  {
   "cell_type": "code",
   "execution_count": null,
   "metadata": {
    "colab": {
     "base_uri": "https://localhost:8080/"
    },
    "executionInfo": {
     "elapsed": 166,
     "status": "ok",
     "timestamp": 1700084913232,
     "user": {
      "displayName": "Liyan Wang",
      "userId": "15329650402360340238"
     },
     "user_tz": 480
    },
    "id": "RXh3il8bjasT",
    "outputId": "1b60723e-7262-42b3-e273-ea2f0a15f3a0"
   },
   "outputs": [
    {
     "name": "stdout",
     "output_type": "stream",
     "text": [
      "Maximum value in training set:  255\n",
      "Minimum value in training set:  0\n",
      "Maximum value in test set:  255\n",
      "Minimum value in test set:  0\n"
     ]
    }
   ],
   "source": [
    "\n",
    "print('Maximum value in training set: ', train_data.max())\n",
    "print('Minimum value in training set: ', train_data.min())\n",
    "print('Maximum value in test set: ', test_data.max())\n",
    "print('Minimum value in test set: ', test_data.min())"
   ]
  },
  {
   "cell_type": "markdown",
   "metadata": {
    "id": "ZHfXpe48EQl0"
   },
   "source": [
    "Resize the images to be in the [0,1] range, and display again the maximum and minimum values to make sure that the scaling was done properly."
   ]
  },
  {
   "cell_type": "code",
   "execution_count": null,
   "metadata": {
    "colab": {
     "base_uri": "https://localhost:8080/"
    },
    "executionInfo": {
     "elapsed": 239,
     "status": "ok",
     "timestamp": 1700084917065,
     "user": {
      "displayName": "Liyan Wang",
      "userId": "15329650402360340238"
     },
     "user_tz": 480
    },
    "id": "8mYCYXQQjauy",
    "outputId": "c2e68d48-8252-4b8b-c916-e42b1ce0a003",
    "scrolled": true
   },
   "outputs": [
    {
     "name": "stdout",
     "output_type": "stream",
     "text": [
      "Maximum value in training set:  255\n",
      "Minimum value in training set:  0\n",
      "Maximum value in test set:  255\n",
      "Minimum value in test set:  0\n"
     ]
    }
   ],
   "source": [
    "\n",
    "# scale the pixels into range [0,1]\n",
    "fashion_train = train_data/255\n",
    "fashion_test = test_data/255\n",
    "\n",
    "print('Maximum value in training set: ', train_data.max())\n",
    "print('Minimum value in training set: ', train_data.min())\n",
    "print('Maximum value in test set: ', test_data.max())\n",
    "print('Minimum value in test set: ', test_data.min())"
   ]
  },
  {
   "cell_type": "markdown",
   "metadata": {
    "id": "ROgMf6_jErc-"
   },
   "source": [
    "Display several images in the training dataset **and their labels**."
   ]
  },
  {
   "cell_type": "code",
   "execution_count": 9,
   "metadata": {
    "executionInfo": {
     "elapsed": 161,
     "status": "ok",
     "timestamp": 1700084920333,
     "user": {
      "displayName": "Liyan Wang",
      "userId": "15329650402360340238"
     },
     "user_tz": 480
    },
    "id": "7gf3_KXY8x7F"
   },
   "outputs": [],
   "source": [
    "# A list of label names\n",
    "class_names = ['T-shirt/top', 'Trouser', 'Pullover', 'Dress', 'Coat',\n",
    "               'Sandal', 'Shirt', 'Sneaker', 'Bag', 'Ankle boot']"
   ]
  },
  {
   "cell_type": "code",
   "execution_count": 10,
   "metadata": {
    "colab": {
     "base_uri": "https://localhost:8080/",
     "height": 1000
    },
    "executionInfo": {
     "elapsed": 2633,
     "status": "ok",
     "timestamp": 1700084925521,
     "user": {
      "displayName": "Liyan Wang",
      "userId": "15329650402360340238"
     },
     "user_tz": 480
    },
    "id": "ST9E1R2Y8x7F",
    "outputId": "cbc14bc2-75d2-4094-de12-d75cf3b6a44a"
   },
   "outputs": [
    {
     "data": {
      "image/png": "[encoded data removed]",
      "text/plain": [
       "<Figure size 1200x1200 with 9 Axes>"
      ]
     },
     "metadata": {},
     "output_type": "display_data"
    }
   ],
   "source": [
    "plt.figure(figsize = (12,12))\n",
    "for index in range(9):\n",
    "    ax = plt.subplot(3,3, index+1)\n",
    "    img_index = np.random.randint(0, len(train_data),1)\n",
    "    plt.imshow(train_data[img_index[0]],cmap = 'gray')\n",
    "    plt.title(class_names[train_label[img_index[0]]])"
   ]
  },
  {
   "cell_type": "markdown",
   "metadata": {
    "id": "MZT7X-PBE-mZ"
   },
   "source": [
    "## Part 2. Model Definition and Training \n",
    "\n",
    "Create a model called `fminst_1` which has the following layers:\n",
    "- Input layer\n",
    "- Convolutional layer with 128 filters and kernel size of 3 and padding=`same`\n",
    "- Convolutional layer with 128 filters and kernel size of 3 and padding=`same`\n",
    "- Max-pooling layer\n",
    "- Flatten layer\n",
    "- Dense layer with 64 neurons\n",
    "- Output dense layer with 10 neurons"
   ]
  },
  {
   "cell_type": "code",
   "execution_count": null,
   "metadata": {
    "executionInfo": {
     "elapsed": 157,
     "status": "ok",
     "timestamp": 1700085382688,
     "user": {
      "displayName": "Liyan Wang",
      "userId": "15329650402360340238"
     },
     "user_tz": 480
    },
    "id": "Qsgi1kc9E-mZ"
   },
   "outputs": [],
   "source": [
    "\n",
    "# import the models and layers\n",
    "from keras.models import Model\n",
    "from keras.layers import Input\n",
    "from keras.layers import Conv2D\n",
    "from keras.layers import MaxPooling2D\n",
    "from keras.layers import Dense\n",
    "from keras.layers import Flatten\n"
   ]
  },
  {
   "cell_type": "code",
   "execution_count": 21,
   "metadata": {
    "executionInfo": {
     "elapsed": 193,
     "status": "ok",
     "timestamp": 1700085384400,
     "user": {
      "displayName": "Liyan Wang",
      "userId": "15329650402360340238"
     },
     "user_tz": 480
    },
    "id": "H2zfLBcd8x7G"
   },
   "outputs": [],
   "source": [
    "# define the layers in the model\n",
    "inputs = Input(shape = (28,28,1))\n",
    "conv1a = Conv2D(filters = 128, kernel_size = 3, padding = 'same')(inputs)\n",
    "conv1b = Conv2D(filters = 128, kernel_size = 3, padding = 'same')(conv1a)\n",
    "pool1 = MaxPooling2D()(conv1b)\n",
    "flat = Flatten()(pool1)\n",
    "dense1 = Dense(64, activation = 'relu')(flat)\n",
    "outputs = Dense(10, activation = 'softmax')(dense1)"
   ]
  },
  {
   "cell_type": "code",
   "execution_count": 22,
   "metadata": {
    "executionInfo": {
     "elapsed": 172,
     "status": "ok",
     "timestamp": 1700085386663,
     "user": {
      "displayName": "Liyan Wang",
      "userId": "15329650402360340238"
     },
     "user_tz": 480
    },
    "id": "FsiFJsdC8x7H"
   },
   "outputs": [],
   "source": [
    "fminst_1 = Model(inputs, outputs)"
   ]
  },
  {
   "cell_type": "markdown",
   "metadata": {
    "id": "l3hd_BDxFsFz"
   },
   "source": [
    "Display a summary of the model. State how many parameters the model has."
   ]
  },
  {
   "cell_type": "code",
   "execution_count": null,
   "metadata": {
    "colab": {
     "base_uri": "https://localhost:8080/"
    },
    "executionInfo": {
     "elapsed": 176,
     "status": "ok",
     "timestamp": 1700085389133,
     "user": {
      "displayName": "Liyan Wang",
      "userId": "15329650402360340238"
     },
     "user_tz": 480
    },
    "id": "iWnSWvcBE-mZ",
    "outputId": "ef50e02e-7369-4eba-9839-6b99b9aba87d"
   },
   "outputs": [
    {
     "name": "stdout",
     "output_type": "stream",
     "text": [
      "Model: \"model\"\n",
      "_________________________________________________________________\n",
      " Layer (type)                Output Shape              Param #   \n",
      "=================================================================\n",
      " input_3 (InputLayer)        [(None, 28, 28, 1)]       0         \n",
      "                                                                 \n",
      " conv2d_4 (Conv2D)           (None, 28, 28, 128)       1280      \n",
      "                                                                 \n",
      " conv2d_5 (Conv2D)           (None, 28, 28, 128)       147584    \n",
      "                                                                 \n",
      " max_pooling2d_2 (MaxPoolin  (None, 14, 14, 128)       0         \n",
      " g2D)                                                            \n",
      "                                                                 \n",
      " flatten_2 (Flatten)         (None, 25088)             0         \n",
      "                                                                 \n",
      " dense_4 (Dense)             (None, 64)                1605696   \n",
      "                                                                 \n",
      " dense_5 (Dense)             (None, 10)                650       \n",
      "                                                                 \n",
      "=================================================================\n",
      "Total params: 1755210 (6.70 MB)\n",
      "Trainable params: 1755210 (6.70 MB)\n",
      "Non-trainable params: 0 (0.00 Byte)\n",
      "_________________________________________________________________\n"
     ]
    }
   ],
   "source": [
    "\n",
    "fminst_1.summary()"
   ]
  },
  {
   "cell_type": "markdown",
   "metadata": {
    "id": "-Cc9l0o6GHZA"
   },
   "source": [
    "Reshape the train arrays of images from the current shape of (60000, 28, 28) to (60000, 28, 28, 1).\n",
    "Repeat the same for the test array of images."
   ]
  },
  {
   "cell_type": "code",
   "execution_count": null,
   "metadata": {
    "executionInfo": {
     "elapsed": 172,
     "status": "ok",
     "timestamp": 1700085458060,
     "user": {
      "displayName": "Liyan Wang",
      "userId": "15329650402360340238"
     },
     "user_tz": 480
    },
    "id": "lDdsapRnGWnQ"
   },
   "outputs": [],
   "source": [
    "\n",
    "train_data = train_data.reshape(60000, 28, 28,1)\n",
    "test_data = test_data[:,:,:,np.newaxis]"
   ]
  },
  {
   "cell_type": "markdown",
   "metadata": {
    "id": "36-INkBnBJAd"
   },
   "source": [
    "Display the shape of the train and test arrays, to make sure they are as expected."
   ]
  },
  {
   "cell_type": "code",
   "execution_count": null,
   "metadata": {
    "colab": {
     "base_uri": "https://localhost:8080/"
    },
    "executionInfo": {
     "elapsed": 168,
     "status": "ok",
     "timestamp": 1700085460635,
     "user": {
      "displayName": "Liyan Wang",
      "userId": "15329650402360340238"
     },
     "user_tz": 480
    },
    "id": "598TB8jlBJpj",
    "outputId": "eb36c972-247f-42a0-cb98-64ad7afb7b79"
   },
   "outputs": [
    {
     "name": "stdout",
     "output_type": "stream",
     "text": [
      "Training data inputs:  (60000, 28, 28, 1)\n",
      "Test data inputs:  (10000, 28, 28, 1)\n"
     ]
    }
   ],
   "source": [
    "\n",
    "print('Training data inputs: ', train_data.shape)\n",
    "print('Test data inputs: ', test_data.shape)"
   ]
  },
  {
   "cell_type": "markdown",
   "metadata": {
    "id": "f9HvTIOZF1_b"
   },
   "source": [
    "Compile the model using Adam optimizer, and train the model for 10 epochs using a batch size of 128 images."
   ]
  },
  {
   "cell_type": "code",
   "execution_count": null,
   "metadata": {
    "executionInfo": {
     "elapsed": 163,
     "status": "ok",
     "timestamp": 1700085463971,
     "user": {
      "displayName": "Liyan Wang",
      "userId": "15329650402360340238"
     },
     "user_tz": 480
    },
    "id": "ur1mrvN6E-mZ"
   },
   "outputs": [],
   "source": [
    "\n",
    "fminst_1.compile (optimizer = 'adam',\n",
    "                 loss = 'categorical_crossentropy',\n",
    "                 metrics = ['accuracy'])\n"
   ]
  },
  {
   "cell_type": "code",
   "execution_count": 30,
   "metadata": {
    "colab": {
     "base_uri": "https://localhost:8080/"
    },
    "executionInfo": {
     "elapsed": 102205,
     "status": "ok",
     "timestamp": 1700085568921,
     "user": {
      "displayName": "Liyan Wang",
      "userId": "15329650402360340238"
     },
     "user_tz": 480
    },
    "id": "2XeFNG9n8x7I",
    "outputId": "006851a4-1368-4999-c118-d73ec6b4939f"
   },
   "outputs": [
    {
     "name": "stdout",
     "output_type": "stream",
     "text": [
      "Epoch 1/10\n",
      "469/469 [==============================] - 19s 19ms/step - loss: 5.1934 - accuracy: 0.3939\n",
      "Epoch 2/10\n",
      "469/469 [==============================] - 9s 19ms/step - loss: 1.2185 - accuracy: 0.5398\n",
      "Epoch 3/10\n",
      "469/469 [==============================] - 9s 19ms/step - loss: 0.8678 - accuracy: 0.6788\n",
      "Epoch 4/10\n",
      "469/469 [==============================] - 9s 19ms/step - loss: 0.7215 - accuracy: 0.7282\n",
      "Epoch 5/10\n",
      "469/469 [==============================] - 9s 19ms/step - loss: 0.6025 - accuracy: 0.7645\n",
      "Epoch 6/10\n",
      "469/469 [==============================] - 10s 21ms/step - loss: 0.5085 - accuracy: 0.8063\n",
      "Epoch 7/10\n",
      "469/469 [==============================] - 9s 19ms/step - loss: 0.3990 - accuracy: 0.8825\n",
      "Epoch 8/10\n",
      "469/469 [==============================] - 9s 19ms/step - loss: 0.3573 - accuracy: 0.8902\n",
      "Epoch 9/10\n",
      "469/469 [==============================] - 9s 20ms/step - loss: 0.3203 - accuracy: 0.8994\n",
      "Epoch 10/10\n",
      "469/469 [==============================] - 10s 22ms/step - loss: 0.3030 - accuracy: 0.9010\n"
     ]
    },
    {
     "data": {
      "text/plain": [
       "<keras.src.callbacks.History at 0x7aa29189d360>"
      ]
     },
     "execution_count": 30,
     "metadata": {},
     "output_type": "execute_result"
    }
   ],
   "source": [
    "fminst_1.fit(train_data, train_label_onehot_10, epochs = 10, batch_size = 128)"
   ]
  },
  {
   "cell_type": "markdown",
   "metadata": {
    "id": "htCRKPG3GnIY"
   },
   "source": [
    "Calculate the accuracy of the model on the test dataset."
   ]
  },
  {
   "cell_type": "code",
   "execution_count": null,
   "metadata": {
    "colab": {
     "base_uri": "https://localhost:8080/"
    },
    "executionInfo": {
     "elapsed": 4338,
     "status": "ok",
     "timestamp": 1700085602993,
     "user": {
      "displayName": "Liyan Wang",
      "userId": "15329650402360340238"
     },
     "user_tz": 480
    },
    "id": "TlWBR4VU8x7I",
    "outputId": "5ae05999-f93e-47a3-c65c-fa9100e18ba4"
   },
   "outputs": [
    {
     "name": "stdout",
     "output_type": "stream",
     "text": [
      "313/313 [==============================] - 4s 9ms/step - loss: 0.4114 - accuracy: 0.8811\n",
      "Test Accuracy:  0.8811\n"
     ]
    }
   ],
   "source": [
    "\n",
    "vals_test = fminst_1.evaluate(test_data, test_label_onehot_10)\n",
    "\n",
    "print('Test Accuracy: ', np.round(vals_test[1],4))"
   ]
  },
  {
   "cell_type": "markdown",
   "metadata": {
    "id": "UJ2VAk7JG4Gr"
   },
   "source": [
    "Plot a few images in the test dataset and **display the ground-truth and predicted labels**. (Note that although for training the model we needed to use images with shape (28,28,1), for plotting the images we need to use images with shape (28,28))."
   ]
  },
  {
   "cell_type": "code",
   "execution_count": 34,
   "metadata": {
    "colab": {
     "base_uri": "https://localhost:8080/"
    },
    "executionInfo": {
     "elapsed": 2845,
     "status": "ok",
     "timestamp": 1700085785425,
     "user": {
      "displayName": "Liyan Wang",
      "userId": "15329650402360340238"
     },
     "user_tz": 480
    },
    "id": "6GNgLQt2Aadr",
    "outputId": "aff95afb-242e-4fc7-ff4e-563f73a5e4a2"
   },
   "outputs": [
    {
     "name": "stdout",
     "output_type": "stream",
     "text": [
      "313/313 [==============================] - 1s 3ms/step\n"
     ]
    }
   ],
   "source": [
    "pre_test = fminst_1.predict(test_data)"
   ]
  },
  {
   "cell_type": "code",
   "execution_count": 35,
   "metadata": {
    "colab": {
     "base_uri": "https://localhost:8080/"
    },
    "executionInfo": {
     "elapsed": 219,
     "status": "ok",
     "timestamp": 1700085790579,
     "user": {
      "displayName": "Liyan Wang",
      "userId": "15329650402360340238"
     },
     "user_tz": 480
    },
    "id": "g5kxeS9n8x7J",
    "outputId": "fe96fe7a-4b11-4a74-9219-dd6cf02ec8d4"
   },
   "outputs": [
    {
     "data": {
      "text/plain": [
       "(10000, 28, 28)"
      ]
     },
     "execution_count": 35,
     "metadata": {},
     "output_type": "execute_result"
    }
   ],
   "source": [
    "test_plot = test_data.reshape(10000, 28, 28)\n",
    "test_plot.shape"
   ]
  },
  {
   "cell_type": "code",
   "execution_count": 36,
   "metadata": {
    "colab": {
     "base_uri": "https://localhost:8080/",
     "height": 1000
    },
    "executionInfo": {
     "elapsed": 1768,
     "status": "ok",
     "timestamp": 1700085794701,
     "user": {
      "displayName": "Liyan Wang",
      "userId": "15329650402360340238"
     },
     "user_tz": 480
    },
    "id": "oBiglxL-8x7J",
    "outputId": "37a6b667-be57-4680-cf65-42b0caef0790"
   },
   "outputs": [
    {
     "data": {
      "image/png": "[encoded data removed]",
      "text/plain": [
       "<Figure size 1200x1200 with 9 Axes>"
      ]
     },
     "metadata": {},
     "output_type": "display_data"
    }
   ],
   "source": [
    "\n",
    "\n",
    "plt.figure(figsize = (12,12))\n",
    "\n",
    "for n in range(9):\n",
    "    ax = plt.subplot(3, 3, n+1)\n",
    "    index = np.random.randint(0, len(test_plot), 1)\n",
    "    plt.imshow(test_plot[index[0]], cmap = 'gray')\n",
    "    plt.title('Label:{}  Predicted:{}'.format(class_names[test_label[index[0]]],\n",
    "                                             class_names[np.argmax(pre_test[index[0]])]))"
   ]
  },
  {
   "cell_type": "markdown",
   "metadata": {
    "id": "UqnJ_lthkoNE"
   },
   "source": [
    "## Part 3. Define a Larger Model and Use Validation Split \n",
    "\n",
    "Create a model called `fmnist_2` which has 3 blocks of Conv-Conv-MaxPooling layers with 64-128-256 filters per block (e.g., the first block should have Conv64-Conv64-MaxPool, etc.), followed by a classifier with a Flatten layer and a sequence of Dense layers with 100, 50, and 10 neurons."
   ]
  },
  {
   "cell_type": "code",
   "execution_count": null,
   "metadata": {
    "executionInfo": {
     "elapsed": 166,
     "status": "ok",
     "timestamp": 1700085821647,
     "user": {
      "displayName": "Liyan Wang",
      "userId": "15329650402360340238"
     },
     "user_tz": 480
    },
    "id": "LDNwyM6njg6M"
   },
   "outputs": [],
   "source": [
    "\n",
    "# define the layers in the model\n",
    "inputs = Input(shape = (28,28,1))\n",
    "conv1a = Conv2D(filters = 64, kernel_size = 3, padding = 'same')(inputs)\n",
    "conv1b = Conv2D(filters = 64, kernel_size = 3, padding = 'same')(conv1a)\n",
    "pool1 = MaxPooling2D()(conv1b)\n",
    "\n",
    "conv2a = Conv2D(filters = 128, kernel_size = 3, padding = 'same')(pool1)\n",
    "conv2b = Conv2D(filters = 128, kernel_size = 3, padding = 'same')(conv2a)\n",
    "pool2 = MaxPooling2D()(conv2b)\n",
    "\n",
    "conv3a = Conv2D(filters = 256, kernel_size = 3, padding = 'same')(pool2)\n",
    "conv3b = Conv2D(filters = 256, kernel_size = 3, padding = 'same')(conv3a)\n",
    "pool3 = MaxPooling2D()(conv3b)\n",
    "\n",
    "flat = Flatten()(pool3)\n",
    "dense1 = Dense(100, activation = 'relu')(flat)\n",
    "dense2 = Dense(50, activation = 'relu')(dense1)\n",
    "outputs = Dense(10, activation = 'softmax')(dense2)\n",
    "\n",
    "# define the model by providing the inputs and outputs\n",
    "fmnist_2 = Model(inputs, outputs)\n"
   ]
  },
  {
   "cell_type": "code",
   "execution_count": 38,
   "metadata": {
    "colab": {
     "base_uri": "https://localhost:8080/"
    },
    "executionInfo": {
     "elapsed": 393,
     "status": "ok",
     "timestamp": 1700085824444,
     "user": {
      "displayName": "Liyan Wang",
      "userId": "15329650402360340238"
     },
     "user_tz": 480
    },
    "id": "QwTWBh_y8x7J",
    "outputId": "1feae199-6b58-4390-b467-75d2c6eeb3cc"
   },
   "outputs": [
    {
     "name": "stdout",
     "output_type": "stream",
     "text": [
      "Model: \"model_1\"\n",
      "_________________________________________________________________\n",
      " Layer (type)                Output Shape              Param #   \n",
      "=================================================================\n",
      " input_4 (InputLayer)        [(None, 28, 28, 1)]       0         \n",
      "                                                                 \n",
      " conv2d_6 (Conv2D)           (None, 28, 28, 64)        640       \n",
      "                                                                 \n",
      " conv2d_7 (Conv2D)           (None, 28, 28, 64)        36928     \n",
      "                                                                 \n",
      " max_pooling2d_3 (MaxPoolin  (None, 14, 14, 64)        0         \n",
      " g2D)                                                            \n",
      "                                                                 \n",
      " conv2d_8 (Conv2D)           (None, 14, 14, 128)       73856     \n",
      "                                                                 \n",
      " conv2d_9 (Conv2D)           (None, 14, 14, 128)       147584    \n",
      "                                                                 \n",
      " max_pooling2d_4 (MaxPoolin  (None, 7, 7, 128)         0         \n",
      " g2D)                                                            \n",
      "                                                                 \n",
      " conv2d_10 (Conv2D)          (None, 7, 7, 256)         295168    \n",
      "                                                                 \n",
      " conv2d_11 (Conv2D)          (None, 7, 7, 256)         590080    \n",
      "                                                                 \n",
      " max_pooling2d_5 (MaxPoolin  (None, 3, 3, 256)         0         \n",
      " g2D)                                                            \n",
      "                                                                 \n",
      " flatten_3 (Flatten)         (None, 2304)              0         \n",
      "                                                                 \n",
      " dense_6 (Dense)             (None, 100)               230500    \n",
      "                                                                 \n",
      " dense_7 (Dense)             (None, 50)                5050      \n",
      "                                                                 \n",
      " dense_8 (Dense)             (None, 10)                510       \n",
      "                                                                 \n",
      "=================================================================\n",
      "Total params: 1380316 (5.27 MB)\n",
      "Trainable params: 1380316 (5.27 MB)\n",
      "Non-trainable params: 0 (0.00 Byte)\n",
      "_________________________________________________________________\n"
     ]
    }
   ],
   "source": [
    "fmnist_2.summary()"
   ]
  },
  {
   "cell_type": "markdown",
   "metadata": {
    "id": "UsLbzBccI4hq"
   },
   "source": [
    "Compile and train the model for 10 epochs with a batch size of 128. Use 25% of the training data for validation."
   ]
  },
  {
   "cell_type": "code",
   "execution_count": null,
   "metadata": {
    "colab": {
     "base_uri": "https://localhost:8080/"
    },
    "executionInfo": {
     "elapsed": 143696,
     "status": "ok",
     "timestamp": 1700085971737,
     "user": {
      "displayName": "Liyan Wang",
      "userId": "15329650402360340238"
     },
     "user_tz": 480
    },
    "id": "YBzWscoOiMlg",
    "outputId": "2dee5da4-36de-4d60-8428-0a6a6cd25be2"
   },
   "outputs": [
    {
     "name": "stdout",
     "output_type": "stream",
     "text": [
      "Epoch 1/10\n",
      "352/352 [==============================] - 13s 28ms/step - loss: 3.4385 - accuracy: 0.7462 - val_loss: 0.5101 - val_accuracy: 0.8191\n",
      "Epoch 2/10\n",
      "352/352 [==============================] - 9s 24ms/step - loss: 0.3844 - accuracy: 0.8677 - val_loss: 0.3622 - val_accuracy: 0.8749\n",
      "Epoch 3/10\n",
      "352/352 [==============================] - 9s 26ms/step - loss: 0.3065 - accuracy: 0.8926 - val_loss: 0.3276 - val_accuracy: 0.8869\n",
      "Epoch 4/10\n",
      "352/352 [==============================] - 10s 28ms/step - loss: 0.2694 - accuracy: 0.9060 - val_loss: 0.3583 - val_accuracy: 0.8726\n",
      "Epoch 5/10\n",
      "352/352 [==============================] - 9s 27ms/step - loss: 0.2264 - accuracy: 0.9196 - val_loss: 0.2990 - val_accuracy: 0.8975\n",
      "Epoch 6/10\n",
      "352/352 [==============================] - 9s 26ms/step - loss: 0.1980 - accuracy: 0.9296 - val_loss: 0.3380 - val_accuracy: 0.8893\n",
      "Epoch 7/10\n",
      "352/352 [==============================] - 9s 26ms/step - loss: 0.1694 - accuracy: 0.9390 - val_loss: 0.3363 - val_accuracy: 0.8937\n",
      "Epoch 8/10\n",
      "352/352 [==============================] - 9s 26ms/step - loss: 0.1616 - accuracy: 0.9426 - val_loss: 0.3633 - val_accuracy: 0.8884\n",
      "Epoch 9/10\n",
      "352/352 [==============================] - 9s 25ms/step - loss: 0.1413 - accuracy: 0.9495 - val_loss: 0.3282 - val_accuracy: 0.8961\n",
      "Epoch 10/10\n",
      "352/352 [==============================] - 9s 25ms/step - loss: 0.1549 - accuracy: 0.9462 - val_loss: 0.3880 - val_accuracy: 0.8831\n"
     ]
    },
    {
     "data": {
      "text/plain": [
       "<keras.src.callbacks.History at 0x7aa28e8d9c00>"
      ]
     },
     "execution_count": 39,
     "metadata": {},
     "output_type": "execute_result"
    }
   ],
   "source": [
    "\n",
    "fmnist_2.compile(optimizer = 'adam', loss = 'categorical_crossentropy',\n",
    "                metrics = ['accuracy'])\n",
    "fmnist_2.fit(train_data, train_label_onehot_10,\n",
    "             epochs = 10, batch_size = 128,\n",
    "             validation_split = 0.25)\n"
   ]
  },
  {
   "cell_type": "markdown",
   "metadata": {
    "id": "xNPT6ZdwJM9V"
   },
   "source": [
    "Calculate the accuracy on the test dataset.\n",
    "\n",
    "Discuss whether the model overfits the training data."
   ]
  },
  {
   "cell_type": "code",
   "execution_count": null,
   "metadata": {
    "colab": {
     "base_uri": "https://localhost:8080/"
    },
    "executionInfo": {
     "elapsed": 2414,
     "status": "ok",
     "timestamp": 1700085983109,
     "user": {
      "displayName": "Liyan Wang",
      "userId": "15329650402360340238"
     },
     "user_tz": 480
    },
    "id": "9Wn0RAiKmB3a",
    "outputId": "b4e26349-7636-4483-9059-f7d144b17f6e"
   },
   "outputs": [
    {
     "name": "stdout",
     "output_type": "stream",
     "text": [
      "313/313 [==============================] - 2s 6ms/step - loss: 0.4057 - accuracy: 0.8761\n",
      "test accuracy:0.8761\n"
     ]
    }
   ],
   "source": [
    "\n",
    "evals_test = fmnist_2.evaluate(test_data, test_label_onehot_10)\n",
    "print('test accuracy:{0:5.4f}'.format(evals_test[1]))"
   ]
  },
  {
   "cell_type": "markdown",
   "metadata": {
    "id": "Jzw783Oh8x7P"
   },
   "source": [
    "The model shows overfitting on the training data. Because the training accuracy is 0.9462,which is higher than test accuracy 0.8761."
   ]
  },
  {
   "cell_type": "markdown",
   "metadata": {
    "id": "Ff03QLiumJZD"
   },
   "source": [
    "## Part 4. Apply Dropout, Early Stopping \n",
    "\n",
    "Create a model `fmnist_3` which uses a similar network from the previous section but it has a block of layers with 32-64-128 convolutional filters, and add at least 4 Dropout layers in the model. Select a dropout rate of 20% of the neurons."
   ]
  },
  {
   "cell_type": "code",
   "execution_count": 42,
   "metadata": {
    "executionInfo": {
     "elapsed": 191,
     "status": "ok",
     "timestamp": 1700086018596,
     "user": {
      "displayName": "Liyan Wang",
      "userId": "15329650402360340238"
     },
     "user_tz": 480
    },
    "id": "PIKGbxPm8x7P"
   },
   "outputs": [],
   "source": [
    "from keras.layers import Dropout"
   ]
  },
  {
   "cell_type": "code",
   "execution_count": null,
   "metadata": {
    "executionInfo": {
     "elapsed": 157,
     "status": "ok",
     "timestamp": 1700086020877,
     "user": {
      "displayName": "Liyan Wang",
      "userId": "15329650402360340238"
     },
     "user_tz": 480
    },
    "id": "vtfCDoaSmlQ7"
   },
   "outputs": [],
   "source": [
    "\n",
    "# define the layers in the model\n",
    "inputs = Input(shape = (28,28,1))\n",
    "\n",
    "conv1a = Conv2D(filters = 32, kernel_size = 3, padding = 'same')(inputs)\n",
    "conv1b = Conv2D(filters = 32, kernel_size = 3, padding = 'same')(conv1a)\n",
    "pool1 = MaxPooling2D()(conv1b)\n",
    "dropout1 = Dropout(0.2)(pool1)\n",
    "\n",
    "conv2a = Conv2D(filters = 64, kernel_size = 3, padding = 'same')(dropout1)\n",
    "conv2b = Conv2D(filters = 64, kernel_size = 3, padding = 'same')(conv2a)\n",
    "pool2 = MaxPooling2D()(conv2b)\n",
    "dropout2 = Dropout(0.2)(pool2)\n",
    "\n",
    "conv3a = Conv2D(filters = 128, kernel_size = 3, padding = 'same')(dropout2)\n",
    "conv3b = Conv2D(filters = 128, kernel_size = 3, padding = 'same')(conv3a)\n",
    "pool3 = MaxPooling2D()(conv3b)\n",
    "\n",
    "flat = Flatten()(pool3)\n",
    "\n",
    "dense1 = Dense(100, activation = 'relu')(flat)\n",
    "dropout3 = Dropout(0.2)(dense1)\n",
    "\n",
    "dense2 = Dense(50, activation = 'relu')(dense1)\n",
    "dropout4 = Dropout(0.2)(dense2)\n",
    "\n",
    "outputs = Dense(10, activation = 'softmax')(dropout4)\n",
    "\n",
    "\n",
    "# define the model with inputs and outputs\n",
    "fmnist_3 = Model(inputs, outputs)"
   ]
  },
  {
   "cell_type": "code",
   "execution_count": 44,
   "metadata": {
    "colab": {
     "base_uri": "https://localhost:8080/"
    },
    "executionInfo": {
     "elapsed": 349,
     "status": "ok",
     "timestamp": 1700086029455,
     "user": {
      "displayName": "Liyan Wang",
      "userId": "15329650402360340238"
     },
     "user_tz": 480
    },
    "id": "ZWc4YGFZ8x7Q",
    "outputId": "8b635753-4ced-4a39-f994-c10f5e5f2a74"
   },
   "outputs": [
    {
     "name": "stdout",
     "output_type": "stream",
     "text": [
      "Model: \"model_2\"\n",
      "_________________________________________________________________\n",
      " Layer (type)                Output Shape              Param #   \n",
      "=================================================================\n",
      " input_5 (InputLayer)        [(None, 28, 28, 1)]       0         \n",
      "                                                                 \n",
      " conv2d_12 (Conv2D)          (None, 28, 28, 32)        320       \n",
      "                                                                 \n",
      " conv2d_13 (Conv2D)          (None, 28, 28, 32)        9248      \n",
      "                                                                 \n",
      " max_pooling2d_6 (MaxPoolin  (None, 14, 14, 32)        0         \n",
      " g2D)                                                            \n",
      "                                                                 \n",
      " dropout (Dropout)           (None, 14, 14, 32)        0         \n",
      "                                                                 \n",
      " conv2d_14 (Conv2D)          (None, 14, 14, 64)        18496     \n",
      "                                                                 \n",
      " conv2d_15 (Conv2D)          (None, 14, 14, 64)        36928     \n",
      "                                                                 \n",
      " max_pooling2d_7 (MaxPoolin  (None, 7, 7, 64)          0         \n",
      " g2D)                                                            \n",
      "                                                                 \n",
      " dropout_1 (Dropout)         (None, 7, 7, 64)          0         \n",
      "                                                                 \n",
      " conv2d_16 (Conv2D)          (None, 7, 7, 128)         73856     \n",
      "                                                                 \n",
      " conv2d_17 (Conv2D)          (None, 7, 7, 128)         147584    \n",
      "                                                                 \n",
      " max_pooling2d_8 (MaxPoolin  (None, 3, 3, 128)         0         \n",
      " g2D)                                                            \n",
      "                                                                 \n",
      " flatten_4 (Flatten)         (None, 1152)              0         \n",
      "                                                                 \n",
      " dense_9 (Dense)             (None, 100)               115300    \n",
      "                                                                 \n",
      " dense_10 (Dense)            (None, 50)                5050      \n",
      "                                                                 \n",
      " dropout_3 (Dropout)         (None, 50)                0         \n",
      "                                                                 \n",
      " dense_11 (Dense)            (None, 10)                510       \n",
      "                                                                 \n",
      "=================================================================\n",
      "Total params: 407292 (1.55 MB)\n",
      "Trainable params: 407292 (1.55 MB)\n",
      "Non-trainable params: 0 (0.00 Byte)\n",
      "_________________________________________________________________\n"
     ]
    }
   ],
   "source": [
    "# compile the model\n",
    "fmnist_3.compile(optimizer = 'adam', loss = 'categorical_crossentropy',\n",
    "                metrics = ['accuracy'])\n",
    "fmnist_3.summary()"
   ]
  },
  {
   "cell_type": "markdown",
   "metadata": {
    "id": "XWkyjFbYnQgJ"
   },
   "source": [
    "Train the model, and apply an Early Stopping callback, so that the training stops automatically with a patience of 5 epochs.\n",
    "\n",
    "Measure the time for training the model."
   ]
  },
  {
   "cell_type": "code",
   "execution_count": 45,
   "metadata": {
    "executionInfo": {
     "elapsed": 216,
     "status": "ok",
     "timestamp": 1700086034748,
     "user": {
      "displayName": "Liyan Wang",
      "userId": "15329650402360340238"
     },
     "user_tz": 480
    },
    "id": "9fWS2AiK8x7Q"
   },
   "outputs": [],
   "source": [
    "from keras.callbacks import EarlyStopping\n",
    "import datetime"
   ]
  },
  {
   "cell_type": "code",
   "execution_count": null,
   "metadata": {
    "colab": {
     "base_uri": "https://localhost:8080/"
    },
    "executionInfo": {
     "elapsed": 66684,
     "status": "ok",
     "timestamp": 1700086107820,
     "user": {
      "displayName": "Liyan Wang",
      "userId": "15329650402360340238"
     },
     "user_tz": 480
    },
    "id": "yVNPuGzc8x7Q",
    "outputId": "7c2570ca-6f6f-45cf-d7d6-25c802a0907f"
   },
   "outputs": [
    {
     "name": "stdout",
     "output_type": "stream",
     "text": [
      "Epoch 1/100\n",
      "352/352 [==============================] - 12s 18ms/step - loss: 1.2499 - accuracy: 0.6796 - val_loss: 0.4711 - val_accuracy: 0.8356\n",
      "Epoch 2/100\n",
      "352/352 [==============================] - 6s 17ms/step - loss: 0.5443 - accuracy: 0.8129 - val_loss: 0.4100 - val_accuracy: 0.8634\n",
      "Epoch 3/100\n",
      "352/352 [==============================] - 5s 16ms/step - loss: 0.4555 - accuracy: 0.8420 - val_loss: 0.3560 - val_accuracy: 0.8693\n",
      "Epoch 4/100\n",
      "352/352 [==============================] - 5s 15ms/step - loss: 0.4142 - accuracy: 0.8544 - val_loss: 0.3364 - val_accuracy: 0.8821\n",
      "Epoch 5/100\n",
      "352/352 [==============================] - 5s 16ms/step - loss: 0.3834 - accuracy: 0.8660 - val_loss: 0.3126 - val_accuracy: 0.8896\n",
      "Epoch 6/100\n",
      "352/352 [==============================] - 5s 15ms/step - loss: 0.3606 - accuracy: 0.8731 - val_loss: 0.3076 - val_accuracy: 0.8927\n",
      "Epoch 7/100\n",
      "352/352 [==============================] - 5s 15ms/step - loss: 0.3414 - accuracy: 0.8790 - val_loss: 0.3402 - val_accuracy: 0.8778\n",
      "Epoch 8/100\n",
      "352/352 [==============================] - 6s 16ms/step - loss: 0.3324 - accuracy: 0.8826 - val_loss: 0.3128 - val_accuracy: 0.8942\n",
      "Epoch 9/100\n",
      "352/352 [==============================] - 5s 15ms/step - loss: 0.3223 - accuracy: 0.8862 - val_loss: 0.3156 - val_accuracy: 0.8867\n",
      "Epoch 10/100\n",
      "352/352 [==============================] - 5s 15ms/step - loss: 0.3164 - accuracy: 0.8917 - val_loss: 0.3161 - val_accuracy: 0.8949\n",
      "Epoch 11/100\n",
      "352/352 [==============================] - 5s 16ms/step - loss: 0.3143 - accuracy: 0.8888 - val_loss: 0.3170 - val_accuracy: 0.8903\n",
      "train time:  0:01:06.566054\n"
     ]
    }
   ],
   "source": [
    "\n",
    "# train the model\n",
    "\n",
    "now = datetime.datetime.now\n",
    "t = now()\n",
    "\n",
    "callbacks = [EarlyStopping(monitor = 'val_loss', patience = 5)]\n",
    "\n",
    "history = fmnist_3.fit(train_data, train_label_onehot_10,\n",
    "             epochs = 100, batch_size = 128,\n",
    "             validation_split = 0.25,\n",
    "             callbacks = callbacks)\n",
    "\n",
    "print('train time: ', (now() - t))"
   ]
  },
  {
   "cell_type": "markdown",
   "metadata": {
    "id": "ZGnkU8KDQukg"
   },
   "source": [
    "Plot the accuracy and loss curves."
   ]
  },
  {
   "cell_type": "code",
   "execution_count": null,
   "metadata": {
    "colab": {
     "base_uri": "https://localhost:8080/",
     "height": 408
    },
    "executionInfo": {
     "elapsed": 904,
     "status": "ok",
     "timestamp": 1700086121231,
     "user": {
      "displayName": "Liyan Wang",
      "userId": "15329650402360340238"
     },
     "user_tz": 480
    },
    "id": "uV2eDy-Dm44S",
    "outputId": "9e24ba2d-1aad-4e17-8b6c-f30656aa4702"
   },
   "outputs": [
    {
     "data": {
      "image/png": "[encoded data removed]",
      "text/plain": [
       "<Figure size 1200x400 with 2 Axes>"
      ]
     },
     "metadata": {},
     "output_type": "display_data"
    }
   ],
   "source": [
    "\n",
    "\n",
    "train_loss = history.history['loss']\n",
    "train_accuracy = history.history['accuracy']\n",
    "val_loss = history.history['val_loss']\n",
    "val_accuracy = history.history['val_accuracy']\n",
    "epochs = np.arange(1, len(train_loss) + 1, 1)\n",
    "\n",
    "plt.figure(figsize = (12,4))\n",
    "\n",
    "plt.subplot(1,2,1)\n",
    "plt.plot(epochs, train_accuracy, 'b',label = 'train_accuracy')\n",
    "plt.plot(epochs, val_accuracy, 'r',label = 'validation_accuracy')\n",
    "plt.xlabel('epochs')\n",
    "plt.ylabel('accuracy')\n",
    "plt.grid(color = 'grey',linestyle = '--')\n",
    "plt.legend()\n",
    "plt.title('Accuracy')\n",
    "\n",
    "\n",
    "plt.subplot(1,2,2)\n",
    "plt.plot(epochs, train_loss, 'b', label = 'train_loss')\n",
    "plt.plot(epochs, val_loss, 'r', label = 'validation_loss')\n",
    "plt.xlabel('epochs')\n",
    "plt.ylabel('loss')\n",
    "plt.grid(color = 'grey', linestyle = '--')\n",
    "plt.legend()\n",
    "plt.title('Loss')\n",
    "\n",
    "plt.show()"
   ]
  },
  {
   "cell_type": "markdown",
   "metadata": {
    "id": "OdDVJLPzTvRu"
   },
   "source": [
    "Calculate the accuracy on the test dataset."
   ]
  },
  {
   "cell_type": "code",
   "execution_count": null,
   "metadata": {
    "colab": {
     "base_uri": "https://localhost:8080/"
    },
    "executionInfo": {
     "elapsed": 1834,
     "status": "ok",
     "timestamp": 1700086137499,
     "user": {
      "displayName": "Liyan Wang",
      "userId": "15329650402360340238"
     },
     "user_tz": 480
    },
    "id": "Svpl0CpwpWPa",
    "outputId": "10ce3d18-caa0-4a77-dfae-9fafcbcf97e1"
   },
   "outputs": [
    {
     "name": "stdout",
     "output_type": "stream",
     "text": [
      "313/313 [==============================] - 2s 4ms/step - loss: 0.3383 - accuracy: 0.8841\n",
      "test accuracy:  0.8841\n"
     ]
    }
   ],
   "source": [
    "\n",
    "# evaluate on test data\n",
    "evals_test = fmnist_3.evaluate(test_data, test_label_onehot_10)\n",
    "print('test accuracy: ', np.round(evals_test[1],4))"
   ]
  },
  {
   "cell_type": "markdown",
   "metadata": {
    "id": "6-Bqqq1pm8jg"
   },
   "source": [
    "## Part 5. Batch Normalization, and Data Augmentation\n",
    "\n",
    "Create a model `fmnist_4` which applies a batch normalization layer to each convolutional block of layers in the model from the previous section."
   ]
  },
  {
   "cell_type": "code",
   "execution_count": 49,
   "metadata": {
    "executionInfo": {
     "elapsed": 163,
     "status": "ok",
     "timestamp": 1700086143239,
     "user": {
      "displayName": "Liyan Wang",
      "userId": "15329650402360340238"
     },
     "user_tz": 480
    },
    "id": "BlmnCTqW8x7R"
   },
   "outputs": [],
   "source": [
    "from keras.layers import BatchNormalization"
   ]
  },
  {
   "cell_type": "code",
   "execution_count": null,
   "metadata": {
    "executionInfo": {
     "elapsed": 216,
     "status": "ok",
     "timestamp": 1700086144817,
     "user": {
      "displayName": "Liyan Wang",
      "userId": "15329650402360340238"
     },
     "user_tz": 480
    },
    "id": "LpnoFKFvm-_r"
   },
   "outputs": [],
   "source": [
    "\n",
    "# define the layers\n",
    "inputs = Input(shape = (28,28,1))\n",
    "\n",
    "conv1a = Conv2D(filters = 32, kernel_size = 3, padding = 'same')(inputs)\n",
    "conv1b = Conv2D(filters = 32, kernel_size = 3, padding = 'same')(conv1a)\n",
    "bn1 = BatchNormalization()(conv1b)\n",
    "pool1 = MaxPooling2D()(bn1)\n",
    "dropout1 = Dropout(0.2)(pool1)\n",
    "\n",
    "conv2a = Conv2D(filters = 64, kernel_size = 3, padding = 'same')(dropout1)\n",
    "conv2b = Conv2D(filters = 64, kernel_size = 3, padding = 'same')(conv2a)\n",
    "bn2 = BatchNormalization()(conv2b)\n",
    "pool2 = MaxPooling2D()(bn2)\n",
    "dropout2 = Dropout(0.2)(pool2)\n",
    "\n",
    "conv3a = Conv2D(filters = 128, kernel_size = 3, padding = 'same')(dropout2)\n",
    "conv3b = Conv2D(filters = 128, kernel_size = 3, padding = 'same')(conv3a)\n",
    "bn3 = BatchNormalization()(conv3b)\n",
    "pool3 = MaxPooling2D()(bn3)\n",
    "\n",
    "\n",
    "flat = Flatten()(pool3)\n",
    "\n",
    "dense1 = Dense(128, activation = 'relu')(flat)\n",
    "dropout3 = Dropout(0.2)(dense1)\n",
    "dense2 = Dense(64, activation = 'relu')(dropout3)\n",
    "dropout4 = Dropout(0.2)(dense2)\n",
    "outputs = Dense(10, activation = 'softmax')(dropout4)\n",
    "\n",
    "#define the model\n",
    "fmnist_4 = Model(inputs, outputs)"
   ]
  },
  {
   "cell_type": "code",
   "execution_count": 51,
   "metadata": {
    "colab": {
     "base_uri": "https://localhost:8080/"
    },
    "executionInfo": {
     "elapsed": 185,
     "status": "ok",
     "timestamp": 1700086150073,
     "user": {
      "displayName": "Liyan Wang",
      "userId": "15329650402360340238"
     },
     "user_tz": 480
    },
    "id": "dXWQF__98x7S",
    "outputId": "d6781775-eda5-46a4-cd9c-57aa890b375b"
   },
   "outputs": [
    {
     "name": "stdout",
     "output_type": "stream",
     "text": [
      "Model: \"model_3\"\n",
      "_________________________________________________________________\n",
      " Layer (type)                Output Shape              Param #   \n",
      "=================================================================\n",
      " input_6 (InputLayer)        [(None, 28, 28, 1)]       0         \n",
      "                                                                 \n",
      " conv2d_18 (Conv2D)          (None, 28, 28, 32)        320       \n",
      "                                                                 \n",
      " conv2d_19 (Conv2D)          (None, 28, 28, 32)        9248      \n",
      "                                                                 \n",
      " batch_normalization (Batch  (None, 28, 28, 32)        128       \n",
      " Normalization)                                                  \n",
      "                                                                 \n",
      " max_pooling2d_9 (MaxPoolin  (None, 14, 14, 32)        0         \n",
      " g2D)                                                            \n",
      "                                                                 \n",
      " dropout_4 (Dropout)         (None, 14, 14, 32)        0         \n",
      "                                                                 \n",
      " conv2d_20 (Conv2D)          (None, 14, 14, 64)        18496     \n",
      "                                                                 \n",
      " conv2d_21 (Conv2D)          (None, 14, 14, 64)        36928     \n",
      "                                                                 \n",
      " batch_normalization_1 (Bat  (None, 14, 14, 64)        256       \n",
      " chNormalization)                                                \n",
      "                                                                 \n",
      " max_pooling2d_10 (MaxPooli  (None, 7, 7, 64)          0         \n",
      " ng2D)                                                           \n",
      "                                                                 \n",
      " dropout_5 (Dropout)         (None, 7, 7, 64)          0         \n",
      "                                                                 \n",
      " conv2d_22 (Conv2D)          (None, 7, 7, 128)         73856     \n",
      "                                                                 \n",
      " conv2d_23 (Conv2D)          (None, 7, 7, 128)         147584    \n",
      "                                                                 \n",
      " batch_normalization_2 (Bat  (None, 7, 7, 128)         512       \n",
      " chNormalization)                                                \n",
      "                                                                 \n",
      " max_pooling2d_11 (MaxPooli  (None, 3, 3, 128)         0         \n",
      " ng2D)                                                           \n",
      "                                                                 \n",
      " flatten_5 (Flatten)         (None, 1152)              0         \n",
      "                                                                 \n",
      " dense_12 (Dense)            (None, 128)               147584    \n",
      "                                                                 \n",
      " dropout_6 (Dropout)         (None, 128)               0         \n",
      "                                                                 \n",
      " dense_13 (Dense)            (None, 64)                8256      \n",
      "                                                                 \n",
      " dropout_7 (Dropout)         (None, 64)                0         \n",
      "                                                                 \n",
      " dense_14 (Dense)            (None, 10)                650       \n",
      "                                                                 \n",
      "=================================================================\n",
      "Total params: 443818 (1.69 MB)\n",
      "Trainable params: 443370 (1.69 MB)\n",
      "Non-trainable params: 448 (1.75 KB)\n",
      "_________________________________________________________________\n"
     ]
    }
   ],
   "source": [
    "# compile the model\n",
    "fmnist_4.compile(optimizer = 'adam', loss = 'categorical_crossentropy',\n",
    "                metrics = ['accuracy'])\n",
    "\n",
    "fmnist_4.summary()"
   ]
  },
  {
   "cell_type": "markdown",
   "metadata": {
    "id": "-ieaMKn-RzU_"
   },
   "source": [
    "Apply data augmentation, by adding width shift (20%), height shift (20%), and horizontal flip."
   ]
  },
  {
   "cell_type": "code",
   "execution_count": null,
   "metadata": {
    "executionInfo": {
     "elapsed": 152,
     "status": "ok",
     "timestamp": 1700086154677,
     "user": {
      "displayName": "Liyan Wang",
      "userId": "15329650402360340238"
     },
     "user_tz": 480
    },
    "id": "oqlvh2AqpzZe"
   },
   "outputs": [],
   "source": [
    "\n",
    "from keras.preprocessing.image import ImageDataGenerator\n",
    "from sklearn.model_selection import train_test_split"
   ]
  },
  {
   "cell_type": "code",
   "execution_count": 53,
   "metadata": {
    "executionInfo": {
     "elapsed": 162,
     "status": "ok",
     "timestamp": 1700086158725,
     "user": {
      "displayName": "Liyan Wang",
      "userId": "15329650402360340238"
     },
     "user_tz": 480
    },
    "id": "AitV0_Bs8x7S"
   },
   "outputs": [],
   "source": [
    "datagen = ImageDataGenerator(width_shift_range = 0.2, height_shift_range = 0.2, horizontal_flip = True)"
   ]
  },
  {
   "cell_type": "markdown",
   "metadata": {
    "id": "xY9RECBaSdCf"
   },
   "source": [
    "Use the `train_test_split` function to create a validation dataset that contains 20% of the training dataset. Display the shapes of the datasets."
   ]
  },
  {
   "cell_type": "code",
   "execution_count": 54,
   "metadata": {
    "colab": {
     "base_uri": "https://localhost:8080/"
    },
    "executionInfo": {
     "elapsed": 751,
     "status": "ok",
     "timestamp": 1700086168477,
     "user": {
      "displayName": "Liyan Wang",
      "userId": "15329650402360340238"
     },
     "user_tz": 480
    },
    "id": "jOGfE8mc8x7S",
    "outputId": "7027ad00-8d4a-47be-99ff-bee80f5a7310"
   },
   "outputs": [
    {
     "name": "stdout",
     "output_type": "stream",
     "text": [
      "Training images:  (48000, 28, 28, 1)\n",
      "Training labels:  (48000, 10)\n",
      "Validation images:  (12000, 28, 28, 1)\n",
      "Validation labels:  (12000, 10)\n"
     ]
    }
   ],
   "source": [
    "train_data_datagen, val_data_datagen, train_label_datagen, val_label_datagen = train_test_split(train_data,\n",
    "                                                               train_label_onehot_10,\n",
    "                                                               test_size = 0.2,\n",
    "                                                               stratify = train_label_onehot_10)\n",
    "\n",
    "print('Training images: ',train_data_datagen.shape)\n",
    "print('Training labels: ',train_label_datagen.shape)\n",
    "print('Validation images: ',val_data_datagen.shape)\n",
    "print('Validation labels: ',val_label_datagen.shape)"
   ]
  },
  {
   "cell_type": "markdown",
   "metadata": {
    "id": "XbxQnDd8WTZO"
   },
   "source": [
    "Train the model using Early Stopping and show the training time."
   ]
  },
  {
   "cell_type": "code",
   "execution_count": null,
   "metadata": {
    "colab": {
     "base_uri": "https://localhost:8080/"
    },
    "executionInfo": {
     "elapsed": 1238526,
     "status": "ok",
     "timestamp": 1700087465132,
     "user": {
      "displayName": "Liyan Wang",
      "userId": "15329650402360340238"
     },
     "user_tz": 480
    },
    "id": "W37V34RlnHuR",
    "outputId": "a6548102-35ea-4df0-ec1d-29ab376513f2"
   },
   "outputs": [
    {
     "name": "stdout",
     "output_type": "stream",
     "text": [
      "Epoch 1/100\n",
      "375/375 [==============================] - 23s 50ms/step - loss: 1.0547 - accuracy: 0.6127 - val_loss: 0.8634 - val_accuracy: 0.6982\n",
      "Epoch 2/100\n",
      "375/375 [==============================] - 19s 50ms/step - loss: 0.7206 - accuracy: 0.7286 - val_loss: 0.5998 - val_accuracy: 0.7657\n",
      "Epoch 3/100\n",
      "375/375 [==============================] - 19s 50ms/step - loss: 0.6449 - accuracy: 0.7536 - val_loss: 0.5234 - val_accuracy: 0.8058\n",
      "Epoch 4/100\n",
      "375/375 [==============================] - 19s 50ms/step - loss: 0.5978 - accuracy: 0.7747 - val_loss: 0.4828 - val_accuracy: 0.8212\n",
      "Epoch 5/100\n",
      "375/375 [==============================] - 18s 48ms/step - loss: 0.5646 - accuracy: 0.7900 - val_loss: 0.4618 - val_accuracy: 0.8276\n",
      "Epoch 6/100\n",
      "375/375 [==============================] - 18s 48ms/step - loss: 0.5343 - accuracy: 0.8020 - val_loss: 0.4171 - val_accuracy: 0.8474\n",
      "Epoch 7/100\n",
      "375/375 [==============================] - 18s 49ms/step - loss: 0.5129 - accuracy: 0.8098 - val_loss: 0.4153 - val_accuracy: 0.8433\n",
      "Epoch 8/100\n",
      "375/375 [==============================] - 20s 53ms/step - loss: 0.4907 - accuracy: 0.8167 - val_loss: 0.3931 - val_accuracy: 0.8549\n",
      "Epoch 9/100\n",
      "375/375 [==============================] - 19s 51ms/step - loss: 0.4818 - accuracy: 0.8237 - val_loss: 0.3958 - val_accuracy: 0.8502\n",
      "Epoch 10/100\n",
      "375/375 [==============================] - 19s 49ms/step - loss: 0.4640 - accuracy: 0.8297 - val_loss: 0.3768 - val_accuracy: 0.8632\n",
      "Epoch 11/100\n",
      "375/375 [==============================] - 18s 49ms/step - loss: 0.4582 - accuracy: 0.8325 - val_loss: 0.3848 - val_accuracy: 0.8592\n",
      "Epoch 12/100\n",
      "375/375 [==============================] - 18s 48ms/step - loss: 0.4514 - accuracy: 0.8338 - val_loss: 0.3658 - val_accuracy: 0.8671\n",
      "Epoch 13/100\n",
      "375/375 [==============================] - 18s 49ms/step - loss: 0.4370 - accuracy: 0.8375 - val_loss: 0.3772 - val_accuracy: 0.8569\n",
      "Epoch 14/100\n",
      "375/375 [==============================] - 20s 53ms/step - loss: 0.4296 - accuracy: 0.8424 - val_loss: 0.3450 - val_accuracy: 0.8781\n",
      "Epoch 15/100\n",
      "375/375 [==============================] - 19s 50ms/step - loss: 0.4261 - accuracy: 0.8460 - val_loss: 0.3471 - val_accuracy: 0.8694\n",
      "Epoch 16/100\n",
      "375/375 [==============================] - 18s 48ms/step - loss: 0.4226 - accuracy: 0.8443 - val_loss: 0.3519 - val_accuracy: 0.8711\n",
      "Epoch 17/100\n",
      "375/375 [==============================] - 18s 49ms/step - loss: 0.4110 - accuracy: 0.8496 - val_loss: 0.3520 - val_accuracy: 0.8705\n",
      "Epoch 18/100\n",
      "375/375 [==============================] - 20s 54ms/step - loss: 0.4098 - accuracy: 0.8500 - val_loss: 0.3078 - val_accuracy: 0.8883\n",
      "Epoch 19/100\n",
      "375/375 [==============================] - 18s 48ms/step - loss: 0.4068 - accuracy: 0.8524 - val_loss: 0.3196 - val_accuracy: 0.8821\n",
      "Epoch 20/100\n",
      "375/375 [==============================] - 18s 48ms/step - loss: 0.3998 - accuracy: 0.8521 - val_loss: 0.3145 - val_accuracy: 0.8835\n",
      "Epoch 21/100\n",
      "375/375 [==============================] - 19s 49ms/step - loss: 0.3983 - accuracy: 0.8538 - val_loss: 0.3181 - val_accuracy: 0.8832\n",
      "Epoch 22/100\n",
      "375/375 [==============================] - 18s 49ms/step - loss: 0.3908 - accuracy: 0.8588 - val_loss: 0.3090 - val_accuracy: 0.8864\n",
      "Epoch 23/100\n",
      "375/375 [==============================] - 19s 49ms/step - loss: 0.3851 - accuracy: 0.8582 - val_loss: 0.3075 - val_accuracy: 0.8878\n",
      "Epoch 24/100\n",
      "375/375 [==============================] - 18s 48ms/step - loss: 0.3839 - accuracy: 0.8590 - val_loss: 0.3066 - val_accuracy: 0.8849\n",
      "Epoch 25/100\n",
      "375/375 [==============================] - 18s 49ms/step - loss: 0.3792 - accuracy: 0.8597 - val_loss: 0.3125 - val_accuracy: 0.8858\n",
      "Epoch 26/100\n",
      "375/375 [==============================] - 18s 48ms/step - loss: 0.3755 - accuracy: 0.8612 - val_loss: 0.3005 - val_accuracy: 0.8888\n",
      "Epoch 27/100\n",
      "375/375 [==============================] - 19s 49ms/step - loss: 0.3749 - accuracy: 0.8630 - val_loss: 0.2872 - val_accuracy: 0.8958\n",
      "Epoch 28/100\n",
      "375/375 [==============================] - 20s 53ms/step - loss: 0.3751 - accuracy: 0.8628 - val_loss: 0.2910 - val_accuracy: 0.8930\n",
      "Epoch 29/100\n",
      "375/375 [==============================] - 18s 49ms/step - loss: 0.3636 - accuracy: 0.8684 - val_loss: 0.3143 - val_accuracy: 0.8848\n",
      "Epoch 30/100\n",
      "375/375 [==============================] - 18s 48ms/step - loss: 0.3660 - accuracy: 0.8661 - val_loss: 0.2935 - val_accuracy: 0.8908\n",
      "Epoch 31/100\n",
      "375/375 [==============================] - 19s 49ms/step - loss: 0.3618 - accuracy: 0.8664 - val_loss: 0.2846 - val_accuracy: 0.8984\n",
      "Epoch 32/100\n",
      "375/375 [==============================] - 18s 49ms/step - loss: 0.3593 - accuracy: 0.8679 - val_loss: 0.2847 - val_accuracy: 0.8947\n",
      "Epoch 33/100\n",
      "375/375 [==============================] - 18s 49ms/step - loss: 0.3546 - accuracy: 0.8709 - val_loss: 0.2754 - val_accuracy: 0.9002\n",
      "Epoch 34/100\n",
      "375/375 [==============================] - 18s 49ms/step - loss: 0.3598 - accuracy: 0.8677 - val_loss: 0.2922 - val_accuracy: 0.8934\n",
      "Epoch 35/100\n",
      "375/375 [==============================] - 19s 50ms/step - loss: 0.3549 - accuracy: 0.8702 - val_loss: 0.2867 - val_accuracy: 0.8960\n",
      "Epoch 36/100\n",
      "375/375 [==============================] - 18s 49ms/step - loss: 0.3530 - accuracy: 0.8697 - val_loss: 0.2925 - val_accuracy: 0.8898\n",
      "Epoch 37/100\n",
      "375/375 [==============================] - 18s 48ms/step - loss: 0.3502 - accuracy: 0.8716 - val_loss: 0.2843 - val_accuracy: 0.8965\n",
      "Epoch 38/100\n",
      "375/375 [==============================] - 18s 48ms/step - loss: 0.3453 - accuracy: 0.8753 - val_loss: 0.2693 - val_accuracy: 0.9004\n",
      "Epoch 39/100\n",
      "375/375 [==============================] - 19s 50ms/step - loss: 0.3499 - accuracy: 0.8746 - val_loss: 0.2795 - val_accuracy: 0.9007\n",
      "Epoch 40/100\n",
      "375/375 [==============================] - 19s 51ms/step - loss: 0.3443 - accuracy: 0.8734 - val_loss: 0.2988 - val_accuracy: 0.8876\n",
      "Epoch 41/100\n",
      "375/375 [==============================] - 18s 49ms/step - loss: 0.3495 - accuracy: 0.8737 - val_loss: 0.2645 - val_accuracy: 0.9051\n",
      "Epoch 42/100\n",
      "375/375 [==============================] - 19s 49ms/step - loss: 0.3387 - accuracy: 0.8764 - val_loss: 0.2724 - val_accuracy: 0.9004\n",
      "Epoch 43/100\n",
      "375/375 [==============================] - 18s 48ms/step - loss: 0.3405 - accuracy: 0.8756 - val_loss: 0.2868 - val_accuracy: 0.8937\n",
      "Epoch 44/100\n",
      "375/375 [==============================] - 19s 50ms/step - loss: 0.3415 - accuracy: 0.8759 - val_loss: 0.2876 - val_accuracy: 0.8946\n",
      "Epoch 45/100\n",
      "375/375 [==============================] - 19s 50ms/step - loss: 0.3348 - accuracy: 0.8778 - val_loss: 0.2762 - val_accuracy: 0.9001\n",
      "Epoch 46/100\n",
      "375/375 [==============================] - 19s 50ms/step - loss: 0.3319 - accuracy: 0.8785 - val_loss: 0.2627 - val_accuracy: 0.9051\n",
      "Epoch 47/100\n",
      "375/375 [==============================] - 19s 50ms/step - loss: 0.3317 - accuracy: 0.8790 - val_loss: 0.2610 - val_accuracy: 0.9063\n",
      "Epoch 48/100\n",
      "375/375 [==============================] - 18s 49ms/step - loss: 0.3321 - accuracy: 0.8782 - val_loss: 0.2720 - val_accuracy: 0.9026\n",
      "Epoch 49/100\n",
      "375/375 [==============================] - 19s 51ms/step - loss: 0.3312 - accuracy: 0.8791 - val_loss: 0.2889 - val_accuracy: 0.8978\n",
      "Epoch 50/100\n",
      "375/375 [==============================] - 19s 49ms/step - loss: 0.3290 - accuracy: 0.8814 - val_loss: 0.2622 - val_accuracy: 0.9056\n",
      "Epoch 51/100\n",
      "375/375 [==============================] - 19s 50ms/step - loss: 0.3252 - accuracy: 0.8805 - val_loss: 0.2743 - val_accuracy: 0.9025\n",
      "Epoch 52/100\n",
      "375/375 [==============================] - 18s 49ms/step - loss: 0.3262 - accuracy: 0.8800 - val_loss: 0.2564 - val_accuracy: 0.9078\n",
      "Epoch 53/100\n",
      "375/375 [==============================] - 18s 49ms/step - loss: 0.3281 - accuracy: 0.8812 - val_loss: 0.2893 - val_accuracy: 0.8935\n",
      "Epoch 54/100\n",
      "375/375 [==============================] - 19s 50ms/step - loss: 0.3215 - accuracy: 0.8822 - val_loss: 0.2644 - val_accuracy: 0.9061\n",
      "Epoch 55/100\n",
      "375/375 [==============================] - 21s 55ms/step - loss: 0.3236 - accuracy: 0.8820 - val_loss: 0.2813 - val_accuracy: 0.8992\n",
      "Epoch 56/100\n",
      "375/375 [==============================] - 20s 54ms/step - loss: 0.3205 - accuracy: 0.8832 - val_loss: 0.2583 - val_accuracy: 0.9072\n",
      "Epoch 57/100\n",
      "375/375 [==============================] - 20s 54ms/step - loss: 0.3184 - accuracy: 0.8831 - val_loss: 0.2515 - val_accuracy: 0.9078\n",
      "Epoch 58/100\n",
      "375/375 [==============================] - 20s 52ms/step - loss: 0.3199 - accuracy: 0.8835 - val_loss: 0.2609 - val_accuracy: 0.9056\n",
      "Epoch 59/100\n",
      "375/375 [==============================] - 19s 50ms/step - loss: 0.3213 - accuracy: 0.8817 - val_loss: 0.2802 - val_accuracy: 0.8959\n",
      "Epoch 60/100\n",
      "375/375 [==============================] - 20s 54ms/step - loss: 0.3169 - accuracy: 0.8847 - val_loss: 0.2587 - val_accuracy: 0.9070\n",
      "Epoch 61/100\n",
      "375/375 [==============================] - 18s 49ms/step - loss: 0.3153 - accuracy: 0.8848 - val_loss: 0.2648 - val_accuracy: 0.9045\n",
      "Epoch 62/100\n",
      "375/375 [==============================] - 18s 48ms/step - loss: 0.3167 - accuracy: 0.8852 - val_loss: 0.2640 - val_accuracy: 0.9049\n",
      "Traing time: 0:20:38.421669\n"
     ]
    }
   ],
   "source": [
    "\n",
    "# define the callbacks\n",
    "\n",
    "callbacks = [EarlyStopping(monitor = 'val_loss', patience = 5)]\n",
    "\n",
    "t = now()\n",
    "history = fmnist_4.fit(datagen.flow(train_data_datagen,train_label_datagen, batch_size = 128),\n",
    "             steps_per_epoch = len(train_data_datagen)/128,\n",
    "             epochs = 100,\n",
    "             validation_data = (val_data_datagen, val_label_datagen),\n",
    "             callbacks = callbacks)\n",
    "print(f'Traing time: {now() - t}')"
   ]
  },
  {
   "cell_type": "markdown",
   "metadata": {
    "id": "DySQ23kJWd9l"
   },
   "source": [
    "Plot the accuracy and loss curves."
   ]
  },
  {
   "cell_type": "code",
   "execution_count": null,
   "metadata": {
    "colab": {
     "base_uri": "https://localhost:8080/",
     "height": 408
    },
    "executionInfo": {
     "elapsed": 695,
     "status": "ok",
     "timestamp": 1700087579888,
     "user": {
      "displayName": "Liyan Wang",
      "userId": "15329650402360340238"
     },
     "user_tz": 480
    },
    "id": "vJFu4-fvnZJF",
    "outputId": "4cd967ed-3ed0-4885-d58d-ed66529f24c6"
   },
   "outputs": [
    {
     "data": {
      "image/png": "[encoded data removed]",
      "text/plain": [
       "<Figure size 1200x400 with 2 Axes>"
      ]
     },
     "metadata": {},
     "output_type": "display_data"
    }
   ],
   "source": [
    "\n",
    "train_accuracy = history.history['accuracy']\n",
    "train_loss = history.history['loss']\n",
    "\n",
    "val_accuracy = history.history['val_accuracy']\n",
    "val_loss = history.history['val_loss']\n",
    "\n",
    "epochsn = np.arange(1, len(train_accuracy)+1, 1)\n",
    "\n",
    "plt.figure(figsize = (12,4))\n",
    "\n",
    "plt.subplot(1,2,1)\n",
    "plt.plot(epochsn, train_accuracy, 'b', label = 'train_accuracy')\n",
    "plt.plot(epochsn, val_accuracy, 'r', label = 'validation_accuracy')\n",
    "plt.xlabel('epochs')\n",
    "plt.ylabel('accuracy')\n",
    "plt.grid(color = 'grey', linestyle = '--')\n",
    "plt.title('Accuracy')\n",
    "plt.legend()\n",
    "\n",
    "plt.subplot(1,2,2)\n",
    "plt.plot(epochsn, train_loss, 'b', label = 'train_loss')\n",
    "plt.plot(epochsn, val_loss, 'r', label = 'validation_loss')\n",
    "plt.xlabel('epochs')\n",
    "plt.ylabel('loss')\n",
    "plt.grid(color = 'grey', linestyle = '--')\n",
    "plt.title('Loss')\n",
    "plt.legend()\n",
    "\n",
    "plt.show()"
   ]
  },
  {
   "cell_type": "markdown",
   "metadata": {
    "id": "1sGVVnyiWicV"
   },
   "source": [
    "Calculate the accuracy on the test dataset."
   ]
  },
  {
   "cell_type": "code",
   "execution_count": null,
   "metadata": {
    "colab": {
     "base_uri": "https://localhost:8080/"
    },
    "executionInfo": {
     "elapsed": 2890,
     "status": "ok",
     "timestamp": 1700087607853,
     "user": {
      "displayName": "Liyan Wang",
      "userId": "15329650402360340238"
     },
     "user_tz": 480
    },
    "id": "NSsyFZeWnc71",
    "outputId": "806786bc-5e98-42a7-f9b3-8e9ef7383d96"
   },
   "outputs": [
    {
     "name": "stdout",
     "output_type": "stream",
     "text": [
      "313/313 [==============================] - 1s 5ms/step - loss: 0.2795 - accuracy: 0.8964\n",
      "Test accuracy:     0.8964\n"
     ]
    }
   ],
   "source": [
    "\n",
    "\n",
    "evals_test = fmnist_4.evaluate(test_data, test_label_onehot_10)\n",
    "print(f'Test accuracy: {evals_test[1]:{10}.{6}}')"
   ]
  },
  {
   "cell_type": "markdown",
   "metadata": {
    "id": "kRxLTW5Rn8FR"
   },
   "source": [
    "## Part 6. Saving and Loading the Model \n",
    "\n",
    "Save the latest model."
   ]
  },
  {
   "cell_type": "code",
   "execution_count": null,
   "metadata": {
    "executionInfo": {
     "elapsed": 150,
     "status": "ok",
     "timestamp": 1700087612274,
     "user": {
      "displayName": "Liyan Wang",
      "userId": "15329650402360340238"
     },
     "user_tz": 480
    },
    "id": "qpkjFNILsFlQ"
   },
   "outputs": [],
   "source": [
    "\n",
    "fmnist_4.save('fmnist_4.keras')"
   ]
  },
  {
   "cell_type": "markdown",
   "metadata": {
    "id": "Rs4qZigAWqBt"
   },
   "source": [
    "Load the saved model and check if the accuracy on the test set matches the one calculated previously."
   ]
  },
  {
   "cell_type": "code",
   "execution_count": null,
   "metadata": {
    "colab": {
     "base_uri": "https://localhost:8080/"
    },
    "executionInfo": {
     "elapsed": 2745,
     "status": "ok",
     "timestamp": 1700087893614,
     "user": {
      "displayName": "Liyan Wang",
      "userId": "15329650402360340238"
     },
     "user_tz": 480
    },
    "id": "yA36HWmRsFnN",
    "outputId": "f1604681-310f-4203-fbd5-9b2ff4ba8ec6"
   },
   "outputs": [
    {
     "name": "stdout",
     "output_type": "stream",
     "text": [
      "313/313 [==============================] - 2s 5ms/step - loss: 0.2795 - accuracy: 0.8964\n",
      "Test accuracy:     0.8964\n"
     ]
    }
   ],
   "source": [
    "\n",
    "from keras.models import load_model\n",
    "\n",
    "fmnist_4_load = load_model('fmnist_4.keras')\n",
    "evals_test_fm4 = fmnist_4_load.evaluate(test_data, test_label_onehot_10)\n",
    "\n",
    "print(f'Test accuracy: {evals_test_fm4[1]: {10}.{6}}')"
   ]
  },
  {
   "cell_type": "markdown",
   "metadata": {
    "id": "eNrBeVP7Y19z"
   },
   "source": [
    "What is the total number of parameters of this model?"
   ]
  },
  {
   "cell_type": "code",
   "execution_count": null,
   "metadata": {
    "colab": {
     "base_uri": "https://localhost:8080/"
    },
    "executionInfo": {
     "elapsed": 177,
     "status": "ok",
     "timestamp": 1700087751035,
     "user": {
      "displayName": "Liyan Wang",
      "userId": "15329650402360340238"
     },
     "user_tz": 480
    },
    "id": "P3b4O5Lba7I3",
    "outputId": "2290f0d1-42fb-42ea-8368-f9fe4a310d25"
   },
   "outputs": [
    {
     "name": "stdout",
     "output_type": "stream",
     "text": [
      "Model: \"model_3\"\n",
      "_________________________________________________________________\n",
      " Layer (type)                Output Shape              Param #   \n",
      "=================================================================\n",
      " input_6 (InputLayer)        [(None, 28, 28, 1)]       0         \n",
      "                                                                 \n",
      " conv2d_18 (Conv2D)          (None, 28, 28, 32)        320       \n",
      "                                                                 \n",
      " conv2d_19 (Conv2D)          (None, 28, 28, 32)        9248      \n",
      "                                                                 \n",
      " batch_normalization (Batch  (None, 28, 28, 32)        128       \n",
      " Normalization)                                                  \n",
      "                                                                 \n",
      " max_pooling2d_9 (MaxPoolin  (None, 14, 14, 32)        0         \n",
      " g2D)                                                            \n",
      "                                                                 \n",
      " dropout_4 (Dropout)         (None, 14, 14, 32)        0         \n",
      "                                                                 \n",
      " conv2d_20 (Conv2D)          (None, 14, 14, 64)        18496     \n",
      "                                                                 \n",
      " conv2d_21 (Conv2D)          (None, 14, 14, 64)        36928     \n",
      "                                                                 \n",
      " batch_normalization_1 (Bat  (None, 14, 14, 64)        256       \n",
      " chNormalization)                                                \n",
      "                                                                 \n",
      " max_pooling2d_10 (MaxPooli  (None, 7, 7, 64)          0         \n",
      " ng2D)                                                           \n",
      "                                                                 \n",
      " dropout_5 (Dropout)         (None, 7, 7, 64)          0         \n",
      "                                                                 \n",
      " conv2d_22 (Conv2D)          (None, 7, 7, 128)         73856     \n",
      "                                                                 \n",
      " conv2d_23 (Conv2D)          (None, 7, 7, 128)         147584    \n",
      "                                                                 \n",
      " batch_normalization_2 (Bat  (None, 7, 7, 128)         512       \n",
      " chNormalization)                                                \n",
      "                                                                 \n",
      " max_pooling2d_11 (MaxPooli  (None, 3, 3, 128)         0         \n",
      " ng2D)                                                           \n",
      "                                                                 \n",
      " flatten_5 (Flatten)         (None, 1152)              0         \n",
      "                                                                 \n",
      " dense_12 (Dense)            (None, 128)               147584    \n",
      "                                                                 \n",
      " dropout_6 (Dropout)         (None, 128)               0         \n",
      "                                                                 \n",
      " dense_13 (Dense)            (None, 64)                8256      \n",
      "                                                                 \n",
      " dropout_7 (Dropout)         (None, 64)                0         \n",
      "                                                                 \n",
      " dense_14 (Dense)            (None, 10)                650       \n",
      "                                                                 \n",
      "=================================================================\n",
      "Total params: 443818 (1.69 MB)\n",
      "Trainable params: 443370 (1.69 MB)\n",
      "Non-trainable params: 448 (1.75 KB)\n",
      "_________________________________________________________________\n"
     ]
    }
   ],
   "source": [
    "\n",
    "fmnist_4.summary()"
   ]
  },
  {
   "cell_type": "markdown",
   "metadata": {
    "id": "oBc7fIifILrP"
   },
   "source": [
    "final model has 443818 parameters."
   ]
  }
 ],
 "metadata": {
  "accelerator": "GPU",
  "colab": {
   "gpuType": "T4",
   "provenance": []
  },
  "kernelspec": {
   "display_name": "Python 3",
   "name": "python3"
  },
  "language_info": {
   "codemirror_mode": {
    "name": "ipython",
    "version": 3
   },
   "file_extension": ".py",
   "mimetype": "text/x-python",
   "name": "python",
   "nbconvert_exporter": "python",
   "pygments_lexer": "ipython3",
   "version": "3.9.12"
  }
 },
 "nbformat": 4,
 "nbformat_minor": 0
}
